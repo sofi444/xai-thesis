{
 "cells": [
  {
   "cell_type": "markdown",
   "metadata": {},
   "source": [
    "# CommonseQA Dataset\n",
    "\n",
    "Here, I explore the CoQA dataset.\n",
    "\n",
    "+ data comes with a weird nesting - flatten\n",
    "+ the quality is questionable... consider filtering"
   ]
  },
  {
   "attachments": {},
   "cell_type": "markdown",
   "metadata": {},
   "source": [
    "Current DIR is parallel to module DIR >> make module visible >> make it possible to import module"
   ]
  },
  {
   "cell_type": "code",
   "execution_count": 22,
   "metadata": {},
   "outputs": [],
   "source": [
    "import sys\n",
    "sys.path.append('../')"
   ]
  },
  {
   "cell_type": "code",
   "execution_count": 25,
   "metadata": {},
   "outputs": [
    {
     "name": "stderr",
     "output_type": "stream",
     "text": [
      "WARNING:root:There are multiple 'dev' files; using .gz file\n"
     ]
    }
   ],
   "source": [
    "from utils.data import load_data\n",
    "\n",
    "data = load_data(split='dev')"
   ]
  },
  {
   "cell_type": "code",
   "execution_count": 26,
   "metadata": {},
   "outputs": [
    {
     "name": "stdout",
     "output_type": "stream",
     "text": [
      "{'answerKey': 'A',\n",
      " 'id': '1afa02df02c908a558b4036e80242fac',\n",
      " 'question': {'choices': [{'label': 'A', 'text': 'bank'},\n",
      "                          {'label': 'B', 'text': 'library'},\n",
      "                          {'label': 'C', 'text': 'department store'},\n",
      "                          {'label': 'D', 'text': 'mall'},\n",
      "                          {'label': 'E', 'text': 'new york'}],\n",
      "              'question_concept': 'revolving door',\n",
      "              'stem': 'A revolving door is convenient for two direction '\n",
      "                      'travel, but it also serves as a security measure at a '\n",
      "                      'what?'}}\n"
     ]
    }
   ],
   "source": [
    "import pprint\n",
    "\n",
    "pprint.pprint(data[0])"
   ]
  },
  {
   "cell_type": "code",
   "execution_count": 29,
   "metadata": {},
   "outputs": [
    {
     "data": {
      "text/plain": [
       "list"
      ]
     },
     "execution_count": 29,
     "metadata": {},
     "output_type": "execute_result"
    }
   ],
   "source": [
    "type(data)"
   ]
  },
  {
   "cell_type": "code",
   "execution_count": 30,
   "metadata": {},
   "outputs": [
    {
     "data": {
      "text/plain": [
       "dict"
      ]
     },
     "execution_count": 30,
     "metadata": {},
     "output_type": "execute_result"
    }
   ],
   "source": [
    "type(data[0])"
   ]
  },
  {
   "cell_type": "code",
   "execution_count": 32,
   "metadata": {},
   "outputs": [
    {
     "name": "stdout",
     "output_type": "stream",
     "text": [
      "{'answerKey': 'A',\n",
      " 'choice_A': 'bank',\n",
      " 'choice_B': 'library',\n",
      " 'choice_C': 'department store',\n",
      " 'choice_D': 'mall',\n",
      " 'choice_E': 'new york',\n",
      " 'id': '1afa02df02c908a558b4036e80242fac',\n",
      " 'question_concept': 'revolving door',\n",
      " 'stem': 'A revolving door is convenient for two direction travel, but it also '\n",
      "         'serves as a security measure at a what?'}\n"
     ]
    }
   ],
   "source": [
    "data_flat = []\n",
    "\n",
    "for instance in data:\n",
    "    instance_flat = {}\n",
    "    for k,v in instance.items():\n",
    "        if isinstance(v, dict):\n",
    "            for inner_k, inner_v in v.items():\n",
    "                if isinstance(inner_v, list):\n",
    "                    for choice in inner_v:\n",
    "                        letter = choice['label']\n",
    "                        instance_flat[f\"choice_{letter}\"] = choice['text']\n",
    "                else:\n",
    "                    instance_flat[inner_k] = inner_v\n",
    "        else:\n",
    "            instance_flat[k] = v\n",
    "            \n",
    "    data_flat.append(instance_flat)\n",
    "\n",
    "pprint.pprint(data_flat[0])\n"
   ]
  },
  {
   "cell_type": "code",
   "execution_count": 33,
   "metadata": {},
   "outputs": [
    {
     "data": {
      "text/html": [
       "<div>\n",
       "<style scoped>\n",
       "    .dataframe tbody tr th:only-of-type {\n",
       "        vertical-align: middle;\n",
       "    }\n",
       "\n",
       "    .dataframe tbody tr th {\n",
       "        vertical-align: top;\n",
       "    }\n",
       "\n",
       "    .dataframe thead th {\n",
       "        text-align: right;\n",
       "    }\n",
       "</style>\n",
       "<table border=\"1\" class=\"dataframe\">\n",
       "  <thead>\n",
       "    <tr style=\"text-align: right;\">\n",
       "      <th></th>\n",
       "      <th>answerKey</th>\n",
       "      <th>id</th>\n",
       "      <th>question_concept</th>\n",
       "      <th>choice_A</th>\n",
       "      <th>choice_B</th>\n",
       "      <th>choice_C</th>\n",
       "      <th>choice_D</th>\n",
       "      <th>choice_E</th>\n",
       "      <th>stem</th>\n",
       "    </tr>\n",
       "  </thead>\n",
       "  <tbody>\n",
       "    <tr>\n",
       "      <th>0</th>\n",
       "      <td>A</td>\n",
       "      <td>1afa02df02c908a558b4036e80242fac</td>\n",
       "      <td>revolving door</td>\n",
       "      <td>bank</td>\n",
       "      <td>library</td>\n",
       "      <td>department store</td>\n",
       "      <td>mall</td>\n",
       "      <td>new york</td>\n",
       "      <td>A revolving door is convenient for two directi...</td>\n",
       "    </tr>\n",
       "    <tr>\n",
       "      <th>1</th>\n",
       "      <td>A</td>\n",
       "      <td>a7ab086045575bb497933726e4e6ad28</td>\n",
       "      <td>people</td>\n",
       "      <td>complete job</td>\n",
       "      <td>learn from each other</td>\n",
       "      <td>kill animals</td>\n",
       "      <td>wear hats</td>\n",
       "      <td>talk to each other</td>\n",
       "      <td>What do people aim to do at work?</td>\n",
       "    </tr>\n",
       "    <tr>\n",
       "      <th>2</th>\n",
       "      <td>B</td>\n",
       "      <td>b8c0a4703079cf661d7261a60a1bcbff</td>\n",
       "      <td>magazines</td>\n",
       "      <td>doctor</td>\n",
       "      <td>bookstore</td>\n",
       "      <td>market</td>\n",
       "      <td>train station</td>\n",
       "      <td>mortuary</td>\n",
       "      <td>Where would you find magazines along side many...</td>\n",
       "    </tr>\n",
       "    <tr>\n",
       "      <th>3</th>\n",
       "      <td>A</td>\n",
       "      <td>e68fb2448fd74e402aae9982aa76e527</td>\n",
       "      <td>hamburger</td>\n",
       "      <td>fast food restaurant</td>\n",
       "      <td>pizza</td>\n",
       "      <td>ground up dead cows</td>\n",
       "      <td>mouth</td>\n",
       "      <td>cow carcus</td>\n",
       "      <td>Where are  you likely to find a hamburger?</td>\n",
       "    </tr>\n",
       "    <tr>\n",
       "      <th>4</th>\n",
       "      <td>A</td>\n",
       "      <td>2435de612dd69f2012b9e40d6af4ce38</td>\n",
       "      <td>farmland</td>\n",
       "      <td>midwest</td>\n",
       "      <td>countryside</td>\n",
       "      <td>estate</td>\n",
       "      <td>farming areas</td>\n",
       "      <td>illinois</td>\n",
       "      <td>James was looking for a good place to buy farm...</td>\n",
       "    </tr>\n",
       "  </tbody>\n",
       "</table>\n",
       "</div>"
      ],
      "text/plain": [
       "  answerKey                                id question_concept  \\\n",
       "0         A  1afa02df02c908a558b4036e80242fac   revolving door   \n",
       "1         A  a7ab086045575bb497933726e4e6ad28           people   \n",
       "2         B  b8c0a4703079cf661d7261a60a1bcbff        magazines   \n",
       "3         A  e68fb2448fd74e402aae9982aa76e527        hamburger   \n",
       "4         A  2435de612dd69f2012b9e40d6af4ce38         farmland   \n",
       "\n",
       "               choice_A               choice_B             choice_C  \\\n",
       "0                  bank                library     department store   \n",
       "1          complete job  learn from each other         kill animals   \n",
       "2                doctor              bookstore               market   \n",
       "3  fast food restaurant                  pizza  ground up dead cows   \n",
       "4               midwest            countryside               estate   \n",
       "\n",
       "        choice_D            choice_E  \\\n",
       "0           mall            new york   \n",
       "1      wear hats  talk to each other   \n",
       "2  train station            mortuary   \n",
       "3          mouth          cow carcus   \n",
       "4  farming areas            illinois   \n",
       "\n",
       "                                                stem  \n",
       "0  A revolving door is convenient for two directi...  \n",
       "1                  What do people aim to do at work?  \n",
       "2  Where would you find magazines along side many...  \n",
       "3         Where are  you likely to find a hamburger?  \n",
       "4  James was looking for a good place to buy farm...  "
      ]
     },
     "execution_count": 33,
     "metadata": {},
     "output_type": "execute_result"
    }
   ],
   "source": [
    "import pandas as pd\n",
    "\n",
    "df = pd.DataFrame(data_flat)\n",
    "df.head()"
   ]
  }
 ],
 "metadata": {
  "kernelspec": {
   "display_name": "thesis-venv",
   "language": "python",
   "name": "python3"
  },
  "language_info": {
   "codemirror_mode": {
    "name": "ipython",
    "version": 3
   },
   "file_extension": ".py",
   "mimetype": "text/x-python",
   "name": "python",
   "nbconvert_exporter": "python",
   "pygments_lexer": "ipython3",
   "version": "3.10.10"
  },
  "orig_nbformat": 4
 },
 "nbformat": 4,
 "nbformat_minor": 2
}
