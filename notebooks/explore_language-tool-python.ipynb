{
 "cells": [
  {
   "attachments": {},
   "cell_type": "markdown",
   "metadata": {},
   "source": [
    "## language-tool-python\n",
    "\n",
    "+ requires Java\n",
    "+ catches grammatical errors, but not bad order or non-sense"
   ]
  },
  {
   "cell_type": "code",
   "execution_count": null,
   "metadata": {},
   "outputs": [],
   "source": [
    "!pip install language-tool-python"
   ]
  },
  {
   "cell_type": "code",
   "execution_count": 4,
   "metadata": {},
   "outputs": [
    {
     "name": "stderr",
     "output_type": "stream",
     "text": [
      "Downloading LanguageTool 5.7: 100%|██████████| 225M/225M [01:19<00:00, 2.82MB/s] \n",
      "Unzipping /var/folders/bd/y8k3lsb11hxgwp658gdf4m4h0000gn/T/tmpya9hjl9p.zip to /Users/q616967/.cache/language_tool_python.\n",
      "Downloaded https://www.languagetool.org/download/LanguageTool-5.7.zip to /Users/q616967/.cache/language_tool_python.\n"
     ]
    }
   ],
   "source": [
    "import language_tool_python\n",
    "\n",
    "# starts a server (locally)\n",
    "tool = language_tool_python.LanguageTool('en-US')"
   ]
  },
  {
   "cell_type": "code",
   "execution_count": 13,
   "metadata": {},
   "outputs": [],
   "source": [
    "good_sentence = \"I really like dogs, especially the small ones.\"\n",
    "bad_sentence = \"If you like dogs, you will like where sun\"\n",
    "agreement_sentence = \"I likes dogs, the especially ones small.\""
   ]
  },
  {
   "cell_type": "code",
   "execution_count": 14,
   "metadata": {},
   "outputs": [
    {
     "data": {
      "text/plain": [
       "[Match({'ruleId': 'BASE_FORM', 'message': 'Possible agreement error — use the base form here.', 'replacements': ['like'], 'offsetInContext': 2, 'context': 'I likes dogs, the especially ones small.', 'offset': 2, 'errorLength': 5, 'category': 'GRAMMAR', 'ruleIssueType': 'grammar', 'sentence': 'I likes dogs, the especially ones small.'}),\n",
       " Match({'ruleId': 'ONES', 'message': \"Did you mean “one's”?\", 'replacements': [\"one's\"], 'offsetInContext': 29, 'context': 'I likes dogs, the especially ones small.', 'offset': 29, 'errorLength': 4, 'category': 'TYPOS', 'ruleIssueType': 'typographical', 'sentence': 'I likes dogs, the especially ones small.'})]"
      ]
     },
     "execution_count": 14,
     "metadata": {},
     "output_type": "execute_result"
    }
   ],
   "source": [
    "tool.check(agreement_sentence)"
   ]
  },
  {
   "cell_type": "code",
   "execution_count": 15,
   "metadata": {},
   "outputs": [],
   "source": [
    "# close the server\n",
    "tool.close() # explicitly shut off the LanguageTool\n",
    "\n",
    "# also:\n",
    "#with language_tool_python.LanguageTool('de-DE') as tool:\n",
    "  # do stuff with `tool`\n",
    "# no need to call `close() as it will happen at the end of the with statement\n"
   ]
  },
  {
   "cell_type": "code",
   "execution_count": null,
   "metadata": {},
   "outputs": [],
   "source": []
  }
 ],
 "metadata": {
  "kernelspec": {
   "display_name": ".venv",
   "language": "python",
   "name": "python3"
  },
  "language_info": {
   "codemirror_mode": {
    "name": "ipython",
    "version": 3
   },
   "file_extension": ".py",
   "mimetype": "text/x-python",
   "name": "python",
   "nbconvert_exporter": "python",
   "pygments_lexer": "ipython3",
   "version": "3.10.10"
  },
  "orig_nbformat": 4
 },
 "nbformat": 4,
 "nbformat_minor": 2
}
