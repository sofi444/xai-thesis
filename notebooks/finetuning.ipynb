{
 "cells": [
  {
   "cell_type": "markdown",
   "metadata": {},
   "source": [
    "# Fine-tuning"
   ]
  },
  {
   "cell_type": "code",
   "execution_count": 2,
   "metadata": {},
   "outputs": [],
   "source": [
    "!export \"CUDA_VISIBLE_DEVICES\"=1 jupyter notebook"
   ]
  },
  {
   "cell_type": "code",
   "execution_count": 3,
   "metadata": {},
   "outputs": [],
   "source": [
    "import os\n",
    "import pandas as pd\n",
    "import numpy as np\n",
    "import pprint as pp\n",
    "\n",
    "import torch\n",
    "from sklearn.model_selection import train_test_split\n",
    "from transformers import AutoConfig, AutoTokenizer, AutoModelForSequenceClassification, Trainer, TrainingArguments\n",
    "from transformers import set_seed"
   ]
  },
  {
   "cell_type": "code",
   "execution_count": 4,
   "metadata": {},
   "outputs": [
    {
     "data": {
      "text/plain": [
       "device(type='cuda', index=1)"
      ]
     },
     "execution_count": 4,
     "metadata": {},
     "output_type": "execute_result"
    }
   ],
   "source": [
    "device = torch.device('cuda:1' if torch.cuda.is_available() else 'cpu')\n",
    "#device = torch.device('mps')\n",
    "device"
   ]
  },
  {
   "cell_type": "code",
   "execution_count": 5,
   "metadata": {},
   "outputs": [
    {
     "name": "stderr",
     "output_type": "stream",
     "text": [
      "Some weights of the model checkpoint at distilbert-base-uncased were not used when initializing DistilBertForSequenceClassification: ['vocab_transform.bias', 'vocab_layer_norm.weight', 'vocab_projector.bias', 'vocab_transform.weight', 'vocab_layer_norm.bias']\n",
      "- This IS expected if you are initializing DistilBertForSequenceClassification from the checkpoint of a model trained on another task or with another architecture (e.g. initializing a BertForSequenceClassification model from a BertForPreTraining model).\n",
      "- This IS NOT expected if you are initializing DistilBertForSequenceClassification from the checkpoint of a model that you expect to be exactly identical (initializing a BertForSequenceClassification model from a BertForSequenceClassification model).\n",
      "Some weights of DistilBertForSequenceClassification were not initialized from the model checkpoint at distilbert-base-uncased and are newly initialized: ['pre_classifier.bias', 'classifier.weight', 'classifier.bias', 'pre_classifier.weight']\n",
      "You should probably TRAIN this model on a down-stream task to be able to use it for predictions and inference.\n"
     ]
    },
    {
     "data": {
      "text/plain": [
       "DistilBertForSequenceClassification(\n",
       "  (distilbert): DistilBertModel(\n",
       "    (embeddings): Embeddings(\n",
       "      (word_embeddings): Embedding(30522, 768, padding_idx=0)\n",
       "      (position_embeddings): Embedding(512, 768)\n",
       "      (LayerNorm): LayerNorm((768,), eps=1e-12, elementwise_affine=True)\n",
       "      (dropout): Dropout(p=0.1, inplace=False)\n",
       "    )\n",
       "    (transformer): Transformer(\n",
       "      (layer): ModuleList(\n",
       "        (0-5): 6 x TransformerBlock(\n",
       "          (attention): MultiHeadSelfAttention(\n",
       "            (dropout): Dropout(p=0.1, inplace=False)\n",
       "            (q_lin): Linear(in_features=768, out_features=768, bias=True)\n",
       "            (k_lin): Linear(in_features=768, out_features=768, bias=True)\n",
       "            (v_lin): Linear(in_features=768, out_features=768, bias=True)\n",
       "            (out_lin): Linear(in_features=768, out_features=768, bias=True)\n",
       "          )\n",
       "          (sa_layer_norm): LayerNorm((768,), eps=1e-12, elementwise_affine=True)\n",
       "          (ffn): FFN(\n",
       "            (dropout): Dropout(p=0.1, inplace=False)\n",
       "            (lin1): Linear(in_features=768, out_features=3072, bias=True)\n",
       "            (lin2): Linear(in_features=3072, out_features=768, bias=True)\n",
       "            (activation): GELUActivation()\n",
       "          )\n",
       "          (output_layer_norm): LayerNorm((768,), eps=1e-12, elementwise_affine=True)\n",
       "        )\n",
       "      )\n",
       "    )\n",
       "  )\n",
       "  (pre_classifier): Linear(in_features=768, out_features=768, bias=True)\n",
       "  (classifier): Linear(in_features=768, out_features=2, bias=True)\n",
       "  (dropout): Dropout(p=0.2, inplace=False)\n",
       ")"
      ]
     },
     "execution_count": 5,
     "metadata": {},
     "output_type": "execute_result"
    }
   ],
   "source": [
    "set_seed(1)\n",
    "label_mapping = {'False': 0, 'True': 1}\n",
    "\n",
    "model_name = 'distilbert-base-uncased'\n",
    "model_config = AutoConfig.from_pretrained(model_name, num_labels=2)\n",
    "tokenizer = AutoTokenizer.from_pretrained(model_name)\n",
    "model = AutoModelForSequenceClassification.from_pretrained(model_name, config=model_config)\n",
    "\n",
    "model.to(device)"
   ]
  },
  {
   "cell_type": "markdown",
   "metadata": {},
   "source": [
    "## Data"
   ]
  },
  {
   "cell_type": "code",
   "execution_count": 6,
   "metadata": {},
   "outputs": [],
   "source": [
    "PROJECT_DIR = os.path.abspath(os.path.join(os.getcwd(), os.pardir))\n",
    "RESPONSES_DIR = os.path.join(PROJECT_DIR, 'responses')\n",
    "MODELS_DIR = os.path.join(PROJECT_DIR, 'classification/models')\n",
    "OUTPUT_DIR = os.path.join(PROJECT_DIR, 'classification/preds')\n",
    "LOGS_DIR = os.path.join(PROJECT_DIR, 'logs')\n",
    "\n",
    "responses_path = os.path.join(RESPONSES_DIR, 'formatted_turbo14081857_turbo1508_eval.json')"
   ]
  },
  {
   "cell_type": "code",
   "execution_count": 7,
   "metadata": {},
   "outputs": [
    {
     "data": {
      "text/html": [
       "<div>\n",
       "<style scoped>\n",
       "    .dataframe tbody tr th:only-of-type {\n",
       "        vertical-align: middle;\n",
       "    }\n",
       "\n",
       "    .dataframe tbody tr th {\n",
       "        vertical-align: top;\n",
       "    }\n",
       "\n",
       "    .dataframe thead th {\n",
       "        text-align: right;\n",
       "    }\n",
       "</style>\n",
       "<table border=\"1\" class=\"dataframe\">\n",
       "  <thead>\n",
       "    <tr style=\"text-align: right;\">\n",
       "      <th></th>\n",
       "      <th>full_text</th>\n",
       "      <th>outcome</th>\n",
       "    </tr>\n",
       "  </thead>\n",
       "  <tbody>\n",
       "    <tr>\n",
       "      <th>0</th>\n",
       "      <td>Revolving doors are convenient for two-directi...</td>\n",
       "      <td>True</td>\n",
       "    </tr>\n",
       "    <tr>\n",
       "      <th>1</th>\n",
       "      <td>A) Completing the job is one aim that people h...</td>\n",
       "      <td>False</td>\n",
       "    </tr>\n",
       "    <tr>\n",
       "      <th>2</th>\n",
       "      <td>First, we need to identify what type of printe...</td>\n",
       "      <td>True</td>\n",
       "    </tr>\n",
       "    <tr>\n",
       "      <th>3</th>\n",
       "      <td>- A fast food restaurant is a common place to ...</td>\n",
       "      <td>True</td>\n",
       "    </tr>\n",
       "    <tr>\n",
       "      <th>4</th>\n",
       "      <td>First, James is looking for farmland, which su...</td>\n",
       "      <td>False</td>\n",
       "    </tr>\n",
       "    <tr>\n",
       "      <th>...</th>\n",
       "      <td>...</td>\n",
       "      <td>...</td>\n",
       "    </tr>\n",
       "    <tr>\n",
       "      <th>695</th>\n",
       "      <td>First, we can eliminate options A, C, and D as...</td>\n",
       "      <td>False</td>\n",
       "    </tr>\n",
       "    <tr>\n",
       "      <th>696</th>\n",
       "      <td>First, we need to identify what kind of lawyer...</td>\n",
       "      <td>True</td>\n",
       "    </tr>\n",
       "    <tr>\n",
       "      <th>697</th>\n",
       "      <td>James bought a new set of tire chains. Tire ch...</td>\n",
       "      <td>True</td>\n",
       "    </tr>\n",
       "    <tr>\n",
       "      <th>698</th>\n",
       "      <td>The question states that the food item needs t...</td>\n",
       "      <td>False</td>\n",
       "    </tr>\n",
       "    <tr>\n",
       "      <th>699</th>\n",
       "      <td>Ficus is a type of tree that can provide shade...</td>\n",
       "      <td>True</td>\n",
       "    </tr>\n",
       "  </tbody>\n",
       "</table>\n",
       "<p>700 rows × 2 columns</p>\n",
       "</div>"
      ],
      "text/plain": [
       "                                             full_text  outcome\n",
       "0    Revolving doors are convenient for two-directi...     True\n",
       "1    A) Completing the job is one aim that people h...    False\n",
       "2    First, we need to identify what type of printe...     True\n",
       "3    - A fast food restaurant is a common place to ...     True\n",
       "4    First, James is looking for farmland, which su...    False\n",
       "..                                                 ...      ...\n",
       "695  First, we can eliminate options A, C, and D as...    False\n",
       "696  First, we need to identify what kind of lawyer...     True\n",
       "697  James bought a new set of tire chains. Tire ch...     True\n",
       "698  The question states that the food item needs t...    False\n",
       "699  Ficus is a type of tree that can provide shade...     True\n",
       "\n",
       "[700 rows x 2 columns]"
      ]
     },
     "execution_count": 7,
     "metadata": {},
     "output_type": "execute_result"
    }
   ],
   "source": [
    "data_df = pd.read_json(responses_path, orient='index').drop(columns=['answer_letter', 'answer_text', 'ERROR'])\n",
    "data_df"
   ]
  },
  {
   "cell_type": "code",
   "execution_count": 8,
   "metadata": {},
   "outputs": [
    {
     "data": {
      "text/plain": [
       "((560, 2), (70, 2), (70, 2))"
      ]
     },
     "execution_count": 8,
     "metadata": {},
     "output_type": "execute_result"
    }
   ],
   "source": [
    "train, tmp = train_test_split(data_df, test_size=0.2, random_state=42)\n",
    "val, test = train_test_split(tmp, test_size=0.5, random_state=42)\n",
    "train.shape, val.shape, test.shape"
   ]
  },
  {
   "cell_type": "code",
   "execution_count": 9,
   "metadata": {},
   "outputs": [
    {
     "data": {
      "text/plain": [
       "DatasetDict({\n",
       "    train: Dataset({\n",
       "        features: ['full_text', 'outcome', '__index_level_0__'],\n",
       "        num_rows: 560\n",
       "    })\n",
       "    validation: Dataset({\n",
       "        features: ['full_text', 'outcome', '__index_level_0__'],\n",
       "        num_rows: 70\n",
       "    })\n",
       "    test: Dataset({\n",
       "        features: ['full_text', 'outcome', '__index_level_0__'],\n",
       "        num_rows: 70\n",
       "    })\n",
       "})"
      ]
     },
     "execution_count": 9,
     "metadata": {},
     "output_type": "execute_result"
    }
   ],
   "source": [
    "from datasets import Dataset, DatasetDict\n",
    "\n",
    "raw_datasets = DatasetDict({'train': Dataset.from_pandas(train),\n",
    "                            'validation': Dataset.from_pandas(val), \n",
    "                            'test': Dataset.from_pandas(test)})\n",
    "raw_datasets"
   ]
  },
  {
   "cell_type": "code",
   "execution_count": 10,
   "metadata": {},
   "outputs": [],
   "source": [
    "for key in raw_datasets.keys():\n",
    "    raw_datasets[key] = raw_datasets[key].rename_column(\"outcome\", \"label\")\n",
    "    raw_datasets[key] = raw_datasets[key].rename_column(\"__index_level_0__\", \"pandas_idx\")"
   ]
  },
  {
   "cell_type": "code",
   "execution_count": 11,
   "metadata": {},
   "outputs": [
    {
     "data": {
      "text/plain": [
       "{'full_text': 'Option A is a possible answer because the Amazon basin is known to have a diverse range of primates, including monkeys. However, we cannot be sure that it is home to the most monkeys without further information.\\n\\nOption B, C, and D are unlikely answers because they are not large land masses that can support a significant population of monkeys.\\n\\nOption E is also a possible answer because Africa is home to several species of monkeys, including baboons, vervet monkeys, and colobus monkeys. However, we still cannot be certain that it is home to the most monkeys without more information.\\n\\nTherefore, the answer is inconclusive without more specific data.',\n",
       " 'label': False,\n",
       " 'pandas_idx': 82}"
      ]
     },
     "execution_count": 11,
     "metadata": {},
     "output_type": "execute_result"
    }
   ],
   "source": [
    "raw_datasets['train'][0]"
   ]
  },
  {
   "cell_type": "code",
   "execution_count": 12,
   "metadata": {},
   "outputs": [],
   "source": [
    "def tokenize_and_mask(raw_data):\n",
    "\n",
    "    '''Tokenize\n",
    "    Normal padding: set padding='max_length' and max_length=int (default is 512)\n",
    "    Dynamic padding: set padding=False and (later in the Trainer) pass `data_collator=DataCollatorWithPadding(tokenizer)\n",
    "    result will be a dict with keys 'input_ids', 'attention_mask'\n",
    "    '''\n",
    "    result = tokenizer(raw_data[\"full_text\"],\n",
    "                       max_length=512,\n",
    "                       truncation=True,\n",
    "                       #padding='max_length'\n",
    "                       )\n",
    "\n",
    "    '''Add labels'''\n",
    "    if label_mapping is not None:\n",
    "        if \"label\" in raw_data:\n",
    "            result['labels'] = [label_mapping[str(label)] for label in raw_data[\"label\"]]\n",
    "    \n",
    "    return result"
   ]
  },
  {
   "cell_type": "code",
   "execution_count": 13,
   "metadata": {},
   "outputs": [
    {
     "name": "stdout",
     "output_type": "stream",
     "text": [
      "3 5 5 5\n",
      "[0, 0, 1, 0, 0]\n",
      "[82, 51, 220, 669, 545]\n",
      "full_text    Injecting water into oneself can lead to dilut...\n",
      "outcome                                                  False\n",
      "Name: 545, dtype: object\n"
     ]
    }
   ],
   "source": [
    "'''Sanity check'''\n",
    "\n",
    "processed_test = tokenize_and_mask(raw_datasets['train'][:5])\n",
    "\n",
    "print(len(processed_test), # keys\n",
    "      len(processed_test['input_ids']), \n",
    "      len(processed_test['attention_mask']), \n",
    "      len(processed_test['labels']))\n",
    "print(processed_test['labels'][:5])\n",
    "print(raw_datasets['train']['pandas_idx'][:5])\n",
    "print(data_df.loc[545])"
   ]
  },
  {
   "cell_type": "code",
   "execution_count": 14,
   "metadata": {},
   "outputs": [
    {
     "data": {
      "application/vnd.jupyter.widget-view+json": {
       "model_id": "7e5dbd8c161143698267826a7abd5b20",
       "version_major": 2,
       "version_minor": 0
      },
      "text/plain": [
       "Map:   0%|          | 0/560 [00:00<?, ? examples/s]"
      ]
     },
     "metadata": {},
     "output_type": "display_data"
    },
    {
     "data": {
      "application/vnd.jupyter.widget-view+json": {
       "model_id": "1d46dae408f643618bf8d32b9e969ed0",
       "version_major": 2,
       "version_minor": 0
      },
      "text/plain": [
       "Map:   0%|          | 0/70 [00:00<?, ? examples/s]"
      ]
     },
     "metadata": {},
     "output_type": "display_data"
    },
    {
     "data": {
      "application/vnd.jupyter.widget-view+json": {
       "model_id": "e2ccbb2222474e1292af3245943fcbf2",
       "version_major": 2,
       "version_minor": 0
      },
      "text/plain": [
       "Map:   0%|          | 0/70 [00:00<?, ? examples/s]"
      ]
     },
     "metadata": {},
     "output_type": "display_data"
    }
   ],
   "source": [
    "'''Prepare inputs: tokenize and mask'''\n",
    "datasets = raw_datasets.map(tokenize_and_mask, batched=True)"
   ]
  },
  {
   "cell_type": "code",
   "execution_count": 15,
   "metadata": {},
   "outputs": [
    {
     "data": {
      "text/plain": [
       "DatasetDict({\n",
       "    train: Dataset({\n",
       "        features: ['full_text', 'label', 'pandas_idx', 'input_ids', 'attention_mask', 'labels'],\n",
       "        num_rows: 560\n",
       "    })\n",
       "    validation: Dataset({\n",
       "        features: ['full_text', 'label', 'pandas_idx', 'input_ids', 'attention_mask', 'labels'],\n",
       "        num_rows: 70\n",
       "    })\n",
       "    test: Dataset({\n",
       "        features: ['full_text', 'label', 'pandas_idx', 'input_ids', 'attention_mask', 'labels'],\n",
       "        num_rows: 70\n",
       "    })\n",
       "})"
      ]
     },
     "execution_count": 15,
     "metadata": {},
     "output_type": "execute_result"
    }
   ],
   "source": [
    "datasets"
   ]
  },
  {
   "cell_type": "code",
   "execution_count": 16,
   "metadata": {},
   "outputs": [
    {
     "name": "stdout",
     "output_type": "stream",
     "text": [
      "{'from_split': 'train',\n",
      " 'length': 343,\n",
      " 'orig_idx': 349,\n",
      " 'orig_text': 'First, we need to consider what type of lizard we want as a '\n",
      "              'pet. Different types of lizards have different requirements for '\n",
      "              \"their care and living conditions. Once we've decided on the \"\n",
      "              'type of lizard w...',\n",
      " 'tokenized_sequence': [101, 2034, 1010, 2057, 2342, 2000, 5136, 2054, 2828,\n",
      "                        1997, 15450, 2057, 2215, 2004, 1037, 9004, 1012, 2367,\n",
      "                        4127, 1997, 23898, 2031, 2367, 5918, 2005, 2037, 2729,\n",
      "                        1998, 2542, 3785, 1012, 2320, 2057, 1005, 2310, 2787,\n",
      "                        2006, 1996, 2828, 1997, 15450, 2057, 2215, 1010, 2057,\n",
      "                        2064, 2059, 2298, 2005, 3182, 2000, 6855, 2009, 1012,\n",
      "                        5724, 1037, 1007, 5532, 2406, 1024, 2023, 2071, 2022,\n",
      "                        1037, 2825, 3295, 2000, 6855, 1037, 15450, 1010, 5834,\n",
      "                        2006, 1996, 2828, 1997, 15450, 2057, 2215, 1012, 2005,\n",
      "                        2742, 1010, 2065, 2057, 2215, 1037, 23905, 5202, 1010,\n",
      "                        2029, 2003, 3128, 2000, 2660, 1010, 2057, 2071, 3046,\n",
      "                        2000, 2424, 1037, 8843, 2121, 2030, 9004, 3573, 1999,\n",
      "                        2660, 2030, 2178, 5532, 2406, 2073, 2027, 2024, 4141,\n",
      "                        2179, 1012, 5724, 1038, 1007, 18064, 1024, 2023, 2003,\n",
      "                        2025, 1037, 14874, 5724, 2005, 11381, 1037, 15450, 2004,\n",
      "                        2009, 2003, 1037, 2828, 1997, 2833, 1010, 2025, 1037,\n",
      "                        2173, 2000, 2424, 1037, 9004, 1012, 5724, 1039, 1007,\n",
      "                        9004, 4497, 1024, 2023, 2003, 1037, 2691, 2173, 2000,\n",
      "                        2424, 23898, 2004, 18551, 1012, 2116, 9004, 5324, 4287,\n",
      "                        1037, 3528, 1997, 20978, 1010, 2164, 23898, 1012, 2174,\n",
      "                        1010, 2057, 2323, 2191, 2469, 2000, 2470, 1996, 3563,\n",
      "                        3791, 1997, 1996, 2828, 1997, 15450, 2057, 2215, 2077,\n",
      "                        13131, 2009, 2013, 1037, 9004, 3573, 1012, 5724, 1040,\n",
      "                        1007, 5133, 2752, 1024, 2023, 2071, 2036, 2022, 1037,\n",
      "                        2825, 3295, 2000, 6855, 1037, 15450, 1010, 5834, 2006,\n",
      "                        1996, 2828, 1997, 15450, 2057, 2215, 1012, 2005, 2742,\n",
      "                        1010, 2065, 2057, 2215, 1037, 16216, 19665, 1010, 2029,\n",
      "                        2003, 4141, 2179, 1999, 5133, 2752, 1010, 2057, 2071,\n",
      "                        3046, 2000, 2424, 1037, 8843, 2121, 2030, 9004, 3573,\n",
      "                        1999, 1037, 5133, 3295, 1012, 5724, 1041, 1007, 9201,\n",
      "                        1024, 9201, 2015, 2079, 2025, 4050, 5271, 4176, 2004,\n",
      "                        18551, 1010, 2061, 2023, 2003, 2025, 1037, 14874, 5724,\n",
      "                        2005, 11381, 1037, 15450, 1012, 2174, 1010, 2057, 2071,\n",
      "                        3942, 1037, 9201, 2000, 11949, 2367, 4127, 1997, 23898,\n",
      "                        1998, 2131, 2019, 2801, 1997, 2054, 2828, 1997, 15450,\n",
      "                        2057, 2453, 2215, 2000, 2562, 2004, 1037, 9004, 1012,\n",
      "                        3568, 1010, 1996, 2190, 5724, 2005, 11381, 1037, 15450,\n",
      "                        2004, 1037, 9004, 2003, 1039, 1007, 9004, 4497, 1012,\n",
      "                        102]}\n"
     ]
    }
   ],
   "source": [
    "'''Checking what is the longest sequence in the dataset'''\n",
    "\n",
    "import pprint as pp\n",
    "\n",
    "maxlen = 0\n",
    "maxlen_info = None\n",
    "\n",
    "for split in ['train', 'validation', 'test']:\n",
    "    for tokenized_sequence in datasets[split]['input_ids']:\n",
    "        if len(tokenized_sequence) > maxlen:\n",
    "            maxlen = len(tokenized_sequence)\n",
    "            tmp_idx = datasets[split]['input_ids'].index(tokenized_sequence)\n",
    "            maxlen_info = {\n",
    "                'tokenized_sequence': tokenized_sequence,\n",
    "                'length': maxlen,\n",
    "                'from_split': split,\n",
    "                'orig_idx': datasets[split]['pandas_idx'][tmp_idx],\n",
    "                'orig_text': f\"{datasets[split]['full_text'][tmp_idx][:200]}...\"\n",
    "                }\n",
    "\n",
    "pp.pprint(maxlen_info, compact=True)"
   ]
  },
  {
   "cell_type": "code",
   "execution_count": 17,
   "metadata": {},
   "outputs": [],
   "source": [
    "for split in ['train', 'validation', 'test']:\n",
    "    datasets[split].set_format(type='torch', columns=['input_ids', 'attention_mask', 'labels'])"
   ]
  },
  {
   "cell_type": "code",
   "execution_count": 18,
   "metadata": {},
   "outputs": [],
   "source": [
    "from transformers import default_data_collator, DataCollatorWithPadding\n",
    "from torch.utils.data import DataLoader\n",
    "\n",
    "data_collator_dynamic_padding = DataCollatorWithPadding(tokenizer,\n",
    "                                                        pad_to_multiple_of=8\n",
    "                                                        )\n",
    "\n",
    "train_dataloader = DataLoader(datasets['train'],\n",
    "                              batch_size=16,\n",
    "                              shuffle=True,\n",
    "                              collate_fn=data_collator_dynamic_padding # default_data_collator or data_collator_dynamic_padding\n",
    "                              )\n",
    "                              "
   ]
  },
  {
   "cell_type": "code",
   "execution_count": 19,
   "metadata": {},
   "outputs": [
    {
     "name": "stderr",
     "output_type": "stream",
     "text": [
      "You're using a DistilBertTokenizerFast tokenizer. Please note that with a fast tokenizer, using the `__call__` method is faster than using a method to encode the text followed by a call to the `pad` method to get a padded encoding.\n"
     ]
    },
    {
     "name": "stdout",
     "output_type": "stream",
     "text": [
      "torch.Size([16, 208])\n",
      "torch.Size([16, 264])\n",
      "torch.Size([16, 232])\n",
      "torch.Size([16, 200])\n",
      "torch.Size([16, 272])\n",
      "torch.Size([16, 216])\n"
     ]
    }
   ],
   "source": [
    "for idx, batch in enumerate(train_dataloader):\n",
    "    print(batch['input_ids'].shape)\n",
    "    if idx == 5:\n",
    "        break"
   ]
  },
  {
   "cell_type": "code",
   "execution_count": 23,
   "metadata": {},
   "outputs": [
    {
     "name": "stdout",
     "output_type": "stream",
     "text": [
      "Number of training steps: 560\n"
     ]
    }
   ],
   "source": [
    "from transformers import Trainer, TrainingArguments, AdamW, get_cosine_schedule_with_warmup\n",
    "\n",
    "training_args = TrainingArguments(\n",
    "    output_dir=OUTPUT_DIR,\n",
    "    num_train_epochs=4,\n",
    "    per_device_train_batch_size=4,\n",
    "    per_device_eval_batch_size=8,\n",
    "    learning_rate=0.0001,\n",
    "    warmup_steps=500,\n",
    "    weight_decay=0.01,\n",
    "    logging_dir=LOGS_DIR,\n",
    "    logging_steps=10,\n",
    "    group_by_length=True,\n",
    ")\n",
    "\n",
    "optimizer = AdamW(\n",
    "    model.parameters(), \n",
    "    lr=training_args.learning_rate\n",
    ")\n",
    "\n",
    "total_steps = len(datasets['train']) // training_args.per_device_train_batch_size * training_args.num_train_epochs\n",
    "print(f\"Number of training steps: {total_steps}\")\n",
    "scheduler = get_cosine_schedule_with_warmup(\n",
    "    optimizer, \n",
    "    num_warmup_steps=training_args.warmup_steps, \n",
    "    num_training_steps=total_steps\n",
    ")\n",
    "\n",
    "trainer = Trainer(\n",
    "    model=model,\n",
    "    tokenizer=tokenizer,\n",
    "    args=training_args,\n",
    "    train_dataset=datasets['train'],\n",
    "    eval_dataset=datasets['validation'],\n",
    "    data_collator=data_collator_dynamic_padding, # default_data_collator or data_collator_dynamic_padding\n",
    "    optimizers=(optimizer, scheduler)\n",
    ")"
   ]
  },
  {
   "cell_type": "markdown",
   "metadata": {},
   "source": []
  },
  {
   "cell_type": "code",
   "execution_count": 24,
   "metadata": {},
   "outputs": [
    {
     "name": "stderr",
     "output_type": "stream",
     "text": [
      "/mount/studenten-temp1/users/dpgo/xai-thesis/thesis-venv/lib64/python3.10/site-packages/torch/nn/parallel/_functions.py:68: UserWarning: Was asked to gather along dimension 0, but all input tensors were scalars; will instead unsqueeze and return a vector.\n",
      "  warnings.warn('Was asked to gather along dimension 0, but all '\n"
     ]
    },
    {
     "data": {
      "text/html": [
       "\n",
       "    <div>\n",
       "      \n",
       "      <progress value='64' max='64' style='width:300px; height:20px; vertical-align: middle;'></progress>\n",
       "      [64/64 00:13, Epoch 4/4]\n",
       "    </div>\n",
       "    <table border=\"1\" class=\"dataframe\">\n",
       "  <thead>\n",
       " <tr style=\"text-align: left;\">\n",
       "      <th>Step</th>\n",
       "      <th>Training Loss</th>\n",
       "    </tr>\n",
       "  </thead>\n",
       "  <tbody>\n",
       "    <tr>\n",
       "      <td>10</td>\n",
       "      <td>0.685600</td>\n",
       "    </tr>\n",
       "    <tr>\n",
       "      <td>20</td>\n",
       "      <td>0.667800</td>\n",
       "    </tr>\n",
       "    <tr>\n",
       "      <td>30</td>\n",
       "      <td>0.669500</td>\n",
       "    </tr>\n",
       "    <tr>\n",
       "      <td>40</td>\n",
       "      <td>0.657700</td>\n",
       "    </tr>\n",
       "    <tr>\n",
       "      <td>50</td>\n",
       "      <td>0.672700</td>\n",
       "    </tr>\n",
       "    <tr>\n",
       "      <td>60</td>\n",
       "      <td>0.635700</td>\n",
       "    </tr>\n",
       "  </tbody>\n",
       "</table><p>"
      ],
      "text/plain": [
       "<IPython.core.display.HTML object>"
      ]
     },
     "metadata": {},
     "output_type": "display_data"
    },
    {
     "data": {
      "text/plain": [
       "TrainOutput(global_step=64, training_loss=0.6620850786566734, metrics={'train_runtime': 26.8848, 'train_samples_per_second': 83.318, 'train_steps_per_second': 2.381, 'total_flos': 106122944748288.0, 'train_loss': 0.6620850786566734, 'epoch': 4.0})"
      ]
     },
     "execution_count": 24,
     "metadata": {},
     "output_type": "execute_result"
    }
   ],
   "source": [
    "trainer.train()"
   ]
  },
  {
   "cell_type": "code",
   "execution_count": 25,
   "metadata": {},
   "outputs": [
    {
     "data": {
      "text/html": [
       "\n",
       "    <div>\n",
       "      \n",
       "      <progress value='1' max='1' style='width:300px; height:20px; vertical-align: middle;'></progress>\n",
       "      [1/1 : < :]\n",
       "    </div>\n",
       "    "
      ],
      "text/plain": [
       "<IPython.core.display.HTML object>"
      ]
     },
     "metadata": {},
     "output_type": "display_data"
    },
    {
     "data": {
      "text/plain": [
       "{'eval_loss': 0.6525583267211914,\n",
       " 'eval_runtime': 0.1094,\n",
       " 'eval_samples_per_second': 639.575,\n",
       " 'eval_steps_per_second': 9.137,\n",
       " 'epoch': 4.0}"
      ]
     },
     "execution_count": 25,
     "metadata": {},
     "output_type": "execute_result"
    }
   ],
   "source": [
    "trainer.evaluate(datasets['validation'])"
   ]
  },
  {
   "cell_type": "code",
   "execution_count": 26,
   "metadata": {},
   "outputs": [
    {
     "name": "stderr",
     "output_type": "stream",
     "text": [
      "/tmp/ipykernel_954070/293408677.py:3: FutureWarning: load_metric is deprecated and will be removed in the next major version of datasets. Use 'evaluate.load' instead, from the new library 🤗 Evaluate: https://huggingface.co/docs/evaluate\n",
      "  acc_metric = load_metric(\"accuracy\")\n"
     ]
    }
   ],
   "source": [
    "from datasets import load_metric\n",
    "\n",
    "acc_metric = load_metric(\"accuracy\")\n",
    "f1_metric = load_metric(\"f1\")"
   ]
  },
  {
   "cell_type": "code",
   "execution_count": 27,
   "metadata": {},
   "outputs": [
    {
     "name": "stderr",
     "output_type": "stream",
     "text": [
      "/mount/studenten-temp1/users/dpgo/xai-thesis/thesis-venv/lib64/python3.10/site-packages/torch/nn/parallel/_functions.py:68: UserWarning: Was asked to gather along dimension 0, but all input tensors were scalars; will instead unsqueeze and return a vector.\n",
      "  warnings.warn('Was asked to gather along dimension 0, but all '\n"
     ]
    }
   ],
   "source": [
    "preds_val = trainer.predict(datasets['validation'])\n",
    "# preds_val.predictions is an array of arrays of logits"
   ]
  },
  {
   "cell_type": "code",
   "execution_count": 28,
   "metadata": {},
   "outputs": [
    {
     "name": "stdout",
     "output_type": "stream",
     "text": [
      "[1 1 1 1 1 1 1 1 1 1 1 1 1 1 1 1 1 1 1 1 1 1 1 1 1 1 1 1 1 1 1 1 1 1 1 1 1\n",
      " 1 1 1 1 1 1 1 1 1 1 1 1 1 1 1 1 1 1 1 1 1 1 1 1 1 1 1 1 1 1 1 1 1]\n"
     ]
    },
    {
     "data": {
      "text/plain": [
       "{'accuracy': {'accuracy': 0.6142857142857143},\n",
       " 'f1': {'f1': 0.7610619469026549}}"
      ]
     },
     "execution_count": 28,
     "metadata": {},
     "output_type": "execute_result"
    }
   ],
   "source": [
    "def compute_metrics(model_preds):\n",
    "    gold_labels = model_preds.label_ids\n",
    "    logits = model_preds.predictions\n",
    "    preds = logits.argmax(-1)\n",
    "    print(preds)\n",
    "    \n",
    "    acc = acc_metric.compute(predictions=preds, references=gold_labels)\n",
    "    f1 = f1_metric.compute(predictions=preds, references=gold_labels)\n",
    "    \n",
    "    return {\n",
    "        'accuracy': acc,\n",
    "        'f1': f1\n",
    "    }\n",
    "\n",
    "compute_metrics(preds_val)"
   ]
  },
  {
   "cell_type": "code",
   "execution_count": null,
   "metadata": {},
   "outputs": [],
   "source": [
    "# always predicts 1!"
   ]
  },
  {
   "cell_type": "code",
   "execution_count": null,
   "metadata": {},
   "outputs": [],
   "source": [
    "'''Save model'''\n",
    "import datetime\n",
    "model_id = datetime.datetime.now().strftime(\"%d%m%H%M\")\n",
    "#trainer.save_model(os.path.join(MODELS_DIR, f\"distilbert-base-uncased_{model_id}\"))"
   ]
  },
  {
   "cell_type": "code",
   "execution_count": null,
   "metadata": {},
   "outputs": [],
   "source": []
  }
 ],
 "metadata": {
  "kernelspec": {
   "display_name": "thesis-venv",
   "language": "python",
   "name": "python3"
  },
  "language_info": {
   "codemirror_mode": {
    "name": "ipython",
    "version": 3
   },
   "file_extension": ".py",
   "mimetype": "text/x-python",
   "name": "python",
   "nbconvert_exporter": "python",
   "pygments_lexer": "ipython3",
   "version": "3.10.8"
  },
  "orig_nbformat": 4
 },
 "nbformat": 4,
 "nbformat_minor": 2
}
