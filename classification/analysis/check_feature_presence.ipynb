{
 "cells": [
  {
   "cell_type": "code",
   "execution_count": 2,
   "metadata": {},
   "outputs": [],
   "source": [
    "import os\n",
    "import json\n",
    "\n",
    "from datasets import load_from_disk\n",
    "\n",
    "\n",
    "PROJECT_DIR = os.path.dirname(os.path.dirname(os.getcwd()))\n",
    "SPLITS_DIR = os.path.join(PROJECT_DIR, \"classification/split_datasets\")\n",
    "\n",
    "base_dataset = load_from_disk(os.path.join(SPLITS_DIR, \"coqa\"))\n",
    "force_aug_dataset = load_from_disk(os.path.join(SPLITS_DIR, \"coqa_force_aug\"))\n",
    "force_aug_noerrors_dataset = force_aug_dataset.copy()"
   ]
  },
  {
   "cell_type": "code",
   "execution_count": 3,
   "metadata": {},
   "outputs": [],
   "source": [
    "# Load maps with errors ids\n",
    "MAPS_DIR = os.path.join(PROJECT_DIR, \"maps\")\n",
    "\n",
    "errors_map = json.load(open(os.path.join(MAPS_DIR, 'errors_idx_uuid_map.json')))\n",
    "errors_idxs = [int(idx) for idx in errors_map.keys()]\n",
    "\n",
    "force_aug_noerrors_dataset['train'] = force_aug_noerrors_dataset['train'].filter(\n",
    "    lambda x: x['pandas_idx'] not in errors_idxs\n",
    ")\n",
    "force_aug_noerrors_dataset['validation'] = force_aug_noerrors_dataset['validation'].filter(\n",
    "    lambda x: x['pandas_idx'] not in errors_idxs\n",
    ")\n",
    "force_aug_noerrors_dataset['test'] = force_aug_noerrors_dataset['test'].filter(\n",
    "    lambda x: x['pandas_idx'] not in errors_idxs\n",
    ")"
   ]
  },
  {
   "cell_type": "code",
   "execution_count": 4,
   "metadata": {},
   "outputs": [],
   "source": [
    "# for each dataset, get counts of pos and neg instances\n",
    "\n",
    "def get_pos_neg_counts(dataset):\n",
    "    pos, neg = 0, 0\n",
    "    for split in [dataset['train'], dataset['validation'], dataset['test']]:\n",
    "        for i in split:\n",
    "            if i['label'] == True:\n",
    "                pos += 1\n",
    "            else:\n",
    "                neg += 1\n",
    "    return (neg, pos)\n",
    "\n",
    "base_counts = get_pos_neg_counts(base_dataset)\n",
    "force_aug_counts = get_pos_neg_counts(force_aug_dataset)\n",
    "force_aug_noerrors_counts = get_pos_neg_counts(force_aug_noerrors_dataset)"
   ]
  },
  {
   "cell_type": "code",
   "execution_count": 5,
   "metadata": {},
   "outputs": [
    {
     "name": "stdout",
     "output_type": "stream",
     "text": [
      "Positive instances mean length:  539.1500855188142\n",
      "Negative instances mean length:  637.0677719604421\n"
     ]
    }
   ],
   "source": [
    "# check relation between instance length and class\n",
    "\n",
    "pos_lengths = []\n",
    "neg_lengths = []\n",
    "\n",
    "for split in [force_aug_dataset['train'], force_aug_dataset['validation'], force_aug_dataset['test']]:\n",
    "    for i in split:\n",
    "        if i['label'] == True:\n",
    "            pos_lengths.append(len(i['text']))\n",
    "        else:\n",
    "            neg_lengths.append(len(i['text']))\n",
    "\n",
    "print(\"Positive instances mean length: \", sum(pos_lengths)/len(pos_lengths))\n",
    "print(\"Negative instances mean length: \", sum(neg_lengths)/len(neg_lengths))"
   ]
  },
  {
   "cell_type": "code",
   "execution_count": 6,
   "metadata": {},
   "outputs": [
    {
     "name": "stdout",
     "output_type": "stream",
     "text": [
      "Positive instances mean length:  539.1500855188142\n",
      "Negative instances mean length:  598.9387667097888\n"
     ]
    }
   ],
   "source": [
    "# same for force_aug_noerrors_dataset\n",
    "pos_lengths = []\n",
    "neg_lengths = []\n",
    "\n",
    "for split in [force_aug_noerrors_dataset['train'], force_aug_noerrors_dataset['validation'], force_aug_noerrors_dataset['test']]:\n",
    "    for i in split:\n",
    "        if i['label'] == True:\n",
    "            pos_lengths.append(len(i['text']))\n",
    "        else:\n",
    "            neg_lengths.append(len(i['text']))\n",
    "\n",
    "print(\"Positive instances mean length: \", sum(pos_lengths)/len(pos_lengths))\n",
    "print(\"Negative instances mean length: \", sum(neg_lengths)/len(neg_lengths))"
   ]
  },
  {
   "cell_type": "code",
   "execution_count": 7,
   "metadata": {},
   "outputs": [
    {
     "name": "stdout",
     "output_type": "stream",
     "text": [
      "Positive instances containing none:  15\n",
      "Negative instances containing none:  111\n"
     ]
    }
   ],
   "source": [
    "# check for pos and neg instances containing none\n",
    "pos_none = []\n",
    "neg_none = []\n",
    "\n",
    "for split in [force_aug_dataset['train'], force_aug_dataset['validation'], force_aug_dataset['test']]:\n",
    "    for i in split:\n",
    "        if i['label'] == True:\n",
    "            if \"none\" in i['text']:\n",
    "                pos_none.append(i['text'])\n",
    "        else:\n",
    "            if \"none\" in i['text']:\n",
    "                neg_none.append(i['text'])\n",
    "\n",
    "print(\"Positive instances containing none: \", len(pos_none))\n",
    "print(\"Negative instances containing none: \", len(neg_none))"
   ]
  },
  {
   "cell_type": "code",
   "execution_count": 8,
   "metadata": {},
   "outputs": [
    {
     "name": "stdout",
     "output_type": "stream",
     "text": [
      "Positive instances containing none:  15\n",
      "Negative instances containing none:  16\n"
     ]
    }
   ],
   "source": [
    "# same for force_aug_noerrors_dataset\n",
    "pos_none = []\n",
    "neg_none = []\n",
    "\n",
    "for split in [force_aug_noerrors_dataset['train'], force_aug_noerrors_dataset['validation'], force_aug_noerrors_dataset['test']]:\n",
    "    for i in split:\n",
    "        if i['label'] == True:\n",
    "            if \"none\" in i['text']:\n",
    "                pos_none.append(i['text'])\n",
    "        else:\n",
    "            if \"none\" in i['text']:\n",
    "                neg_none.append(i['text'])\n",
    "                \n",
    "print(\"Positive instances containing none: \", len(pos_none))\n",
    "print(\"Negative instances containing none: \", len(neg_none))"
   ]
  },
  {
   "cell_type": "code",
   "execution_count": 9,
   "metadata": {},
   "outputs": [
    {
     "name": "stdout",
     "output_type": "stream",
     "text": [
      "Force:\n",
      "% pos instances containing none:  0.21\n",
      "% neg instances containing none:  0.47\n",
      "Force no errors:\n",
      "% pos instances containing none:  0.21\n",
      "% neg instances containing none:  0.69\n"
     ]
    }
   ],
   "source": [
    "# PERCENTAGES of pos and neg instances containing none (over total pos/neg instances*100) (round to 2 dec)\n",
    "print(\"Force:\")\n",
    "print(\"% pos instances containing none: \", round(len(pos_none)/force_aug_counts[1]*100, 2))\n",
    "print(\"% neg instances containing none: \", round(len(neg_none)/force_aug_counts[0]*100, 2))\n",
    "\n",
    "print(\"Force no errors:\")\n",
    "print(\"% pos instances containing none: \", round(len(pos_none)/force_aug_noerrors_counts[1]*100, 2))\n",
    "print(\"% neg instances containing none: \", round(len(neg_none)/force_aug_noerrors_counts[0]*100, 2))"
   ]
  },
  {
   "cell_type": "code",
   "execution_count": 10,
   "metadata": {},
   "outputs": [
    {
     "name": "stdout",
     "output_type": "stream",
     "text": [
      "Positive instances starting with if:  355\n",
      "Negative instances starting with if:  194\n",
      "Positive instances starting with when:  206\n",
      "Negative instances starting with when:  108\n"
     ]
    }
   ],
   "source": [
    "# check for pos and neg instances starting with if or when\n",
    "pos_if = []\n",
    "neg_if = []\n",
    "pos_when = []\n",
    "neg_when = []\n",
    "\n",
    "for split in [force_aug_dataset['train'], force_aug_dataset['validation'], force_aug_dataset['test']]:\n",
    "    for i in split:\n",
    "        if i['label'] == True:\n",
    "            if i['text'].lower().startswith(\"if\"):\n",
    "                pos_if.append(i['text'])\n",
    "            elif i['text'].lower().startswith(\"when\"):\n",
    "                pos_when.append(i['text'])\n",
    "        else:\n",
    "            if i['text'].lower().startswith(\"if\"):\n",
    "                neg_if.append(i['text'])\n",
    "            elif i['text'].lower().startswith(\"when\"):\n",
    "                neg_when.append(i['text'])\n",
    "\n",
    "print(\"Positive instances starting with if: \", len(pos_if))\n",
    "print(\"Negative instances starting with if: \", len(neg_if))\n",
    "print(\"Positive instances starting with when: \", len(pos_when))\n",
    "print(\"Negative instances starting with when: \", len(neg_when))"
   ]
  },
  {
   "cell_type": "code",
   "execution_count": 11,
   "metadata": {},
   "outputs": [
    {
     "name": "stdout",
     "output_type": "stream",
     "text": [
      "Positive instances starting with if:  355\n",
      "Negative instances starting with if:  139\n",
      "Positive instances starting with when:  206\n",
      "Negative instances starting with when:  83\n"
     ]
    }
   ],
   "source": [
    "# same for force_aug_noerrors_dataset\n",
    "pos_if = []\n",
    "neg_if = []\n",
    "pos_when = []\n",
    "neg_when = []\n",
    "\n",
    "for split in [force_aug_noerrors_dataset['train'], force_aug_noerrors_dataset['validation'], force_aug_noerrors_dataset['test']]:\n",
    "    for i in split:\n",
    "        if i['label'] == True:\n",
    "            if i['text'].lower().startswith(\"if\"):\n",
    "                pos_if.append(i['text'])\n",
    "            elif i['text'].lower().startswith(\"when\"):\n",
    "                pos_when.append(i['text'])\n",
    "        else:\n",
    "            if i['text'].lower().startswith(\"if\"):\n",
    "                neg_if.append(i['text'])\n",
    "            elif i['text'].lower().startswith(\"when\"):\n",
    "                neg_when.append(i['text'])\n",
    "\n",
    "print(\"Positive instances starting with if: \", len(pos_if))\n",
    "print(\"Negative instances starting with if: \", len(neg_if))\n",
    "print(\"Positive instances starting with when: \", len(pos_when))\n",
    "print(\"Negative instances starting with when: \", len(neg_when))\n"
   ]
  },
  {
   "cell_type": "code",
   "execution_count": 12,
   "metadata": {},
   "outputs": [
    {
     "name": "stdout",
     "output_type": "stream",
     "text": [
      "Force:\n",
      "% pos instances starting with if:  5.06\n",
      "% neg instances starting with if:  4.04\n",
      "% pos instances starting with when:  2.94\n",
      "% neg instances starting with when:  2.41\n",
      "Force no errors:\n",
      "% pos instances starting with if:  5.06\n",
      "% neg instances starting with if:  5.99\n",
      "% pos instances starting with when:  2.94\n",
      "% neg instances starting with when:  3.58\n"
     ]
    }
   ],
   "source": [
    "# PERCENTAGES of pos and neg instances starting with if or when (over total pos/neg instances*100) (round to 2 dec)\n",
    "print(\"Force:\")\n",
    "print(\"% pos instances starting with if: \", round(len(pos_if)/force_aug_counts[1]*100, 2))\n",
    "print(\"% neg instances starting with if: \", round(len(neg_if)/force_aug_counts[0]*100, 2))\n",
    "\n",
    "print(\"% pos instances starting with when: \", round(len(pos_when)/force_aug_counts[1]*100, 2))\n",
    "print(\"% neg instances starting with when: \", round(len(neg_when)/force_aug_counts[0]*100, 2))\n",
    "\n",
    "print(\"Force no errors:\")\n",
    "print(\"% pos instances starting with if: \", round(len(pos_if)/force_aug_noerrors_counts[1]*100, 2))\n",
    "print(\"% neg instances starting with if: \", round(len(neg_if)/force_aug_noerrors_counts[0]*100, 2))\n",
    "\n",
    "print(\"% pos instances starting with when: \", round(len(pos_when)/force_aug_noerrors_counts[1]*100, 2))\n",
    "print(\"% neg instances starting with when: \", round(len(neg_when)/force_aug_noerrors_counts[0]*100, 2))"
   ]
  },
  {
   "cell_type": "code",
   "execution_count": 13,
   "metadata": {},
   "outputs": [
    {
     "name": "stdout",
     "output_type": "stream",
     "text": [
      "Positive instances starting with if you:  143\n",
      "Negative instances starting with if you:  83\n"
     ]
    }
   ],
   "source": [
    "# check for pos and neg instances starting with 'if you' in the force dataset\n",
    "pos_ifyou = []\n",
    "neg_ifyou = []\n",
    "\n",
    "for split in [force_aug_dataset['train'], force_aug_dataset['validation'], force_aug_dataset['test']]:\n",
    "    for i in split:\n",
    "        if i['label'] == True:\n",
    "            if i['text'].lower().startswith(\"if you\"):\n",
    "                pos_ifyou.append(i['text'])\n",
    "        else:\n",
    "            if i['text'].lower().startswith(\"if you\"):\n",
    "                neg_ifyou.append(i['text'])\n",
    "\n",
    "print(\"Positive instances starting with if you: \", len(pos_ifyou))\n",
    "print(\"Negative instances starting with if you: \", len(neg_ifyou))"
   ]
  },
  {
   "cell_type": "code",
   "execution_count": 14,
   "metadata": {},
   "outputs": [
    {
     "name": "stdout",
     "output_type": "stream",
     "text": [
      "Positive instances containing if you:  143\n",
      "Negative instances containing if you:  60\n"
     ]
    }
   ],
   "source": [
    "# check for pos and neg instances starting with 'if you' in the noerrors dataset\n",
    "\n",
    "pos_ifyou = []\n",
    "neg_ifyou = []\n",
    "\n",
    "for split in [force_aug_noerrors_dataset['train'], force_aug_noerrors_dataset['validation'], force_aug_noerrors_dataset['test']]:\n",
    "    for i in split:\n",
    "        if i['label'] == True:\n",
    "            if i['text'].lower().startswith(\"if you\"):\n",
    "                pos_ifyou.append(i['text'])\n",
    "        else:\n",
    "            if i['text'].lower().startswith(\"if you\"):\n",
    "                neg_ifyou.append(i['text'])\n",
    "\n",
    "print(\"Positive instances containing if you: \", len(pos_ifyou))\n",
    "print(\"Negative instances containing if you: \", len(neg_ifyou))"
   ]
  },
  {
   "cell_type": "code",
   "execution_count": 15,
   "metadata": {},
   "outputs": [
    {
     "name": "stdout",
     "output_type": "stream",
     "text": [
      "Force:\n",
      "% pos instances starting with if you:  2.04\n",
      "% neg instances starting with if you:  1.75\n",
      "Force no errors:\n",
      "% pos instances starting with if you:  2.04\n",
      "% neg instances starting with if you:  2.59\n"
     ]
    }
   ],
   "source": [
    "# PERCENTAGES of pos and neg instances starting with if you (over total pos/neg instances*100) (round to 2 dec)\n",
    "print(\"Force:\")\n",
    "print(\"% pos instances starting with if you: \", round(len(pos_ifyou)/force_aug_counts[1]*100, 2))\n",
    "print(\"% neg instances starting with if you: \", round(len(neg_ifyou)/force_aug_counts[0]*100, 2))\n",
    "\n",
    "print(\"Force no errors:\")\n",
    "print(\"% pos instances starting with if you: \", round(len(pos_ifyou)/force_aug_noerrors_counts[1]*100, 2))\n",
    "print(\"% neg instances starting with if you: \", round(len(neg_ifyou)/force_aug_noerrors_counts[0]*100, 2))"
   ]
  },
  {
   "cell_type": "code",
   "execution_count": 16,
   "metadata": {},
   "outputs": [
    {
     "name": "stdout",
     "output_type": "stream",
     "text": [
      "Positive instances containing eliminate:  1235\n",
      "Negative instances containing eliminate:  662\n"
     ]
    }
   ],
   "source": [
    "# check for word 'elminate' in pos and neg instances \n",
    "\n",
    "pos_eliminate = []\n",
    "neg_eliminate = []\n",
    "\n",
    "for split in [force_aug_dataset['train'], force_aug_dataset['validation'], force_aug_dataset['test']]:\n",
    "    for i in split:\n",
    "        if i['label'] == True:\n",
    "            if \"eliminate\" in i['text'].lower():\n",
    "                pos_eliminate.append(i['text'])\n",
    "        else:\n",
    "            if \"eliminate\" in i['text'].lower():\n",
    "                neg_eliminate.append(i['text'])\n",
    "\n",
    "print(\"Positive instances containing eliminate: \", len(pos_eliminate))\n",
    "print(\"Negative instances containing eliminate: \", len(neg_eliminate))"
   ]
  },
  {
   "cell_type": "code",
   "execution_count": 37,
   "metadata": {},
   "outputs": [
    {
     "name": "stdout",
     "output_type": "stream",
     "text": [
      "Positive instances containing eliminate:  1235\n",
      "Negative instances containing eliminate:  499\n"
     ]
    }
   ],
   "source": [
    "# check for word 'elminate' in pos and neg instances in noerrors dataset\n",
    "\n",
    "pos_eliminate = []\n",
    "neg_eliminate = []\n",
    "\n",
    "for split in [force_aug_noerrors_dataset['train'], force_aug_noerrors_dataset['validation'], force_aug_noerrors_dataset['test']]:\n",
    "    for i in split:\n",
    "        if i['label'] == True:\n",
    "            if \"eliminate\" in i['text'].lower():\n",
    "                pos_eliminate.append(i['text'])\n",
    "        else:\n",
    "            if \"eliminate\" in i['text'].lower():\n",
    "                neg_eliminate.append(i['text'])\n",
    "\n",
    "print(\"Positive instances containing eliminate: \", len(pos_eliminate))\n",
    "print(\"Negative instances containing eliminate: \", len(neg_eliminate))"
   ]
  },
  {
   "cell_type": "code",
   "execution_count": 38,
   "metadata": {},
   "outputs": [
    {
     "name": "stdout",
     "output_type": "stream",
     "text": [
      "Force:\n",
      "% pos instances containing eliminate:  17.6\n",
      "% neg instances containing eliminate:  14.51\n",
      "Force no errors:\n",
      "% pos instances containing eliminate:  17.6\n",
      "% neg instances containing eliminate:  21.52\n"
     ]
    }
   ],
   "source": [
    "# PERCENTAGES of pos and neg instances containing eliminate (over total pos/neg instances*100) (round to 2 dec)\n",
    "\n",
    "print(\"Force:\")\n",
    "print(\"% pos instances containing eliminate: \", round(len(pos_eliminate)/force_aug_counts[1]*100, 2))\n",
    "print(\"% neg instances containing eliminate: \", round(len(neg_eliminate)/force_aug_counts[0]*100, 2))\n",
    "\n",
    "print(\"Force no errors:\")\n",
    "print(\"% pos instances containing eliminate: \", round(len(pos_eliminate)/force_aug_noerrors_counts[1]*100, 2))\n",
    "print(\"% neg instances containing eliminate: \", round(len(neg_eliminate)/force_aug_noerrors_counts[0]*100, 2))"
   ]
  },
  {
   "cell_type": "code",
   "execution_count": 18,
   "metadata": {},
   "outputs": [
    {
     "name": "stdout",
     "output_type": "stream",
     "text": [
      "Positive instances containing possib:  1668\n",
      "Negative instances containing possib:  1322\n"
     ]
    }
   ],
   "source": [
    "# check for word 'possib' in pos and neg instances\n",
    "\n",
    "pos_possib = []\n",
    "neg_possib = []\n",
    "\n",
    "for split in [force_aug_dataset['train'], force_aug_dataset['validation'], force_aug_dataset['test']]:\n",
    "    for i in split:\n",
    "        if i['label'] == True:\n",
    "            if \"possib\" in i['text'].lower():\n",
    "                pos_possib.append(i['text'])\n",
    "        else:\n",
    "            if \"possib\" in i['text'].lower():\n",
    "                neg_possib.append(i['text'])\n",
    "            \n",
    "print(\"Positive instances containing possib: \", len(pos_possib))\n",
    "print(\"Negative instances containing possib: \", len(neg_possib))\n"
   ]
  },
  {
   "cell_type": "code",
   "execution_count": 19,
   "metadata": {},
   "outputs": [
    {
     "name": "stdout",
     "output_type": "stream",
     "text": [
      "Positive instances containing possib:  1668\n",
      "Negative instances containing possib:  811\n"
     ]
    }
   ],
   "source": [
    "# same for force_aug_noerrors_dataset\n",
    "pos_possib = []\n",
    "neg_possib = []\n",
    "\n",
    "for split in [force_aug_noerrors_dataset['train'], force_aug_noerrors_dataset['validation'], force_aug_noerrors_dataset['test']]:\n",
    "    for i in split:\n",
    "        if i['label'] == True:\n",
    "            if \"possib\" in i['text'].lower():\n",
    "                pos_possib.append(i['text'])\n",
    "        else:\n",
    "            if \"possib\" in i['text'].lower():\n",
    "                neg_possib.append(i['text'])\n",
    "\n",
    "print(\"Positive instances containing possib: \", len(pos_possib))\n",
    "print(\"Negative instances containing possib: \", len(neg_possib))\n"
   ]
  },
  {
   "cell_type": "code",
   "execution_count": 20,
   "metadata": {},
   "outputs": [
    {
     "name": "stdout",
     "output_type": "stream",
     "text": [
      "Force:\n",
      "% pos instances containing possib:  23.77\n",
      "% neg instances containing possib:  23.59\n",
      "Force no errors:\n",
      "% pos instances containing possib:  23.77\n",
      "% neg instances containing possib:  34.97\n"
     ]
    }
   ],
   "source": [
    "# PERCENTAGES of pos and neg instances containing possib (over total pos/neg instances*100) (round to 2 dec)   \n",
    "print(\"Force:\")\n",
    "print(\"% pos instances containing possib: \", round(len(pos_possib)/force_aug_counts[1]*100, 2))\n",
    "print(\"% neg instances containing possib: \", round(len(neg_possib)/force_aug_counts[0]*100, 2))\n",
    "\n",
    "print(\"Force no errors:\")\n",
    "print(\"% pos instances containing possib: \", round(len(pos_possib)/force_aug_noerrors_counts[1]*100, 2))\n",
    "print(\"% neg instances containing possib: \", round(len(neg_possib)/force_aug_noerrors_counts[0]*100, 2))"
   ]
  },
  {
   "cell_type": "code",
   "execution_count": 21,
   "metadata": {},
   "outputs": [
    {
     "name": "stdout",
     "output_type": "stream",
     "text": [
      "Positive instances containing based on:  408\n",
      "Negative instances containing based on:  474\n"
     ]
    }
   ],
   "source": [
    "# check for word 'based on' in pos and neg instances\n",
    "\n",
    "pos_basedon = []\n",
    "neg_basedon = []\n",
    "\n",
    "for split in [force_aug_dataset['train'], force_aug_dataset['validation'], force_aug_dataset['test']]:\n",
    "    for i in split:\n",
    "        if i['label'] == True:\n",
    "            if \"based on\" in i['text'].lower():\n",
    "                pos_basedon.append(i['text'])\n",
    "        else:\n",
    "            if \"based on\" in i['text'].lower():\n",
    "                neg_basedon.append(i['text'])\n",
    "\n",
    "print(\"Positive instances containing based on: \", len(pos_basedon))\n",
    "print(\"Negative instances containing based on: \", len(neg_basedon))"
   ]
  },
  {
   "cell_type": "code",
   "execution_count": 22,
   "metadata": {},
   "outputs": [
    {
     "name": "stdout",
     "output_type": "stream",
     "text": [
      "Positive instances containing based on:  408\n",
      "Negative instances containing based on:  289\n"
     ]
    }
   ],
   "source": [
    "# same for force_aug_noerrors_dataset\n",
    "pos_basedon = []\n",
    "neg_basedon = []\n",
    "\n",
    "for split in [force_aug_noerrors_dataset['train'], force_aug_noerrors_dataset['validation'], force_aug_noerrors_dataset['test']]:\n",
    "    for i in split:\n",
    "        if i['label'] == True:\n",
    "            if \"based on\" in i['text'].lower():\n",
    "                pos_basedon.append(i['text'])\n",
    "        else:\n",
    "            if \"based on\" in i['text'].lower():\n",
    "                neg_basedon.append(i['text'])\n",
    "\n",
    "print(\"Positive instances containing based on: \", len(pos_basedon))\n",
    "print(\"Negative instances containing based on: \", len(neg_basedon))"
   ]
  },
  {
   "cell_type": "code",
   "execution_count": 23,
   "metadata": {},
   "outputs": [
    {
     "name": "stdout",
     "output_type": "stream",
     "text": [
      "Force:\n",
      "% pos instances containing based on:  5.82\n",
      "% neg instances containing based on:  8.41\n",
      "Force no errors:\n",
      "% pos instances containing based on:  5.82\n",
      "% neg instances containing based on:  12.46\n"
     ]
    }
   ],
   "source": [
    "# PERCENTAGES of pos and neg instances containing based on (over total pos/neg instances*100) (round to 2 dec)\n",
    "print(\"Force:\")\n",
    "print(\"% pos instances containing based on: \", round(len(pos_basedon)/force_aug_counts[1]*100, 2))\n",
    "print(\"% neg instances containing based on: \", round(len(neg_basedon)/force_aug_counts[0]*100, 2))\n",
    "\n",
    "print(\"Force no errors:\")\n",
    "print(\"% pos instances containing based on: \", round(len(pos_basedon)/force_aug_noerrors_counts[1]*100, 2))\n",
    "print(\"% neg instances containing based on: \", round(len(neg_basedon)/force_aug_noerrors_counts[0]*100, 2))"
   ]
  },
  {
   "cell_type": "code",
   "execution_count": 24,
   "metadata": {},
   "outputs": [
    {
     "name": "stdout",
     "output_type": "stream",
     "text": [
      "Positive instances containing as they:  834\n",
      "Negative instances containing as they:  444\n"
     ]
    }
   ],
   "source": [
    "# check for 'as they' in pos and neg instances\n",
    "\n",
    "pos_asthey = []\n",
    "neg_asthey = []\n",
    "\n",
    "for split in [force_aug_dataset['train'], force_aug_dataset['validation'], force_aug_dataset['test']]:\n",
    "    for i in split:\n",
    "        if i['label'] == True:\n",
    "            if \"as they\" in i['text'].lower():\n",
    "                pos_asthey.append(i['text'])\n",
    "        else:\n",
    "            if \"as they\" in i['text'].lower():\n",
    "                neg_asthey.append(i['text'])\n",
    "\n",
    "print(\"Positive instances containing as they: \", len(pos_asthey))\n",
    "print(\"Negative instances containing as they: \", len(neg_asthey))\n"
   ]
  },
  {
   "cell_type": "code",
   "execution_count": 25,
   "metadata": {},
   "outputs": [
    {
     "name": "stdout",
     "output_type": "stream",
     "text": [
      "Positive instances containing as they:  834\n",
      "Negative instances containing as they:  328\n"
     ]
    }
   ],
   "source": [
    "# same for force_aug_noerrors_dataset\n",
    "pos_asthey = []\n",
    "neg_asthey = []\n",
    "\n",
    "for split in [force_aug_noerrors_dataset['train'], force_aug_noerrors_dataset['validation'], force_aug_noerrors_dataset['test']]:\n",
    "    for i in split:\n",
    "        if i['label'] == True:\n",
    "            if \"as they\" in i['text'].lower():\n",
    "                pos_asthey.append(i['text'])\n",
    "        else:\n",
    "            if \"as they\" in i['text'].lower():\n",
    "                neg_asthey.append(i['text'])\n",
    "\n",
    "print(\"Positive instances containing as they: \", len(pos_asthey))\n",
    "print(\"Negative instances containing as they: \", len(neg_asthey))"
   ]
  },
  {
   "cell_type": "code",
   "execution_count": 26,
   "metadata": {},
   "outputs": [
    {
     "name": "stdout",
     "output_type": "stream",
     "text": [
      "Force:\n",
      "% pos instances containing as they:  11.89\n",
      "% neg instances containing as they:  9.54\n",
      "Force no errors:\n",
      "% pos instances containing as they:  11.89\n",
      "% neg instances containing as they:  14.14\n"
     ]
    }
   ],
   "source": [
    "# PERCENTAGES of pos and neg instances containing as they (over total pos/neg instances*100) (round to 2 dec)\n",
    "print(\"Force:\")\n",
    "print(\"% pos instances containing as they: \", round(len(pos_asthey)/force_aug_counts[1]*100, 2))\n",
    "print(\"% neg instances containing as they: \", round(len(neg_asthey)/force_aug_counts[0]*100, 2))\n",
    "\n",
    "print(\"Force no errors:\")\n",
    "print(\"% pos instances containing as they: \", round(len(pos_asthey)/force_aug_noerrors_counts[1]*100, 2))\n",
    "print(\"% neg instances containing as they: \", round(len(neg_asthey)/force_aug_noerrors_counts[0]*100, 2))"
   ]
  },
  {
   "cell_type": "code",
   "execution_count": 27,
   "metadata": {},
   "outputs": [
    {
     "name": "stdout",
     "output_type": "stream",
     "text": [
      "Positive instances starting with if you and containing as they:  4\n",
      "Negative instances starting with if you and containing as they:  2\n"
     ]
    }
   ],
   "source": [
    "# check for instances starting with 'if you' and containing 'as they'\n",
    "\n",
    "pos_ifyou_asthey = []\n",
    "neg_ifyou_asthey = []\n",
    "\n",
    "for split in [force_aug_dataset['train'], force_aug_dataset['validation'], force_aug_dataset['test']]:\n",
    "    for i in split:\n",
    "        if i['label'] == True:\n",
    "            if i['text'].lower().startswith(\"if you\") and \"as they\" in i['text'].lower():\n",
    "                pos_ifyou_asthey.append(i['text'])\n",
    "        else:\n",
    "            if i['text'].lower().startswith(\"if you\") and \"as they\" in i['text'].lower():\n",
    "                neg_ifyou_asthey.append(i['text'])\n",
    "\n",
    "print(\"Positive instances starting with if you and containing as they: \", len(pos_ifyou_asthey))\n",
    "print(\"Negative instances starting with if you and containing as they: \", len(neg_ifyou_asthey))\n"
   ]
  },
  {
   "cell_type": "code",
   "execution_count": 28,
   "metadata": {},
   "outputs": [
    {
     "name": "stdout",
     "output_type": "stream",
     "text": [
      "Positive instances starting with if you and containing as they:  4\n",
      "Negative instances starting with if you and containing as they:  1\n"
     ]
    }
   ],
   "source": [
    "# same for force_aug_noerrors_dataset\n",
    "\n",
    "pos_ifyou_asthey = []\n",
    "neg_ifyou_asthey = []\n",
    "\n",
    "for split in [force_aug_noerrors_dataset['train'], force_aug_noerrors_dataset['validation'], force_aug_noerrors_dataset['test']]:\n",
    "    for i in split:\n",
    "        if i['label'] == True:\n",
    "            if i['text'].lower().startswith(\"if you\") and \"as they\" in i['text'].lower():\n",
    "                pos_ifyou_asthey.append(i['text'])\n",
    "        else:\n",
    "            if i['text'].lower().startswith(\"if you\") and \"as they\" in i['text'].lower():\n",
    "                neg_ifyou_asthey.append(i['text'])\n",
    "\n",
    "\n",
    "print(\"Positive instances starting with if you and containing as they: \", len(pos_ifyou_asthey))\n",
    "print(\"Negative instances starting with if you and containing as they: \", len(neg_ifyou_asthey))"
   ]
  },
  {
   "cell_type": "code",
   "execution_count": 29,
   "metadata": {},
   "outputs": [
    {
     "name": "stdout",
     "output_type": "stream",
     "text": [
      "Force:\n",
      "% pos instances starting with if you and containing as they:  0.06\n",
      "% neg instances starting with if you and containing as they:  0.03\n",
      "Force no errors:\n",
      "% pos instances starting with if you and containing as they:  0.06\n",
      "% neg instances starting with if you and containing as they:  0.04\n"
     ]
    }
   ],
   "source": [
    "# PERCENTAGES of pos and neg instances starting with if you and containing as they (over total pos/neg instances*100) (round to 2 dec)\n",
    "print(\"Force:\")\n",
    "print(\"% pos instances starting with if you and containing as they: \", round(len(pos_ifyou_asthey)/force_aug_counts[1]*100, 2))\n",
    "print(\"% neg instances starting with if you and containing as they: \", round(len(neg_ifyou_asthey)/force_aug_counts[0]*100, 2))\n",
    "\n",
    "print(\"Force no errors:\")\n",
    "print(\"% pos instances starting with if you and containing as they: \", round(len(pos_ifyou_asthey)/force_aug_noerrors_counts[1]*100, 2))\n",
    "print(\"% neg instances starting with if you and containing as they: \", round(len(neg_ifyou_asthey)/force_aug_noerrors_counts[0]*100, 2))"
   ]
  },
  {
   "cell_type": "code",
   "execution_count": 30,
   "metadata": {},
   "outputs": [
    {
     "name": "stdout",
     "output_type": "stream",
     "text": [
      "Positive instances starting with if you and containing as they and possib:  9\n",
      "Negative instances starting with if you and containing as they and possib:  1\n"
     ]
    }
   ],
   "source": [
    "# check for instances containing 'as they', 'if you' and 'possib'\n",
    "\n",
    "pos_ifyou_asthey_possib = []\n",
    "neg_ifyou_asthey_possib = []\n",
    "\n",
    "for split in [force_aug_dataset['train'], force_aug_dataset['validation'], force_aug_dataset['test']]:\n",
    "    for i in split:\n",
    "        if i['label'] == True:\n",
    "            if \"if you\" in i['text'].lower() and \"as they\" in i['text'].lower() and \"possib\" in i['text'].lower():\n",
    "                pos_ifyou_asthey_possib.append(i['text'])\n",
    "        else:\n",
    "            if \"if you\" in i['text'].lower() and \"as they\" in i['text'].lower() and \"possib\" in i['text'].lower():\n",
    "                neg_ifyou_asthey_possib.append(i['text'])\n",
    "\n",
    "print(\"Positive instances starting with if you and containing as they and possib: \", len(pos_ifyou_asthey_possib))\n",
    "print(\"Negative instances starting with if you and containing as they and possib: \", len(neg_ifyou_asthey_possib))\n"
   ]
  },
  {
   "cell_type": "code",
   "execution_count": 31,
   "metadata": {},
   "outputs": [
    {
     "name": "stdout",
     "output_type": "stream",
     "text": [
      "Positive instances with if you, as they and possib:  9\n",
      "Negative instances with if you, as they and possib:  0\n"
     ]
    }
   ],
   "source": [
    "# same for force_aug_noerrors_dataset\n",
    "\n",
    "pos_ifyou_asthey_possib = []\n",
    "neg_ifyou_asthey_possib = []\n",
    "\n",
    "for split in [force_aug_noerrors_dataset['train'], force_aug_noerrors_dataset['validation'], force_aug_noerrors_dataset['test']]:\n",
    "    for i in split:\n",
    "        if i['label'] == True:\n",
    "            if \"if you\" in i['text'].lower() and \"as they\" in i['text'].lower() and \"possib\" in i['text'].lower():\n",
    "                pos_ifyou_asthey_possib.append(i['text'])\n",
    "        else:\n",
    "            if \"if you\" in i['text'].lower() and \"as they\" in i['text'].lower() and \"possib\" in i['text'].lower():\n",
    "                neg_ifyou_asthey_possib.append(i['text'])\n",
    "\n",
    "print(\"Positive instances with if you, as they and possib: \", len(pos_ifyou_asthey_possib))\n",
    "print(\"Negative instances with if you, as they and possib: \", len(neg_ifyou_asthey_possib))"
   ]
  },
  {
   "cell_type": "code",
   "execution_count": 32,
   "metadata": {},
   "outputs": [
    {
     "name": "stdout",
     "output_type": "stream",
     "text": [
      "Positive instances with if you, as they and based on:  1\n",
      "Negative instances with if you, as they and based on:  0\n"
     ]
    }
   ],
   "source": [
    "# check for instances containing 'as they', 'if you' and 'based on' in both datasets\n",
    "\n",
    "pos_ifyou_asthey_basedon = []\n",
    "neg_ifyou_asthey_basedon = []\n",
    "\n",
    "for split in [force_aug_dataset['train'], force_aug_dataset['validation'], force_aug_dataset['test']]:\n",
    "    for i in split:\n",
    "        if i['label'] == True:\n",
    "            if \"if you\" in i['text'].lower() and \"as they\" in i['text'].lower() and \"based on\" in i['text'].lower():\n",
    "                pos_ifyou_asthey_basedon.append(i['text'])\n",
    "        else:\n",
    "            if \"if you\" in i['text'].lower() and \"as they\" in i['text'].lower() and \"based on\" in i['text'].lower():\n",
    "                neg_ifyou_asthey_basedon.append(i['text'])\n",
    "\n",
    "print(\"Positive instances with if you, as they and based on: \", len(pos_ifyou_asthey_basedon))\n",
    "print(\"Negative instances with if you, as they and based on: \", len(neg_ifyou_asthey_basedon))"
   ]
  },
  {
   "cell_type": "code",
   "execution_count": 33,
   "metadata": {},
   "outputs": [
    {
     "name": "stdout",
     "output_type": "stream",
     "text": [
      "Positive instances with if you and based on:  10\n",
      "Negative instances with if you and based on:  19\n",
      "Positive instances with if you and based on:  10\n",
      "Negative instances with if you and based on:  11\n"
     ]
    }
   ],
   "source": [
    "# check for instances containing 'if you' and 'based on' in both datasets\n",
    "\n",
    "pos_ifyou_basedon = []\n",
    "neg_ifyou_basedon = []\n",
    "\n",
    "for split in [force_aug_dataset['train'], force_aug_dataset['validation'], force_aug_dataset['test']]:\n",
    "    for i in split:\n",
    "        if i['label'] == True:\n",
    "            if \"if you\" in i['text'].lower() and \"based on\" in i['text'].lower():\n",
    "                pos_ifyou_basedon.append(i['text'])\n",
    "        else:\n",
    "            if \"if you\" in i['text'].lower() and \"based on\" in i['text'].lower():\n",
    "                neg_ifyou_basedon.append(i['text'])\n",
    "\n",
    "print(\"Positive instances with if you and based on: \", len(pos_ifyou_basedon))\n",
    "print(\"Negative instances with if you and based on: \", len(neg_ifyou_basedon))\n",
    "\n",
    "pos_ifyou_basedon = []\n",
    "neg_ifyou_basedon = []\n",
    "\n",
    "for split in [force_aug_noerrors_dataset['train'], force_aug_noerrors_dataset['validation'], force_aug_noerrors_dataset['test']]:\n",
    "    for i in split:\n",
    "        if i['label'] == True:\n",
    "            # if you at the start\n",
    "            #if i['text'].lower().startswith(\"if you\") and \"based on\" in i['text'].lower():\n",
    "            # if you or when you at the start\n",
    "            #if i['text'].lower().startswith(\"if you\") or i['text'].lower().startswith(\"when you\") and \"based on\" in i['text'].lower():\n",
    "            # if you anywhere\n",
    "            if \"if you\" in i['text'].lower() and \"based on\" in i['text'].lower():\n",
    "                pos_ifyou_basedon.append(i['text'])\n",
    "        else:\n",
    "            # if you at the start\n",
    "            #if i['text'].lower().startswith(\"if you\") and \"based on\" in i['text'].lower():\n",
    "            # if you or when you at the start\n",
    "            #if i['text'].lower().startswith(\"if you\") or i['text'].lower().startswith(\"when you\") and \"based on\" in i['text'].lower():\n",
    "            # if you anywhere\n",
    "            if \"if you\" in i['text'].lower() and \"based on\" in i['text'].lower():\n",
    "                neg_ifyou_basedon.append(i['text'])\n",
    "\n",
    "print(\"Positive instances with if you and based on: \", len(pos_ifyou_basedon))\n",
    "print(\"Negative instances with if you and based on: \", len(neg_ifyou_basedon))"
   ]
  },
  {
   "cell_type": "code",
   "execution_count": 34,
   "metadata": {},
   "outputs": [
    {
     "name": "stdout",
     "output_type": "stream",
     "text": [
      "Force_aug_noerrors:  (11, 10)\n",
      "Force_aug:  (19, 10)\n",
      "Base:  (11, 8)\n"
     ]
    }
   ],
   "source": [
    "# check for instances starting with 'if you' and containing 'based on'\n",
    "\n",
    "#ifyou_basedon_base = () # tuple of (neg, pos)\n",
    "#ifyou_basedon_force = ()\n",
    "#ifyou_basedon_force_noerrors = ()\n",
    "\n",
    "def get_ifyou_basedon_nums(dataset):\n",
    "    pos, neg = 0, 0\n",
    "    for split in [dataset['train'], dataset['validation'], dataset['test']]:\n",
    "        for i in split:\n",
    "            #if you at the start\n",
    "            #if i['text'].lower().startswith(\"if you\") and \"based on\" in i['text'].lower():\n",
    "            # if you anywhere\n",
    "            if \"if you\" in i['text'].lower() and \"based on\" in i['text'].lower():\n",
    "                if i['label'] == True:\n",
    "                    pos += 1\n",
    "                else:\n",
    "                    neg += 1\n",
    "    return (neg, pos)\n",
    "\n",
    "print(\"Force_aug_noerrors: \", get_ifyou_basedon_nums(force_aug_noerrors_dataset))\n",
    "print(\"Force_aug: \", get_ifyou_basedon_nums(force_aug_dataset))\n",
    "print(\"Base: \", get_ifyou_basedon_nums(base_dataset))"
   ]
  },
  {
   "cell_type": "code",
   "execution_count": 35,
   "metadata": {},
   "outputs": [
    {
     "name": "stdout",
     "output_type": "stream",
     "text": [
      "Base:  (0.29, 0.13)\n",
      "Force:  (0.55, 0.14)\n",
      "Force_noerrors:  (0.47, 0.14)\n"
     ]
    }
   ],
   "source": [
    "# for each dataset, get PERCENTAGES of neg and pos instances containing 'if you' and 'based on'\n",
    "\n",
    "ifyou_basedon_base = get_ifyou_basedon_nums(base_dataset)\n",
    "ifyou_basedon_base_percentages = (\n",
    "    round(\n",
    "        ifyou_basedon_base[0]/base_counts[0]*100, 2\n",
    "    ), \n",
    "    round(\n",
    "        ifyou_basedon_base[1]/base_counts[1]*100, 2\n",
    "    )\n",
    ")\n",
    "\n",
    "ifyou_basedon_force = get_ifyou_basedon_nums(force_aug_dataset)\n",
    "ifyou_basedon_force_percentages = (\n",
    "    round(\n",
    "        ifyou_basedon_force[0]/force_aug_counts[0]*100, 2\n",
    "    ), \n",
    "    round(\n",
    "        ifyou_basedon_force[1]/force_aug_counts[1]*100, 2\n",
    "    )\n",
    ")\n",
    "\n",
    "ifyou_basedon_force_noerrors = get_ifyou_basedon_nums(force_aug_noerrors_dataset)\n",
    "ifyou_basedon_force_noerrors_percentages = (\n",
    "    round(\n",
    "        ifyou_basedon_force_noerrors[0]/force_aug_noerrors_counts[0]*100, 2\n",
    "    ), \n",
    "    round(\n",
    "        ifyou_basedon_force_noerrors[1]/force_aug_noerrors_counts[1]*100, 2\n",
    "    )\n",
    ")\n",
    "\n",
    "print(\"Base: \", ifyou_basedon_base_percentages)\n",
    "print(\"Force: \", ifyou_basedon_force_percentages)\n",
    "print(\"Force_noerrors: \", ifyou_basedon_force_noerrors_percentages)"
   ]
  }
 ],
 "metadata": {
  "kernelspec": {
   "display_name": "thesis-venv",
   "language": "python",
   "name": "python3"
  },
  "language_info": {
   "codemirror_mode": {
    "name": "ipython",
    "version": 3
   },
   "file_extension": ".py",
   "mimetype": "text/x-python",
   "name": "python",
   "nbconvert_exporter": "python",
   "pygments_lexer": "ipython3",
   "version": "3.10.8"
  }
 },
 "nbformat": 4,
 "nbformat_minor": 2
}
