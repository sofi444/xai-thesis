{
 "cells": [
  {
   "cell_type": "markdown",
   "metadata": {},
   "source": [
    "# Interpreting the predictions and coefficients of Logistic Regression"
   ]
  },
  {
   "cell_type": "markdown",
   "metadata": {},
   "source": [
    "## Set up dataframe with features and labels"
   ]
  },
  {
   "cell_type": "code",
   "execution_count": 2,
   "metadata": {},
   "outputs": [],
   "source": [
    "import sys\n",
    "sys.path.append('/Users/q616967/Library/Python/3.10/lib/python/site-packages')"
   ]
  },
  {
   "cell_type": "code",
   "execution_count": 3,
   "metadata": {},
   "outputs": [],
   "source": [
    "import os\n",
    "import pandas as pd\n",
    "import json\n",
    "import numpy as np\n",
    "\n",
    "from sklearn.model_selection import train_test_split"
   ]
  },
  {
   "cell_type": "code",
   "execution_count": 4,
   "metadata": {},
   "outputs": [],
   "source": [
    "PROJECT_DIR = \"/Users/q616967/Workspace/thesis/uni/xai-thesis/\"\n",
    "FEATURES_DIR = os.path.join(PROJECT_DIR, \"feature_extraction/featureExtraction/output/\")\n",
    "RESPONSES_DIR = os.path.join(PROJECT_DIR, \"responses/\")"
   ]
  },
  {
   "cell_type": "code",
   "execution_count": 133,
   "metadata": {},
   "outputs": [],
   "source": [
    "features_df = pd.read_csv(os.path.join(FEATURES_DIR, \"merged_features.csv\"))"
   ]
  },
  {
   "cell_type": "code",
   "execution_count": 6,
   "metadata": {},
   "outputs": [],
   "source": [
    "responses_filename = \"formatted_turbo14081857_turbo1508_eval.json\"\n",
    "\n",
    "with open(os.path.join(RESPONSES_DIR, responses_filename), \"r\") as f:\n",
    "    responses = json.load(f)"
   ]
  },
  {
   "cell_type": "code",
   "execution_count": 17,
   "metadata": {},
   "outputs": [],
   "source": [
    "idx_outcome_dict = {int(idx):res_dict['outcome'] for idx, res_dict in responses.items()}\n",
    "\n",
    "labels_df = pd.DataFrame.from_dict(idx_outcome_dict, columns=['outcome'], orient='index')\n",
    "\n",
    "try:\n",
    "    assert len(features_df) == len(labels_df)\n",
    "except AssertionError:\n",
    "    print(\"Length mismatch between features and labels\")\n",
    "\n",
    "data_df = pd.merge(features_df, labels_df, left_index=True, right_index=True)"
   ]
  },
  {
   "cell_type": "markdown",
   "metadata": {},
   "source": [
    "## Basic Pre-processing"
   ]
  },
  {
   "cell_type": "code",
   "execution_count": 18,
   "metadata": {},
   "outputs": [],
   "source": [
    "train_df, test_df = train_test_split(data_df, test_size=0.2, random_state=42)\n",
    "\n",
    "X_train = train_df.drop(columns=['outcome'])\n",
    "y_train = train_df['outcome']\n",
    "\n",
    "X_test = test_df.drop(columns=['outcome'])\n",
    "y_test = test_df['outcome']"
   ]
  },
  {
   "cell_type": "code",
   "execution_count": 19,
   "metadata": {},
   "outputs": [],
   "source": [
    "# standardise the values of the features (to the same range/scale)\n",
    "from sklearn.preprocessing import StandardScaler\n",
    "\n",
    "features = X_train.columns\n",
    "scaler = StandardScaler()\n",
    "\n",
    "X_train[features] = scaler.fit_transform(X_train[features])\n",
    "X_test[features] = scaler.transform(X_test[features])"
   ]
  },
  {
   "cell_type": "code",
   "execution_count": 20,
   "metadata": {},
   "outputs": [],
   "source": [
    "# features in X_train where all the values are the same - constant features\n",
    "constant_features = X_train.columns[X_train.nunique() == 1]\n",
    "\n",
    "# drop constant features from both X_train and X_test\n",
    "X_train.drop(labels=constant_features, axis=1, inplace=True)\n",
    "X_test.drop(labels=constant_features, axis=1, inplace=True)"
   ]
  },
  {
   "cell_type": "code",
   "execution_count": 55,
   "metadata": {},
   "outputs": [],
   "source": [
    "from sklearn.feature_selection import SelectKBest\n",
    "from sklearn.feature_selection import f_classif\n",
    "\n",
    "# working with 20 features for simplicity\n",
    "selector = SelectKBest(f_classif, k=20)\n",
    "\n",
    "X_train_kbest = selector.fit_transform(X_train, y_train)\n",
    "\n",
    "# idx of selected features\n",
    "selected_idx = selector.get_support(indices=True)\n",
    "# names of selected features\n",
    "selected_features = X_train.columns[selected_idx]\n",
    "\n",
    "# df with only the selected features (full data) + outcome\n",
    "data_kbest = data_df[selected_features]\n",
    "data_kbest = data_kbest.join(data_df['outcome'])\n",
    "\n",
    "# df with only the selected features (after train/test split)\n",
    "X_train_kbest = X_train[selected_features]\n",
    "X_test_kbest = X_test[selected_features]"
   ]
  },
  {
   "cell_type": "markdown",
   "metadata": {},
   "source": [
    "## Classification and interpretation"
   ]
  },
  {
   "cell_type": "code",
   "execution_count": 56,
   "metadata": {},
   "outputs": [],
   "source": [
    "from sklearn.linear_model import LogisticRegression\n",
    "from sklearn.metrics import accuracy_score\n",
    "\n",
    "model = LogisticRegression(random_state=1)\n",
    "model.fit(X_train_kbest, y_train)\n",
    "\n",
    "y_pred = model.predict(X_test_kbest) # returns predicted class labels\n",
    "y_pred_proba = model.predict_proba(X_test_kbest) # returns predicted probabilities\n",
    "\n",
    "accuracy = accuracy_score(y_test, y_pred)"
   ]
  },
  {
   "cell_type": "code",
   "execution_count": 63,
   "metadata": {},
   "outputs": [
    {
     "data": {
      "text/plain": [
       "(array([ True,  True,  True, False,  True,  True, False,  True, False,\n",
       "         True]),\n",
       " array([[0.12459267, 0.87540733],\n",
       "        [0.28715134, 0.71284866],\n",
       "        [0.38211167, 0.61788833],\n",
       "        [0.64147482, 0.35852518],\n",
       "        [0.27549349, 0.72450651],\n",
       "        [0.39031635, 0.60968365],\n",
       "        [0.56317507, 0.43682493],\n",
       "        [0.14812088, 0.85187912],\n",
       "        [0.59290934, 0.40709066],\n",
       "        [0.43958082, 0.56041918]]))"
      ]
     },
     "execution_count": 63,
     "metadata": {},
     "output_type": "execute_result"
    }
   ],
   "source": [
    "y_pred[:10], y_pred_proba[:10]"
   ]
  },
  {
   "cell_type": "code",
   "execution_count": 57,
   "metadata": {},
   "outputs": [
    {
     "data": {
      "text/plain": [
       "{'intercept': array([0.53091152]),\n",
       " 'coefficients': array([[-0.33556115, -0.17134495,  0.36438759,  0.53155209,  0.07793284,\n",
       "          0.31442706, -0.1778761 , -0.43130745, -0.21452493,  0.08669528,\n",
       "          0.08669528,  0.08669528,  0.08425419, -0.46575119, -0.1360285 ,\n",
       "         -0.25359424, -0.42388194, -0.02054036, -0.02054036, -0.02054036]]),\n",
       " 'score': 0.65,\n",
       " 'accuracy': 0.5857142857142857}"
      ]
     },
     "execution_count": 57,
     "metadata": {},
     "output_type": "execute_result"
    }
   ],
   "source": [
    "model_stats = {'intercept': model.intercept_, \n",
    "                'coefficients': model.coef_,\n",
    "                'score': model.score(X_train_kbest, y_train),\n",
    "                'accuracy': accuracy}\n",
    "model_stats"
   ]
  },
  {
   "cell_type": "code",
   "execution_count": 58,
   "metadata": {},
   "outputs": [],
   "source": [
    "selected_features = selected_features.tolist()\n",
    "coef = model.coef_.tolist()[0]"
   ]
  },
  {
   "cell_type": "code",
   "execution_count": 59,
   "metadata": {},
   "outputs": [
    {
     "data": {
      "text/html": [
       "<div>\n",
       "<style scoped>\n",
       "    .dataframe tbody tr th:only-of-type {\n",
       "        vertical-align: middle;\n",
       "    }\n",
       "\n",
       "    .dataframe tbody tr th {\n",
       "        vertical-align: top;\n",
       "    }\n",
       "\n",
       "    .dataframe thead th {\n",
       "        text-align: right;\n",
       "    }\n",
       "</style>\n",
       "<table border=\"1\" class=\"dataframe\">\n",
       "  <thead>\n",
       "    <tr style=\"text-align: right;\">\n",
       "      <th></th>\n",
       "      <th>feature</th>\n",
       "      <th>coef</th>\n",
       "    </tr>\n",
       "  </thead>\n",
       "  <tbody>\n",
       "    <tr>\n",
       "      <th>3</th>\n",
       "      <td>Space_GI_neg_3</td>\n",
       "      <td>0.531552</td>\n",
       "    </tr>\n",
       "    <tr>\n",
       "      <th>2</th>\n",
       "      <td>Socrel_GI_neg_3</td>\n",
       "      <td>0.364388</td>\n",
       "    </tr>\n",
       "    <tr>\n",
       "      <th>5</th>\n",
       "      <td>attention_nouns</td>\n",
       "      <td>0.314427</td>\n",
       "    </tr>\n",
       "    <tr>\n",
       "      <th>10</th>\n",
       "      <td>Ord_GI_adverbs</td>\n",
       "      <td>0.086695</td>\n",
       "    </tr>\n",
       "    <tr>\n",
       "      <th>11</th>\n",
       "      <td>Pos_GI_adverbs</td>\n",
       "      <td>0.086695</td>\n",
       "    </tr>\n",
       "    <tr>\n",
       "      <th>9</th>\n",
       "      <td>Numb_GI_adverbs</td>\n",
       "      <td>0.086695</td>\n",
       "    </tr>\n",
       "    <tr>\n",
       "      <th>12</th>\n",
       "      <td>Timespc_Lasswell_adverbs</td>\n",
       "      <td>0.084254</td>\n",
       "    </tr>\n",
       "    <tr>\n",
       "      <th>4</th>\n",
       "      <td>Affloss_Lasswell_neg_3</td>\n",
       "      <td>0.077933</td>\n",
       "    </tr>\n",
       "    <tr>\n",
       "      <th>18</th>\n",
       "      <td>Ord_GI_adverbs_neg_3</td>\n",
       "      <td>-0.020540</td>\n",
       "    </tr>\n",
       "    <tr>\n",
       "      <th>17</th>\n",
       "      <td>Numb_GI_adverbs_neg_3</td>\n",
       "      <td>-0.020540</td>\n",
       "    </tr>\n",
       "    <tr>\n",
       "      <th>19</th>\n",
       "      <td>Pos_GI_adverbs_neg_3</td>\n",
       "      <td>-0.020540</td>\n",
       "    </tr>\n",
       "    <tr>\n",
       "      <th>14</th>\n",
       "      <td>polarity_nouns_neg_3</td>\n",
       "      <td>-0.136028</td>\n",
       "    </tr>\n",
       "    <tr>\n",
       "      <th>1</th>\n",
       "      <td>Affloss_Lasswell</td>\n",
       "      <td>-0.171345</td>\n",
       "    </tr>\n",
       "    <tr>\n",
       "      <th>6</th>\n",
       "      <td>Virtue_GI_nouns</td>\n",
       "      <td>-0.177876</td>\n",
       "    </tr>\n",
       "    <tr>\n",
       "      <th>8</th>\n",
       "      <td>Work_GI_verbs</td>\n",
       "      <td>-0.214525</td>\n",
       "    </tr>\n",
       "    <tr>\n",
       "      <th>15</th>\n",
       "      <td>Causal_GI_nouns_neg_3</td>\n",
       "      <td>-0.253594</td>\n",
       "    </tr>\n",
       "    <tr>\n",
       "      <th>0</th>\n",
       "      <td>Space_GI</td>\n",
       "      <td>-0.335561</td>\n",
       "    </tr>\n",
       "    <tr>\n",
       "      <th>16</th>\n",
       "      <td>Affloss_Lasswell_nouns_neg_3</td>\n",
       "      <td>-0.423882</td>\n",
       "    </tr>\n",
       "    <tr>\n",
       "      <th>7</th>\n",
       "      <td>Affloss_Lasswell_nouns</td>\n",
       "      <td>-0.431307</td>\n",
       "    </tr>\n",
       "    <tr>\n",
       "      <th>13</th>\n",
       "      <td>attention_nouns_neg_3</td>\n",
       "      <td>-0.465751</td>\n",
       "    </tr>\n",
       "  </tbody>\n",
       "</table>\n",
       "</div>"
      ],
      "text/plain": [
       "                         feature      coef\n",
       "3                 Space_GI_neg_3  0.531552\n",
       "2                Socrel_GI_neg_3  0.364388\n",
       "5                attention_nouns  0.314427\n",
       "10                Ord_GI_adverbs  0.086695\n",
       "11                Pos_GI_adverbs  0.086695\n",
       "9                Numb_GI_adverbs  0.086695\n",
       "12      Timespc_Lasswell_adverbs  0.084254\n",
       "4         Affloss_Lasswell_neg_3  0.077933\n",
       "18          Ord_GI_adverbs_neg_3 -0.020540\n",
       "17         Numb_GI_adverbs_neg_3 -0.020540\n",
       "19          Pos_GI_adverbs_neg_3 -0.020540\n",
       "14          polarity_nouns_neg_3 -0.136028\n",
       "1               Affloss_Lasswell -0.171345\n",
       "6                Virtue_GI_nouns -0.177876\n",
       "8                  Work_GI_verbs -0.214525\n",
       "15         Causal_GI_nouns_neg_3 -0.253594\n",
       "0                       Space_GI -0.335561\n",
       "16  Affloss_Lasswell_nouns_neg_3 -0.423882\n",
       "7         Affloss_Lasswell_nouns -0.431307\n",
       "13         attention_nouns_neg_3 -0.465751"
      ]
     },
     "execution_count": 59,
     "metadata": {},
     "output_type": "execute_result"
    }
   ],
   "source": [
    "coef_df = pd.DataFrame({'feature': selected_features, 'coef': coef})\n",
    "coef_df = coef_df.sort_values(by='coef', ascending=False)\n",
    "coef_df"
   ]
  },
  {
   "cell_type": "markdown",
   "metadata": {},
   "source": [
    "#### What do these coefficients mean??\n",
    "\n",
    "+ a positive coefficient means that the feature contributed to a positive prediction (True)\n",
    "+ a negative coefficient means that the feature contributed to a negative prediction (False)\n",
    "+ large abs value means that the feature is more important\n",
    "+ coef_ does not include the intercept (model.intercept_)\n",
    "+ the magnitude of coefficients only makes sense if the data is normalised.\n",
    "+ LR coefficients are odd ratios - transform to probabilities to get something more interpretable\n",
    "\n",
    "--\n",
    "\n",
    "+ probabilities: 0 to 1\n",
    "+ log odds: negative infinity to positive infinity\n",
    "+ odds: 0 to positive infinity\n",
    "\n",
    "--\n",
    "\n",
    "Given two outcomes A and B, if the probability of A is 0.5 (and of B also 0.5), then the odds are 1 (odd ratio is 1:1 - both are equally probable) and the log odds are 0\n",
    "\n",
    "The trasformations prob -> log odds and log odds -> odds are monotonic: the greater one is, the greater the other ones are as well\n",
    "\n",
    "We transform probs to log odds because probs have a restricted range (0 to 1). It is difficult to model a variable which has restricted range. This transformation is an attempt to get around the restricted range problem. It maps probability ranging between 0 and 1 to log odds ranging from negative infinity to positive infinity. Also, the log of odds is one of the easiest to understand and interpret.  \n",
    "\n",
    "Logistic Regression: models the logit-transformed probability as a linear relationship with the predictor variables.\n",
    "\n",
    "--\n",
    "\n",
    "log(p/(1-p)) = coeff\n",
    "\n",
    "- p is the overall probability of class 1\n",
    "\n",
    "If p = 49/200 =  .245. The odds are .245/(1-.245) = .3245 and the log of the odds (logit) is log(.3245) = -1.12546. In other words, the intercept from the model with no predictor variables is the estimated log odds of all the datapoints belonging to class 1.  We can also transform the log of the odds back to a probability: p = exp(-1.12546)/(1+exp(-1.12546)) = .245\n",
    "\n",
    "--\n",
    "\n",
    "https://stats.oarc.ucla.edu/other/mult-pkg/faq/general/faq-how-do-i-interpret-odds-ratios-in-logistic-regression/"
   ]
  },
  {
   "cell_type": "markdown",
   "metadata": {},
   "source": [
    "#### Model confidence"
   ]
  },
  {
   "cell_type": "code",
   "execution_count": 87,
   "metadata": {},
   "outputs": [
    {
     "data": {
      "text/html": [
       "<div>\n",
       "<style scoped>\n",
       "    .dataframe tbody tr th:only-of-type {\n",
       "        vertical-align: middle;\n",
       "    }\n",
       "\n",
       "    .dataframe tbody tr th {\n",
       "        vertical-align: top;\n",
       "    }\n",
       "\n",
       "    .dataframe thead th {\n",
       "        text-align: right;\n",
       "    }\n",
       "</style>\n",
       "<table border=\"1\" class=\"dataframe\">\n",
       "  <thead>\n",
       "    <tr style=\"text-align: right;\">\n",
       "      <th></th>\n",
       "      <th>Space_GI</th>\n",
       "      <th>Affloss_Lasswell</th>\n",
       "      <th>Socrel_GI_neg_3</th>\n",
       "      <th>Space_GI_neg_3</th>\n",
       "      <th>Affloss_Lasswell_neg_3</th>\n",
       "      <th>attention_nouns</th>\n",
       "      <th>Virtue_GI_nouns</th>\n",
       "      <th>Affloss_Lasswell_nouns</th>\n",
       "      <th>Work_GI_verbs</th>\n",
       "      <th>Numb_GI_adverbs</th>\n",
       "      <th>Ord_GI_adverbs</th>\n",
       "      <th>Pos_GI_adverbs</th>\n",
       "      <th>Timespc_Lasswell_adverbs</th>\n",
       "      <th>attention_nouns_neg_3</th>\n",
       "      <th>polarity_nouns_neg_3</th>\n",
       "      <th>Causal_GI_nouns_neg_3</th>\n",
       "      <th>Affloss_Lasswell_nouns_neg_3</th>\n",
       "      <th>Numb_GI_adverbs_neg_3</th>\n",
       "      <th>Ord_GI_adverbs_neg_3</th>\n",
       "      <th>Pos_GI_adverbs_neg_3</th>\n",
       "    </tr>\n",
       "  </thead>\n",
       "  <tbody>\n",
       "    <tr>\n",
       "      <th>39</th>\n",
       "      <td>0.682836</td>\n",
       "      <td>-0.136119</td>\n",
       "      <td>-0.572866</td>\n",
       "      <td>0.863774</td>\n",
       "      <td>-0.125198</td>\n",
       "      <td>-0.697388</td>\n",
       "      <td>0.189828</td>\n",
       "      <td>-0.085203</td>\n",
       "      <td>-0.449542</td>\n",
       "      <td>0.839064</td>\n",
       "      <td>0.839064</td>\n",
       "      <td>0.839064</td>\n",
       "      <td>1.101521</td>\n",
       "      <td>-0.690602</td>\n",
       "      <td>-0.734356</td>\n",
       "      <td>-0.449195</td>\n",
       "      <td>-0.085058</td>\n",
       "      <td>0.783898</td>\n",
       "      <td>0.783898</td>\n",
       "      <td>0.783898</td>\n",
       "    </tr>\n",
       "  </tbody>\n",
       "</table>\n",
       "</div>"
      ],
      "text/plain": [
       "    Space_GI  Affloss_Lasswell  Socrel_GI_neg_3  Space_GI_neg_3  \\\n",
       "39  0.682836         -0.136119        -0.572866        0.863774   \n",
       "\n",
       "    Affloss_Lasswell_neg_3  attention_nouns  Virtue_GI_nouns  \\\n",
       "39               -0.125198        -0.697388         0.189828   \n",
       "\n",
       "    Affloss_Lasswell_nouns  Work_GI_verbs  Numb_GI_adverbs  Ord_GI_adverbs  \\\n",
       "39               -0.085203      -0.449542         0.839064        0.839064   \n",
       "\n",
       "    Pos_GI_adverbs  Timespc_Lasswell_adverbs  attention_nouns_neg_3  \\\n",
       "39        0.839064                  1.101521              -0.690602   \n",
       "\n",
       "    polarity_nouns_neg_3  Causal_GI_nouns_neg_3  Affloss_Lasswell_nouns_neg_3  \\\n",
       "39             -0.734356              -0.449195                     -0.085058   \n",
       "\n",
       "    Numb_GI_adverbs_neg_3  Ord_GI_adverbs_neg_3  Pos_GI_adverbs_neg_3  \n",
       "39               0.783898              0.783898              0.783898  "
      ]
     },
     "execution_count": 87,
     "metadata": {},
     "output_type": "execute_result"
    }
   ],
   "source": [
    "# random sample from test set\n",
    "test_sample = pd.DataFrame(X_test_kbest.iloc[np.random.randint(0, len(X_test_kbest))]).T\n",
    "test_sample"
   ]
  },
  {
   "cell_type": "code",
   "execution_count": 94,
   "metadata": {},
   "outputs": [
    {
     "name": "stdout",
     "output_type": "stream",
     "text": [
      "predicted class = 1 | confidence = 0.782471014272346\n"
     ]
    }
   ],
   "source": [
    "one_pred_proba = model.predict_proba(test_sample)\n",
    "pred_class = one_pred_proba.argmax()\n",
    "\n",
    "print(f'predicted class = {pred_class} | confidence = {max(one_pred_proba[0])}')"
   ]
  },
  {
   "cell_type": "markdown",
   "metadata": {},
   "source": [
    "#### Sanity check"
   ]
  },
  {
   "cell_type": "code",
   "execution_count": 120,
   "metadata": {},
   "outputs": [
    {
     "name": "stdout",
     "output_type": "stream",
     "text": [
      "bool_label = True | num_label = 1 | probs = [0.39031635 0.60968365]\n",
      "bool_label = True | num_label = 1 | probs = [0.22359629 0.77640371]\n",
      "bool_label = False | num_label = 0 | probs = [0.71415173 0.28584827]\n"
     ]
    }
   ],
   "source": [
    "'''\n",
    "y_pred: predicted class label (True/False) - numpy array\n",
    "y_test: gold standard class label (True/False) - pandas series\n",
    "y_pred_proba: predicted probabilties for each class - numpy array\n",
    "\n",
    "check that the max probability corresponds to the predicted class label\n",
    "and that 0 = False and 1 = True\n",
    "'''\n",
    "\n",
    "assert len(y_pred) == len(y_test) == len(y_pred_proba)\n",
    "\n",
    "for i in range(len(y_pred)):\n",
    "    bool_label = y_pred[i]\n",
    "    probs = y_pred_proba[i]\n",
    "    num_label = probs.argmax()\n",
    "\n",
    "    if i in [5,25,50]:\n",
    "        print(f\"bool_label = {bool_label} | num_label = {num_label} | probs = {probs}\")\n",
    "    \n",
    "    if probs[0] > probs[1]:\n",
    "        assert bool_label == False\n",
    "        assert num_label == 0\n",
    "    elif probs[0] < probs[1]:\n",
    "        assert bool_label == True\n",
    "        assert num_label == 1"
   ]
  },
  {
   "cell_type": "markdown",
   "metadata": {},
   "source": [
    "### Transforming the coefficients"
   ]
  },
  {
   "cell_type": "code",
   "execution_count": 124,
   "metadata": {},
   "outputs": [
    {
     "data": {
      "text/html": [
       "<div>\n",
       "<style scoped>\n",
       "    .dataframe tbody tr th:only-of-type {\n",
       "        vertical-align: middle;\n",
       "    }\n",
       "\n",
       "    .dataframe tbody tr th {\n",
       "        vertical-align: top;\n",
       "    }\n",
       "\n",
       "    .dataframe thead th {\n",
       "        text-align: right;\n",
       "    }\n",
       "</style>\n",
       "<table border=\"1\" class=\"dataframe\">\n",
       "  <thead>\n",
       "    <tr style=\"text-align: right;\">\n",
       "      <th></th>\n",
       "      <th>feature</th>\n",
       "      <th>coef</th>\n",
       "      <th>odds</th>\n",
       "      <th>probs</th>\n",
       "    </tr>\n",
       "  </thead>\n",
       "  <tbody>\n",
       "    <tr>\n",
       "      <th>3</th>\n",
       "      <td>Space_GI_neg_3</td>\n",
       "      <td>0.531552</td>\n",
       "      <td>1.701571</td>\n",
       "      <td>0.629845</td>\n",
       "    </tr>\n",
       "    <tr>\n",
       "      <th>2</th>\n",
       "      <td>Socrel_GI_neg_3</td>\n",
       "      <td>0.364388</td>\n",
       "      <td>1.439632</td>\n",
       "      <td>0.590102</td>\n",
       "    </tr>\n",
       "    <tr>\n",
       "      <th>5</th>\n",
       "      <td>attention_nouns</td>\n",
       "      <td>0.314427</td>\n",
       "      <td>1.369474</td>\n",
       "      <td>0.577965</td>\n",
       "    </tr>\n",
       "    <tr>\n",
       "      <th>10</th>\n",
       "      <td>Ord_GI_adverbs</td>\n",
       "      <td>0.086695</td>\n",
       "      <td>1.090564</td>\n",
       "      <td>0.521660</td>\n",
       "    </tr>\n",
       "    <tr>\n",
       "      <th>11</th>\n",
       "      <td>Pos_GI_adverbs</td>\n",
       "      <td>0.086695</td>\n",
       "      <td>1.090564</td>\n",
       "      <td>0.521660</td>\n",
       "    </tr>\n",
       "    <tr>\n",
       "      <th>9</th>\n",
       "      <td>Numb_GI_adverbs</td>\n",
       "      <td>0.086695</td>\n",
       "      <td>1.090564</td>\n",
       "      <td>0.521660</td>\n",
       "    </tr>\n",
       "    <tr>\n",
       "      <th>12</th>\n",
       "      <td>Timespc_Lasswell_adverbs</td>\n",
       "      <td>0.084254</td>\n",
       "      <td>1.087905</td>\n",
       "      <td>0.521051</td>\n",
       "    </tr>\n",
       "    <tr>\n",
       "      <th>4</th>\n",
       "      <td>Affloss_Lasswell_neg_3</td>\n",
       "      <td>0.077933</td>\n",
       "      <td>1.081050</td>\n",
       "      <td>0.519473</td>\n",
       "    </tr>\n",
       "    <tr>\n",
       "      <th>18</th>\n",
       "      <td>Ord_GI_adverbs_neg_3</td>\n",
       "      <td>-0.020540</td>\n",
       "      <td>0.979669</td>\n",
       "      <td>0.494865</td>\n",
       "    </tr>\n",
       "    <tr>\n",
       "      <th>17</th>\n",
       "      <td>Numb_GI_adverbs_neg_3</td>\n",
       "      <td>-0.020540</td>\n",
       "      <td>0.979669</td>\n",
       "      <td>0.494865</td>\n",
       "    </tr>\n",
       "    <tr>\n",
       "      <th>19</th>\n",
       "      <td>Pos_GI_adverbs_neg_3</td>\n",
       "      <td>-0.020540</td>\n",
       "      <td>0.979669</td>\n",
       "      <td>0.494865</td>\n",
       "    </tr>\n",
       "    <tr>\n",
       "      <th>14</th>\n",
       "      <td>polarity_nouns_neg_3</td>\n",
       "      <td>-0.136028</td>\n",
       "      <td>0.872818</td>\n",
       "      <td>0.466045</td>\n",
       "    </tr>\n",
       "    <tr>\n",
       "      <th>1</th>\n",
       "      <td>Affloss_Lasswell</td>\n",
       "      <td>-0.171345</td>\n",
       "      <td>0.842531</td>\n",
       "      <td>0.457268</td>\n",
       "    </tr>\n",
       "    <tr>\n",
       "      <th>6</th>\n",
       "      <td>Virtue_GI_nouns</td>\n",
       "      <td>-0.177876</td>\n",
       "      <td>0.837046</td>\n",
       "      <td>0.455648</td>\n",
       "    </tr>\n",
       "    <tr>\n",
       "      <th>8</th>\n",
       "      <td>Work_GI_verbs</td>\n",
       "      <td>-0.214525</td>\n",
       "      <td>0.806925</td>\n",
       "      <td>0.446574</td>\n",
       "    </tr>\n",
       "    <tr>\n",
       "      <th>15</th>\n",
       "      <td>Causal_GI_nouns_neg_3</td>\n",
       "      <td>-0.253594</td>\n",
       "      <td>0.776007</td>\n",
       "      <td>0.436939</td>\n",
       "    </tr>\n",
       "    <tr>\n",
       "      <th>0</th>\n",
       "      <td>Space_GI</td>\n",
       "      <td>-0.335561</td>\n",
       "      <td>0.714937</td>\n",
       "      <td>0.416888</td>\n",
       "    </tr>\n",
       "    <tr>\n",
       "      <th>16</th>\n",
       "      <td>Affloss_Lasswell_nouns_neg_3</td>\n",
       "      <td>-0.423882</td>\n",
       "      <td>0.654501</td>\n",
       "      <td>0.395588</td>\n",
       "    </tr>\n",
       "    <tr>\n",
       "      <th>7</th>\n",
       "      <td>Affloss_Lasswell_nouns</td>\n",
       "      <td>-0.431307</td>\n",
       "      <td>0.649659</td>\n",
       "      <td>0.393814</td>\n",
       "    </tr>\n",
       "    <tr>\n",
       "      <th>13</th>\n",
       "      <td>attention_nouns_neg_3</td>\n",
       "      <td>-0.465751</td>\n",
       "      <td>0.627663</td>\n",
       "      <td>0.385622</td>\n",
       "    </tr>\n",
       "  </tbody>\n",
       "</table>\n",
       "</div>"
      ],
      "text/plain": [
       "                         feature      coef      odds     probs\n",
       "3                 Space_GI_neg_3  0.531552  1.701571  0.629845\n",
       "2                Socrel_GI_neg_3  0.364388  1.439632  0.590102\n",
       "5                attention_nouns  0.314427  1.369474  0.577965\n",
       "10                Ord_GI_adverbs  0.086695  1.090564  0.521660\n",
       "11                Pos_GI_adverbs  0.086695  1.090564  0.521660\n",
       "9                Numb_GI_adverbs  0.086695  1.090564  0.521660\n",
       "12      Timespc_Lasswell_adverbs  0.084254  1.087905  0.521051\n",
       "4         Affloss_Lasswell_neg_3  0.077933  1.081050  0.519473\n",
       "18          Ord_GI_adverbs_neg_3 -0.020540  0.979669  0.494865\n",
       "17         Numb_GI_adverbs_neg_3 -0.020540  0.979669  0.494865\n",
       "19          Pos_GI_adverbs_neg_3 -0.020540  0.979669  0.494865\n",
       "14          polarity_nouns_neg_3 -0.136028  0.872818  0.466045\n",
       "1               Affloss_Lasswell -0.171345  0.842531  0.457268\n",
       "6                Virtue_GI_nouns -0.177876  0.837046  0.455648\n",
       "8                  Work_GI_verbs -0.214525  0.806925  0.446574\n",
       "15         Causal_GI_nouns_neg_3 -0.253594  0.776007  0.436939\n",
       "0                       Space_GI -0.335561  0.714937  0.416888\n",
       "16  Affloss_Lasswell_nouns_neg_3 -0.423882  0.654501  0.395588\n",
       "7         Affloss_Lasswell_nouns -0.431307  0.649659  0.393814\n",
       "13         attention_nouns_neg_3 -0.465751  0.627663  0.385622"
      ]
     },
     "execution_count": 124,
     "metadata": {},
     "output_type": "execute_result"
    }
   ],
   "source": [
    "# transform log odds (coef) to odds and to probabilities\n",
    "coef_df['odds'] = coef_df['coef'].apply(lambda x: np.exp(x))\n",
    "coef_df['probs'] = coef_df['odds'].apply(lambda x: x/(1+x))\n",
    "coef_df"
   ]
  },
  {
   "cell_type": "markdown",
   "metadata": {},
   "source": [
    "Interpretations of coefficients depends on the INTERACTIONS between features"
   ]
  }
 ],
 "metadata": {
  "kernelspec": {
   "display_name": "thesis-venv",
   "language": "python",
   "name": "python3"
  },
  "language_info": {
   "codemirror_mode": {
    "name": "ipython",
    "version": 3
   },
   "file_extension": ".py",
   "mimetype": "text/x-python",
   "name": "python",
   "nbconvert_exporter": "python",
   "pygments_lexer": "ipython3",
   "version": "3.10.10"
  },
  "orig_nbformat": 4
 },
 "nbformat": 4,
 "nbformat_minor": 2
}
