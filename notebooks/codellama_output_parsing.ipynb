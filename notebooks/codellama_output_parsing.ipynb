{
 "cells": [
  {
   "cell_type": "markdown",
   "metadata": {},
   "source": [
    "# Output Parsing with Code Llama"
   ]
  },
  {
   "cell_type": "code",
   "execution_count": 1,
   "metadata": {},
   "outputs": [],
   "source": [
    "!export \"CUDA_VISIBLE_DEVICES\"=[1,2] jupyter notebook\n",
    "!export \"CUDA_VISIBLE_DEVICES\"=[1,2]"
   ]
  },
  {
   "cell_type": "code",
   "execution_count": 2,
   "metadata": {},
   "outputs": [],
   "source": [
    "import os\n",
    "\n",
    "PROJECT_DIR = os.path.abspath(os.path.join(os.getcwd(), os.pardir))\n",
    "CACHE_DIR = os.path.join(PROJECT_DIR, '.cache')\n",
    "RESPONSES_DIR = os.path.join(PROJECT_DIR, 'responses')\n",
    "\n",
    "schemas_path = os.path.join(PROJECT_DIR, 'schemas/output-parsing_schemas.json')\n",
    "template_path = os.path.join(PROJECT_DIR, 'prompt_templates/output-parsing_templates.json')\n",
    "responses_path = os.path.join(RESPONSES_DIR, 'freetext_turbo0301_700dev_14081857.json')"
   ]
  },
  {
   "cell_type": "code",
   "execution_count": 3,
   "metadata": {},
   "outputs": [
    {
     "data": {
      "text/plain": [
       "device(type='cuda', index=1)"
      ]
     },
     "execution_count": 3,
     "metadata": {},
     "output_type": "execute_result"
    }
   ],
   "source": [
    "import torch\n",
    "\n",
    "device = torch.device('cuda:1' if torch.cuda.is_available() else 'cpu')\n",
    "device"
   ]
  },
  {
   "cell_type": "code",
   "execution_count": 4,
   "metadata": {},
   "outputs": [
    {
     "data": {
      "application/vnd.jupyter.widget-view+json": {
       "model_id": "ff146e1a5e904fce8e43e48f97214f46",
       "version_major": 2,
       "version_minor": 0
      },
      "text/plain": [
       "Loading checkpoint shards:   0%|          | 0/2 [00:00<?, ?it/s]"
      ]
     },
     "metadata": {},
     "output_type": "display_data"
    },
    {
     "data": {
      "text/plain": [
       "LlamaForCausalLM(\n",
       "  (model): LlamaModel(\n",
       "    (embed_tokens): Embedding(32016, 4096)\n",
       "    (layers): ModuleList(\n",
       "      (0-31): 32 x LlamaDecoderLayer(\n",
       "        (self_attn): LlamaAttention(\n",
       "          (q_proj): Linear4bit(in_features=4096, out_features=4096, bias=False)\n",
       "          (k_proj): Linear4bit(in_features=4096, out_features=4096, bias=False)\n",
       "          (v_proj): Linear4bit(in_features=4096, out_features=4096, bias=False)\n",
       "          (o_proj): Linear4bit(in_features=4096, out_features=4096, bias=False)\n",
       "          (rotary_emb): LlamaRotaryEmbedding()\n",
       "        )\n",
       "        (mlp): LlamaMLP(\n",
       "          (gate_proj): Linear4bit(in_features=4096, out_features=11008, bias=False)\n",
       "          (up_proj): Linear4bit(in_features=4096, out_features=11008, bias=False)\n",
       "          (down_proj): Linear4bit(in_features=11008, out_features=4096, bias=False)\n",
       "          (act_fn): SiLUActivation()\n",
       "        )\n",
       "        (input_layernorm): LlamaRMSNorm()\n",
       "        (post_attention_layernorm): LlamaRMSNorm()\n",
       "      )\n",
       "    )\n",
       "    (norm): LlamaRMSNorm()\n",
       "  )\n",
       "  (lm_head): Linear(in_features=4096, out_features=32016, bias=False)\n",
       ")"
      ]
     },
     "execution_count": 4,
     "metadata": {},
     "output_type": "execute_result"
    }
   ],
   "source": [
    "from transformers import AutoTokenizer, AutoModelForCausalLM, BitsAndBytesConfig\n",
    "\n",
    "model_id = \"codellama/CodeLlama-7b-Instruct-hf\" # 7b, 13b, 34b\n",
    "quantization_config = BitsAndBytesConfig(\n",
    "   load_in_4bit=True,\n",
    "   bnb_4bit_compute_dtype=torch.float16\n",
    ")\n",
    "\n",
    "tokenizer = AutoTokenizer.from_pretrained(model_id, cache_dir=CACHE_DIR)\n",
    "model = AutoModelForCausalLM.from_pretrained(\n",
    "    model_id,\n",
    "    quantization_config=quantization_config,\n",
    "    #device_map='auto',\n",
    "    cache_dir=CACHE_DIR,\n",
    ")\n",
    "\n",
    "model"
   ]
  },
  {
   "cell_type": "code",
   "execution_count": 5,
   "metadata": {},
   "outputs": [],
   "source": [
    "import sys\n",
    "sys.path.append(\"../utils/\")\n",
    "\n",
    "from prompting import get_llama_prompt\n",
    "from output import build_parser\n",
    "from langchain import PromptTemplate\n",
    "import json\n",
    "\n",
    "template_str = json.load(open(template_path, \"r\"))['v3']\n",
    "template = PromptTemplate.from_template(template_str)\n",
    "\n",
    "output_parser, format_instructions = build_parser(schemas_version=\"v3\",\n",
    "                                                  parser_type=\"structured\",\n",
    "                                                  only_json=False)"
   ]
  },
  {
   "cell_type": "code",
   "execution_count": 6,
   "metadata": {},
   "outputs": [],
   "source": [
    "responses = json.load(open(responses_path, \"r\"))\n",
    "responses = {int(idx): response.strip('\\n') for idx, response in responses.items()}"
   ]
  },
  {
   "cell_type": "code",
   "execution_count": 7,
   "metadata": {},
   "outputs": [
    {
     "data": {
      "text/plain": [
       "'The output should be a markdown code snippet formatted in the following schema, including the leading and trailing \"```json\" and \"```\":\\n\\n```json\\n{\\n\\t\"answer_letter\": string  // The letter corresponding to the final answer. For example, if the text mentions \\'Answer G) penguing is the most likely\\', then this field is \\'G\\'. If multiple final answers are given, such as \\'G\\' and \\'U\\', then this field is \\'G,U\\'. If a final answer is not chosen, then this field is an empty string.\\n\\t\"answer_text\": string  // The word or short phrase corresponding to the final answer. For example, if the text mentions \\'Answer G) feeding penguings is the most likely\\', then this field is \\'feeding penguins\\'. In case of multiple final answers, they are separate by a comma. If the answer_letter field is empty, then this field is an empty string.\\n}\\n```'"
      ]
     },
     "execution_count": 7,
     "metadata": {},
     "output_type": "execute_result"
    }
   ],
   "source": [
    "format_instructions"
   ]
  },
  {
   "cell_type": "code",
   "execution_count": 8,
   "metadata": {},
   "outputs": [
    {
     "name": "stdout",
     "output_type": "stream",
     "text": [
      "('Transform the free text into structured json, following the instructions and '\n",
      " 'schema provided. Do not add information that is not from the original text. '\n",
      " 'The text is the response to a multiple choice question, which includes the '\n",
      " 'reasoning before choosing a final answer. Sometimes the deliberation does '\n",
      " 'not lead to an answer being chosen as the final answer.\\n'\n",
      " '\\n'\n",
      " 'Text: First, we need to identify what type of printed works are being '\n",
      " 'referred to. The question mentions magazines specifically, but also mentions '\n",
      " '\"many other printed works.\" This suggests that we are looking for a place '\n",
      " 'where a variety of types of printed materials are available.\\n'\n",
      " '\\n'\n",
      " \"Option A, a doctor's office, may have some magazines but is unlikely to have \"\n",
      " 'a wide variety of printed works.\\n'\n",
      " '\\n'\n",
      " 'Option C, a market, may have some magazines available for purchase but is '\n",
      " 'also unlikely to have a wide variety of printed works.\\n'\n",
      " '\\n'\n",
      " 'Option E, a mortuary, is an unlikely place to find magazines or any type of '\n",
      " 'printed works.\\n'\n",
      " '\\n'\n",
      " 'This leaves us with options B and D: a bookstore and a train station. Both '\n",
      " 'of these options are likely to have a variety of printed works available, '\n",
      " 'including magazines. However, a bookstore is specifically designed to sell '\n",
      " 'printed materials, whereas a train station may have a newsstand or '\n",
      " 'convenience store that sells magazines and other printed works as one of '\n",
      " 'many products.\\n'\n",
      " '\\n'\n",
      " 'Therefore, the best answer is B) bookstore.\\n'\n",
      " '\\n'\n",
      " 'The output should be a markdown code snippet formatted in the following '\n",
      " 'schema, including the leading and trailing \"```json\" and \"```\":\\n'\n",
      " '\\n'\n",
      " '```json\\n'\n",
      " '{\\n'\n",
      " '\\t\"answer_letter\": string  // The letter corresponding to the final answer. '\n",
      " \"For example, if the text mentions 'Answer G) penguing is the most likely', \"\n",
      " \"then this field is 'G'. If multiple final answers are given, such as 'G' and \"\n",
      " \"'U', then this field is 'G,U'. If a final answer is not chosen, then this \"\n",
      " 'field is an empty string.\\n'\n",
      " '\\t\"answer_text\": string  // The word or short phrase corresponding to the '\n",
      " \"final answer. For example, if the text mentions 'Answer G) feeding penguings \"\n",
      " \"is the most likely', then this field is 'feeding penguins'. In case of \"\n",
      " 'multiple final answers, they are separate by a comma. If the answer_letter '\n",
      " 'field is empty, then this field is an empty string.\\n'\n",
      " '}\\n'\n",
      " '```')\n"
     ]
    }
   ],
   "source": [
    "import pprint as pp\n",
    "\n",
    "prompt = template.format(freetext_response=responses[2],\n",
    "                         format_instructions=format_instructions)\n",
    "pp.pprint(prompt, compact=True)"
   ]
  },
  {
   "cell_type": "code",
   "execution_count": 9,
   "metadata": {},
   "outputs": [
    {
     "name": "stdout",
     "output_type": "stream",
     "text": [
      "('<s>[INST] <<SYS>>\\n'\n",
      " 'Transform the free text into structured json, following the instructions and '\n",
      " 'schema provided. Do not add information that is not from the original text. '\n",
      " 'The text is the response to a multiple choice question, which includes the '\n",
      " 'reasoning before choosing a final answer. Sometimes the deliberation does '\n",
      " 'not lead to an answer being chosen as the final answer.\\n'\n",
      " '\\n'\n",
      " 'The output should be a markdown code snippet formatted in the following '\n",
      " 'schema, including the leading and trailing \"```json\" and \"```\":\\n'\n",
      " '\\n'\n",
      " '```json\\n'\n",
      " '{\\n'\n",
      " '\\t\"answer_letter\": string  // The letter corresponding to the final answer. '\n",
      " \"For example, if the text mentions 'Answer G) penguing is the most likely', \"\n",
      " \"then this field is 'G'. If multiple final answers are given, such as 'G' and \"\n",
      " \"'U', then this field is 'G,U'. If a final answer is not chosen, then this \"\n",
      " 'field is an empty string.\\n'\n",
      " '\\t\"answer_text\": string  // The word or short phrase corresponding to the '\n",
      " \"final answer. For example, if the text mentions 'Answer G) feeding penguings \"\n",
      " \"is the most likely', then this field is 'feeding penguins'. In case of \"\n",
      " 'multiple final answers, they are separate by a comma. If the answer_letter '\n",
      " 'field is empty, then this field is an empty string.\\n'\n",
      " '}\\n'\n",
      " '```\\n'\n",
      " '\\n'\n",
      " '<</SYS>>\\n'\n",
      " '\\n'\n",
      " 'First, we need to identify what type of printed works are being referred to. '\n",
      " 'The question mentions magazines specifically, but also mentions \"many other '\n",
      " 'printed works.\" This suggests that we are looking for a place where a '\n",
      " 'variety of types of printed materials are available.\\n'\n",
      " '\\n'\n",
      " \"Option A, a doctor's office, may have some magazines but is unlikely to have \"\n",
      " 'a wide variety of printed works.\\n'\n",
      " '\\n'\n",
      " 'Option C, a market, may have some magazines available for purchase but is '\n",
      " 'also unlikely to have a wide variety of printed works.\\n'\n",
      " '\\n'\n",
      " 'Option E, a mortuary, is an unlikely place to find magazines or any type of '\n",
      " 'printed works.\\n'\n",
      " '\\n'\n",
      " 'This leaves us with options B and D: a bookstore and a train station. Both '\n",
      " 'of these options are likely to have a variety of printed works available, '\n",
      " 'including magazines. However, a bookstore is specifically designed to sell '\n",
      " 'printed materials, whereas a train station may have a newsstand or '\n",
      " 'convenience store that sells magazines and other printed works as one of '\n",
      " 'many products.\\n'\n",
      " '\\n'\n",
      " 'Therefore, the best answer is B) bookstore. [/INST]')\n"
     ]
    }
   ],
   "source": [
    "format_prompt = template_str.split('\\n\\n')[0]\n",
    "sys_prompt = f\"{format_prompt}\\n\\n{format_instructions}\\n\"\n",
    "\n",
    "llama_prompt = get_llama_prompt(sys_prompt, responses[2])\n",
    "pp.pprint(llama_prompt, compact=True)"
   ]
  },
  {
   "cell_type": "code",
   "execution_count": 10,
   "metadata": {},
   "outputs": [
    {
     "name": "stderr",
     "output_type": "stream",
     "text": [
      "/mount/studenten-temp1/users/dpgo/xai-thesis/thesis-venv/lib64/python3.10/site-packages/transformers/generation/configuration_utils.py:362: UserWarning: `do_sample` is set to `False`. However, `temperature` is set to `0.1` -- this flag is only used in sample-based generation modes. You should set `do_sample=True` or unset `temperature`.\n",
      "  warnings.warn(\n",
      "/mount/studenten-temp1/users/dpgo/xai-thesis/thesis-venv/lib64/python3.10/site-packages/transformers/generation/configuration_utils.py:367: UserWarning: `do_sample` is set to `False`. However, `top_p` is set to `0.5` -- this flag is only used in sample-based generation modes. You should set `do_sample=True` or unset `top_p`.\n",
      "  warnings.warn(\n",
      "Setting `pad_token_id` to `eos_token_id`:2 for open-end generation.\n"
     ]
    },
    {
     "name": "stdout",
     "output_type": "stream",
     "text": [
      " {\n",
      "\t\"answer_letter\": \"B\",\n",
      "\t\"answer_text\": \"bookstore\"\n",
      "}</s>\n"
     ]
    }
   ],
   "source": [
    "'''Llama prompt'''\n",
    "\n",
    "inputs = tokenizer(llama_prompt, return_tensors=\"pt\").to(device)\n",
    "\n",
    "output = model.generate(\n",
    "    input_ids=inputs['input_ids'],\n",
    "    attention_mask=inputs['attention_mask'],\n",
    "    temperature=0.1,\n",
    "    max_new_tokens=50,\n",
    "    do_sample=False,\n",
    "    top_p=0.5,\n",
    ")\n",
    "output = output[0].to('cpu')\n",
    "output_decoded_llama = tokenizer.decode(output[inputs['input_ids'].shape[1]:])\n",
    "\n",
    "print(output_decoded_llama)"
   ]
  },
  {
   "cell_type": "code",
   "execution_count": 11,
   "metadata": {},
   "outputs": [
    {
     "name": "stderr",
     "output_type": "stream",
     "text": [
      "Setting `pad_token_id` to `eos_token_id`:2 for open-end generation.\n"
     ]
    },
    {
     "name": "stdout",
     "output_type": "stream",
     "text": [
      "\n",
      "\n",
      "For example, the output for the given text would be:\n",
      "\n",
      "```json\n",
      "{\n",
      "\t\"answer_letter\": \"B\",\n",
      "\t\"answer_text\": \"bookstore\"\n",
      "}\n",
      "```\n",
      "\n",
      "### \n"
     ]
    }
   ],
   "source": [
    "'''Normal prompt'''\n",
    "\n",
    "inputs = tokenizer(prompt, return_tensors=\"pt\").to(device)\n",
    "\n",
    "output = model.generate(\n",
    "    input_ids=inputs['input_ids'],\n",
    "    attention_mask=inputs['attention_mask'],\n",
    "    temperature=0.1,\n",
    "    max_new_tokens=50,\n",
    "    do_sample=False,\n",
    "    top_p=0.5,\n",
    ")\n",
    "output = output[0].to('cpu')\n",
    "output_decoded = tokenizer.decode(output[inputs['input_ids'].shape[1]:])\n",
    "\n",
    "# return gen only (no prompt)\n",
    "# tokenizer.decode(output[inputs['input_ids'].shape[1]:])\n",
    "# tokenizer.batch_decode(gen_tokens[:, input_ids.shape[1]:])[0]\n",
    "\n",
    "print(output_decoded)"
   ]
  },
  {
   "cell_type": "code",
   "execution_count": 12,
   "metadata": {},
   "outputs": [
    {
     "data": {
      "text/plain": [
       "{'answer_letter': 'B', 'answer_text': 'bookstore'}"
      ]
     },
     "execution_count": 12,
     "metadata": {},
     "output_type": "execute_result"
    }
   ],
   "source": [
    "# langchain output parser cannot parse output from the llama prompt (not formatted as expected with ```json..)\n",
    "\n",
    "formatted_response = output_parser.parse(output_decoded) # dict\n",
    "formatted_response"
   ]
  },
  {
   "cell_type": "markdown",
   "metadata": {},
   "source": [
    "## Adding examples (few-shot)"
   ]
  },
  {
   "cell_type": "code",
   "execution_count": 86,
   "metadata": {},
   "outputs": [
    {
     "name": "stdout",
     "output_type": "stream",
     "text": [
      "Number of examples: 11\n"
     ]
    },
    {
     "data": {
      "text/plain": [
       "[('Revolving doors are convenient for two-direction travel because they allow people to enter and exit a building without having to wait for another person to open or close a regular door. However, they can also serve as a security measure because they limit the number of people who can enter or exit at one time and can prevent unauthorized access. \\n\\nOut of the given options, a revolving door would most likely be used as a security measure at a bank, where it is important to control access to the building and protect the safety of employees and customers. Therefore, the correct answer is A) bank.',\n",
       "  '{\"answer_letter\": \"A\", \"answer_text\": \"bank\"}'),\n",
       " ('A) Completing the job is one aim that people have at work. This means finishing the tasks assigned to them within the given time frame and meeting the expectations of the employer.\\n\\nB) Learning from each other is another aim that people have at work. This means interacting with colleagues and gaining new skills and knowledge that can help in personal and professional growth.\\n\\nC) Killing animals is not an aim that people have at work unless they work in specific industries like hunting or meat processing.\\n\\nD) Wearing hats is not an aim that people have at work unless it is a part of their uniform or dress code.\\n\\nE) Talking to each other is a common activity that happens at work, but it may not necessarily be an aim for everyone. Some people prefer to work independently and limit their interactions with others. \\n\\nTherefore, the most common aims that people have at work are completing the job and learning from each other.',\n",
       "  '{\"answer_letter\": \"A,B\", \"answer_text\": \"completing the job, learning from each other\"}'),\n",
       " ('- A fast food restaurant is a common place to find hamburgers, so A is a possible answer.\\n- Pizza is not related to hamburgers, so B is not a valid answer.\\n- C is technically correct, as hamburgers are made from ground beef, but it is not a common or appropriate answer option.\\n- D is not a location, but rather where a person eats a hamburger, so it is not a valid answer option.\\n- E is not a valid answer, as it is not a location where hamburgers are typically found.\\n\\nTherefore, the most likely answer is A) fast food restaurant.',\n",
       "  '{\"answer_letter\": \"A\", \"answer_text\": \"fast food restaurant\"}'),\n",
       " (\"First, James is looking for farmland, which suggests that he wants to buy a piece of land for agricultural purposes. \\n\\nOption A, the midwest, is a popular region for farming in the United States, with states like Iowa, Illinois, and Indiana known for their fertile soil and agricultural production. So, A could be a good option for James to consider. \\n\\nOption B, the countryside, is a more general term and could refer to any rural area outside of urban centers. While there may be farmland in the countryside, it is not a specific location for finding farmland. \\n\\nOption C, an estate, typically refers to a large property or mansion, which may or may not include farmland. So, this option is not necessarily relevant to James's search. \\n\\nOption D, farming areas, is a more general term similar to the countryside, and may or may not lead James to specific farmland for sale. \\n\\nOption E, Illinois, is a specific state in the midwest region mentioned in option A. So, E is a viable option for James to consider if he wants to focus on a particular state.\\n\\nOverall, the best answers for James to find farmland would be A, the midwest, or E, a specific state like Illinois in the midwest region.\",\n",
       "  '{\"answer_letter\": \"A,E\", \"answer_text\": \"the midwest, Illinois\"}'),\n",
       " (\"The question is asking for a Spanish-speaking North American country where you can get a great cup of coffee. \\n\\nOption A, Mildred's coffee shop, is not a country but a specific coffee shop. \\n\\nOption C, diner, and option E, canteen, are not countries but types of establishments where you could potentially get coffee. \\n\\nOption D, kitchen, is neither a country nor a type of establishment where you would typically get coffee. \\n\\nThat leaves us with option B, Mexico, as the correct answer. Mexico is a Spanish-speaking country located in North America, and it is well-known for its coffee production, particularly in the southern states of Chiapas and Oaxaca. So, if you're looking for a great cup of coffee in a Spanish-speaking North American country, Mexico is a great choice.\",\n",
       "  '{\"answer_letter\": \"B\", \"answer_text\": \"Mexico\"}'),\n",
       " ('First of all, people typically play guitar to make music. So, we can eliminate options A, B, and D. \\n\\nWhile playing guitar, people may also sing along to the music they are playing, so option C is a valid choice. \\n\\nTherefore, the answer is E) making music, with the possibility of also singing.',\n",
       "  '{\"answer_letter\": \"E\", \"answer_text\": \"making music\"}'),\n",
       " (\"Firstly, it is important to note that drinking alcohol can impair judgment and decision-making abilities, so it is not recommended to drink excessively or to engage in any potentially dangerous activities while under the influence.\\n\\nAssuming the person is drinking responsibly, here are some options to stay busy:\\n\\n- Have a conversation with friends or family members who are also drinking (option A: reach tentative agreement).\\n- Relax and unwind by reading a book, watching a movie, or listening to music in bed (option B: stay in bed).\\n- Take a break from drinking and go for a bike ride (option C: stop bicycle).\\n- Engage in a hobby or activity that doesn't require a lot of focus or coordination, such as coloring or organizing a closet (option D: examine thing).\\n\\nThe option of suicide (option E) is not only inappropriate but also a serious concern. If anyone is struggling with thoughts of self-harm, it is important to seek immediate help and support from a mental health professional or a crisis hotline.\",\n",
       "  '{\"answer_letter\": \"\", \"answer_text\": \"\"}'),\n",
       " (\"Glue sticks are commonly used for arts and crafts, as well as for bonding materials in various projects. Since adults may engage in such activities both at work and at home, it is possible that they use glue sticks in different settings. \\n\\nOption A mentions a classroom, indicating that adults may be teachers or educators who use glue sticks during their lessons. Option C also refers to school, which may include other settings such as a laboratory or a workshop where glue sticks can be used. \\n\\nOption D mentions an office, where adults may use glue sticks for various purposes such as paper crafts, scrapbooking, or labeling. Option E mentions a kitchen drawer, which may be relevant for adults who use glue sticks for DIY projects, repairs, or decorations at home.\\n\\nTherefore, the correct answer is: all of the above options could be correct, depending on the context and the specific adult's activities.\",\n",
       "  '{\"answer_letter\": \"\", \"answer_text\": \"\"}'),\n",
       " ('Perjury is defined as lying under oath in a court of law. So, the answer is D) lie. However, it is also considered a serious crime and can lead to consequences such as fines and imprisonment.',\n",
       "  '{\"answer_letter\": \"D\", \"answer_text\": \"lie\"}'),\n",
       " (\"The light turned yellow, which means it is about to turn red. Sean was in a rush, so he didn't want to stop. However, it is not safe to continue driving when the light turns red. Therefore, Sean was forced to slow down (E) and stop before the light turned red.\",\n",
       "  '{\"answer_letter\": \"E\", \"answer_text\": \"slow down\"}'),\n",
       " ('A doormat is a mat placed at the entrance of a building to prevent dirt or debris from being tracked inside. Therefore, it is most likely to be found in front of the front door, doorway, or entrance porch, where people enter and exit the building. So, the correct answer is either B) front door, C) doorway, or D) entrance porch.',\n",
       "  '{\"answer_letter\": \"B,C,D\", \"answer_text\": \"front door, doorway, entrance porch\"}')]"
      ]
     },
     "execution_count": 86,
     "metadata": {},
     "output_type": "execute_result"
    }
   ],
   "source": [
    "raw_examples = {\n",
    "    \"0\": {\n",
    "        \"answer_letter\": \"A\",\n",
    "        \"answer_text\": \"bank\",\n",
    "        \"full_text\": \"Revolving doors are convenient for two-direction travel because they allow people to enter and exit a building without having to wait for another person to open or close a regular door. However, they can also serve as a security measure because they limit the number of people who can enter or exit at one time and can prevent unauthorized access. \\n\\nOut of the given options, a revolving door would most likely be used as a security measure at a bank, where it is important to control access to the building and protect the safety of employees and customers. Therefore, the correct answer is A) bank.\"\n",
    "    },\n",
    "    \"1\": {\n",
    "        \"answer_letter\": \"A,B\",\n",
    "        \"answer_text\": \"completing the job, learning from each other\",\n",
    "        \"full_text\": \"A) Completing the job is one aim that people have at work. This means finishing the tasks assigned to them within the given time frame and meeting the expectations of the employer.\\n\\nB) Learning from each other is another aim that people have at work. This means interacting with colleagues and gaining new skills and knowledge that can help in personal and professional growth.\\n\\nC) Killing animals is not an aim that people have at work unless they work in specific industries like hunting or meat processing.\\n\\nD) Wearing hats is not an aim that people have at work unless it is a part of their uniform or dress code.\\n\\nE) Talking to each other is a common activity that happens at work, but it may not necessarily be an aim for everyone. Some people prefer to work independently and limit their interactions with others. \\n\\nTherefore, the most common aims that people have at work are completing the job and learning from each other.\"\n",
    "    },\n",
    "    \"3\": {\n",
    "        \"answer_letter\": \"A\",\n",
    "        \"answer_text\": \"fast food restaurant\",\n",
    "        \"full_text\": \"- A fast food restaurant is a common place to find hamburgers, so A is a possible answer.\\n- Pizza is not related to hamburgers, so B is not a valid answer.\\n- C is technically correct, as hamburgers are made from ground beef, but it is not a common or appropriate answer option.\\n- D is not a location, but rather where a person eats a hamburger, so it is not a valid answer option.\\n- E is not a valid answer, as it is not a location where hamburgers are typically found.\\n\\nTherefore, the most likely answer is A) fast food restaurant.\"\n",
    "    },\n",
    "    \"4\": {\n",
    "        \"answer_letter\": \"A,E\",\n",
    "        \"answer_text\": \"the midwest, Illinois\",\n",
    "        \"full_text\": \"First, James is looking for farmland, which suggests that he wants to buy a piece of land for agricultural purposes. \\n\\nOption A, the midwest, is a popular region for farming in the United States, with states like Iowa, Illinois, and Indiana known for their fertile soil and agricultural production. So, A could be a good option for James to consider. \\n\\nOption B, the countryside, is a more general term and could refer to any rural area outside of urban centers. While there may be farmland in the countryside, it is not a specific location for finding farmland. \\n\\nOption C, an estate, typically refers to a large property or mansion, which may or may not include farmland. So, this option is not necessarily relevant to James's search. \\n\\nOption D, farming areas, is a more general term similar to the countryside, and may or may not lead James to specific farmland for sale. \\n\\nOption E, Illinois, is a specific state in the midwest region mentioned in option A. So, E is a viable option for James to consider if he wants to focus on a particular state.\\n\\nOverall, the best answers for James to find farmland would be A, the midwest, or E, a specific state like Illinois in the midwest region.\"\n",
    "    },\n",
    "    \"6\": {\n",
    "        \"answer_letter\": \"B\",\n",
    "        \"answer_text\": \"Mexico\",\n",
    "        \"full_text\": \"The question is asking for a Spanish-speaking North American country where you can get a great cup of coffee. \\n\\nOption A, Mildred's coffee shop, is not a country but a specific coffee shop. \\n\\nOption C, diner, and option E, canteen, are not countries but types of establishments where you could potentially get coffee. \\n\\nOption D, kitchen, is neither a country nor a type of establishment where you would typically get coffee. \\n\\nThat leaves us with option B, Mexico, as the correct answer. Mexico is a Spanish-speaking country located in North America, and it is well-known for its coffee production, particularly in the southern states of Chiapas and Oaxaca. So, if you're looking for a great cup of coffee in a Spanish-speaking North American country, Mexico is a great choice.\"\n",
    "    },\n",
    "    \"9\": {\n",
    "        \"answer_letter\": \"E\",\n",
    "        \"answer_text\": \"making music\",\n",
    "        \"full_text\": \"First of all, people typically play guitar to make music. So, we can eliminate options A, B, and D. \\n\\nWhile playing guitar, people may also sing along to the music they are playing, so option C is a valid choice. \\n\\nTherefore, the answer is E) making music, with the possibility of also singing.\"\n",
    "    },\n",
    "    \"14\": {\n",
    "        \"answer_letter\": \"\",\n",
    "        \"answer_text\": \"\",\n",
    "        \"full_text\": \"Firstly, it is important to note that drinking alcohol can impair judgment and decision-making abilities, so it is not recommended to drink excessively or to engage in any potentially dangerous activities while under the influence.\\n\\nAssuming the person is drinking responsibly, here are some options to stay busy:\\n\\n- Have a conversation with friends or family members who are also drinking (option A: reach tentative agreement).\\n- Relax and unwind by reading a book, watching a movie, or listening to music in bed (option B: stay in bed).\\n- Take a break from drinking and go for a bike ride (option C: stop bicycle).\\n- Engage in a hobby or activity that doesn't require a lot of focus or coordination, such as coloring or organizing a closet (option D: examine thing).\\n\\nThe option of suicide (option E) is not only inappropriate but also a serious concern. If anyone is struggling with thoughts of self-harm, it is important to seek immediate help and support from a mental health professional or a crisis hotline.\"\n",
    "    },\n",
    "    \"17\": {\n",
    "        \"answer_letter\": \"\",\n",
    "        \"answer_text\": \"\",\n",
    "        \"full_text\": \"Glue sticks are commonly used for arts and crafts, as well as for bonding materials in various projects. Since adults may engage in such activities both at work and at home, it is possible that they use glue sticks in different settings. \\n\\nOption A mentions a classroom, indicating that adults may be teachers or educators who use glue sticks during their lessons. Option C also refers to school, which may include other settings such as a laboratory or a workshop where glue sticks can be used. \\n\\nOption D mentions an office, where adults may use glue sticks for various purposes such as paper crafts, scrapbooking, or labeling. Option E mentions a kitchen drawer, which may be relevant for adults who use glue sticks for DIY projects, repairs, or decorations at home.\\n\\nTherefore, the correct answer is: all of the above options could be correct, depending on the context and the specific adult's activities.\"\n",
    "    },\n",
    "    \"25\": {\n",
    "        \"answer_letter\": \"D\",\n",
    "        \"answer_text\": \"lie\",\n",
    "        \"full_text\": \"Perjury is defined as lying under oath in a court of law. So, the answer is D) lie. However, it is also considered a serious crime and can lead to consequences such as fines and imprisonment.\"\n",
    "    },\n",
    "    \"28\": {\n",
    "        \"answer_letter\": \"E\",\n",
    "        \"answer_text\": \"slow down\",\n",
    "        \"full_text\": \"The light turned yellow, which means it is about to turn red. Sean was in a rush, so he didn't want to stop. However, it is not safe to continue driving when the light turns red. Therefore, Sean was forced to slow down (E) and stop before the light turned red.\"\n",
    "    },\n",
    "    \"34\": {\n",
    "        \"answer_letter\": \"B,C,D\",\n",
    "        \"answer_text\": \"front door, doorway, entrance porch\",\n",
    "        \"full_text\": \"A doormat is a mat placed at the entrance of a building to prevent dirt or debris from being tracked inside. Therefore, it is most likely to be found in front of the front door, doorway, or entrance porch, where people enter and exit the building. So, the correct answer is either B) front door, C) doorway, or D) entrance porch.\"\n",
    "    },\n",
    "}\n",
    "\n",
    "print(f\"Number of examples: {len(raw_examples)}\")\n",
    "\n",
    "examples = []\n",
    "for idx, response_dict in raw_examples.items():\n",
    "    json_str = json.dumps({\n",
    "        \"answer_letter\": response_dict['answer_letter'],\n",
    "        \"answer_text\": response_dict['answer_text']\n",
    "        }\n",
    "    )\n",
    "    examples.append(\n",
    "        (response_dict['full_text'],\n",
    "         json_str)\n",
    "    )\n",
    "    \n",
    "examples"
   ]
  },
  {
   "cell_type": "code",
   "execution_count": 87,
   "metadata": {},
   "outputs": [
    {
     "name": "stdout",
     "output_type": "stream",
     "text": [
      "Transform the free text into structured json, following the instructions and schema provided. Do not add information that is not from the original text. The text is the response to a multiple choice question, which includes the reasoning before choosing a final answer. Sometimes the deliberation does not lead to an answer being chosen as the final answer.\n",
      "\n",
      "The output should be a markdown code snippet formatted in the following schema, including the leading and trailing \"```json\" and \"```\":\n",
      "\n",
      "```json\n",
      "{\n",
      "\t\"answer_letter\": string  // The letter corresponding to the final answer. For example, if the text mentions 'Answer G) penguing is the most likely', then this field is 'G'. If multiple final answers are given, such as 'G' and 'U', then this field is 'G,U'. If a final answer is not chosen, then this field is an empty string.\n",
      "\t\"answer_text\": string  // The word or short phrase corresponding to the final answer. For example, if the text mentions 'Answer G) feeding penguings is the most likely', then this field is 'feeding penguins'. In case of multiple final answers, they are separate by a comma. If the answer_letter field is empty, then this field is an empty string.\n",
      "}\n",
      "```\n",
      "\n",
      "\n",
      "Examples:\n",
      "Revolving doors are convenient for two-direction travel because they allow people to enter and exit a building without having to wait for another person to open or close a regular door. However, they can also serve as a security measure because they limit the number of people who can enter or exit at one time and can prevent unauthorized access.   Out of the given options, a revolving door would most likely be used as a security measure at a bank, where it is important to control access to the building and protect the safety of employees and customers. Therefore, the correct answer is A) bank.\n",
      "\n",
      "```json\n",
      "{\"answer_letter\": \"A\", \"answer_text\": \"bank\"}\n",
      "```\n",
      "\n",
      "A) Completing the job is one aim that people have at work. This means finishing the tasks assigned to them within the given time frame and meeting the expectations of the employer.  B) Learning from each other is another aim that people have at work. This means interacting with colleagues and gaining new skills and knowledge that can help in personal and professional growth.  C) Killing animals is not an aim that people have at work unless they work in specific industries like hunting or meat processing.  D) Wearing hats is not an aim that people have at work unless it is a part of their uniform or dress code.  E) Talking to each other is a common activity that happens at work, but it may not necessarily be an aim for everyone. Some people prefer to work independently and limit their interactions with others.   Therefore, the most common aims that people have at work are completing the job and learning from each other.\n",
      "\n",
      "```json\n",
      "{\"answer_letter\": \"A,B\", \"answer_text\": \"completing the job, learning from each other\"}\n",
      "```\n",
      "\n",
      "- A fast food restaurant is a common place to find hamburgers, so A is a possible answer. - Pizza is not related to hamburgers, so B is not a valid answer. - C is technically correct, as hamburgers are made from ground beef, but it is not a common or appropriate answer option. - D is not a location, but rather where a person eats a hamburger, so it is not a valid answer option. - E is not a valid answer, as it is not a location where hamburgers are typically found.  Therefore, the most likely answer is A) fast food restaurant.\n",
      "\n",
      "```json\n",
      "{\"answer_letter\": \"A\", \"answer_text\": \"fast food restaurant\"}\n",
      "```\n",
      "\n",
      "\n"
     ]
    }
   ],
   "source": [
    "sys_prompt_examples = f\"\"\"{sys_prompt}\\n\n",
    "Examples:\n",
    "\"\"\"\n",
    "\n",
    "ex_num = 0\n",
    "for ex in examples:\n",
    "    text = ex[0].replace('\\n', ' ')\n",
    "    output = ex[1]\n",
    "    sys_prompt_examples+=f\"{text}\\n\"\n",
    "    sys_prompt_examples+=f\"\\n```json\\n{output}\\n```\\n\\n\"\n",
    "    ex_num+=1\n",
    "    if ex_num == 3:\n",
    "        break\n",
    "\n",
    "print(sys_prompt_examples)"
   ]
  },
  {
   "cell_type": "code",
   "execution_count": 88,
   "metadata": {},
   "outputs": [
    {
     "name": "stdout",
     "output_type": "stream",
     "text": [
      "<s>[INST] <<SYS>>\n",
      "Transform the free text into structured json, following the instructions and schema provided. Do not add information that is not from the original text. The text is the response to a multiple choice question, which includes the reasoning before choosing a final answer. Sometimes the deliberation does not lead to an answer being chosen as the final answer.\n",
      "\n",
      "The output should be a markdown code snippet formatted in the following schema, including the leading and trailing \"```json\" and \"```\":\n",
      "\n",
      "```json\n",
      "{\n",
      "\t\"answer_letter\": string  // The letter corresponding to the final answer. For example, if the text mentions 'Answer G) penguing is the most likely', then this field is 'G'. If multiple final answers are given, such as 'G' and 'U', then this field is 'G,U'. If a final answer is not chosen, then this field is an empty string.\n",
      "\t\"answer_text\": string  // The word or short phrase corresponding to the final answer. For example, if the text mentions 'Answer G) feeding penguings is the most likely', then this field is 'feeding penguins'. In case of multiple final answers, they are separate by a comma. If the answer_letter field is empty, then this field is an empty string.\n",
      "}\n",
      "```\n",
      "\n",
      "\n",
      "Examples:\n",
      "Revolving doors are convenient for two-direction travel because they allow people to enter and exit a building without having to wait for another person to open or close a regular door. However, they can also serve as a security measure because they limit the number of people who can enter or exit at one time and can prevent unauthorized access.   Out of the given options, a revolving door would most likely be used as a security measure at a bank, where it is important to control access to the building and protect the safety of employees and customers. Therefore, the correct answer is A) bank.\n",
      "\n",
      "```json\n",
      "{\"answer_letter\": \"A\", \"answer_text\": \"bank\"}\n",
      "```\n",
      "\n",
      "A) Completing the job is one aim that people have at work. This means finishing the tasks assigned to them within the given time frame and meeting the expectations of the employer.  B) Learning from each other is another aim that people have at work. This means interacting with colleagues and gaining new skills and knowledge that can help in personal and professional growth.  C) Killing animals is not an aim that people have at work unless they work in specific industries like hunting or meat processing.  D) Wearing hats is not an aim that people have at work unless it is a part of their uniform or dress code.  E) Talking to each other is a common activity that happens at work, but it may not necessarily be an aim for everyone. Some people prefer to work independently and limit their interactions with others.   Therefore, the most common aims that people have at work are completing the job and learning from each other.\n",
      "\n",
      "```json\n",
      "{\"answer_letter\": \"A,B\", \"answer_text\": \"completing the job, learning from each other\"}\n",
      "```\n",
      "\n",
      "- A fast food restaurant is a common place to find hamburgers, so A is a possible answer. - Pizza is not related to hamburgers, so B is not a valid answer. - C is technically correct, as hamburgers are made from ground beef, but it is not a common or appropriate answer option. - D is not a location, but rather where a person eats a hamburger, so it is not a valid answer option. - E is not a valid answer, as it is not a location where hamburgers are typically found.  Therefore, the most likely answer is A) fast food restaurant.\n",
      "\n",
      "```json\n",
      "{\"answer_letter\": \"A\", \"answer_text\": \"fast food restaurant\"}\n",
      "```\n",
      "\n",
      "\n",
      "<</SYS>>\n",
      "\n",
      "Input: The kids didn't clean up after they had done what?\n",
      "- They didn't clean up after they had learned things. (A) --> Doesn't make sense.\n",
      "- They didn't clean up after they had played games. (B) --> Possible.\n",
      "- They didn't clean up after they had gone to Disneyland. (C) --> Doesn't make sense.\n",
      "- They didn't clean up after they had played with toys. (D) --> Possible.\n",
      "- They didn't clean up after they had talked. (E) --> Doesn't make sense.\n",
      "\n",
      "Therefore, the correct answers are B) play games and D) play with toys. [/INST]\n"
     ]
    }
   ],
   "source": [
    "llama_prompt_examples = get_llama_prompt(sys_prompt_examples, f\"Input: {responses[66]}\")\n",
    "print(llama_prompt_examples)"
   ]
  },
  {
   "cell_type": "markdown",
   "metadata": {},
   "source": [
    "## Batch calls"
   ]
  },
  {
   "cell_type": "code",
   "execution_count": 89,
   "metadata": {},
   "outputs": [
    {
     "data": {
      "text/plain": [
       "4"
      ]
     },
     "execution_count": 89,
     "metadata": {},
     "output_type": "execute_result"
    }
   ],
   "source": [
    "sys_prompt_examples_tokenized = tokenizer(f\"{sys_prompt_examples}\\n\", return_tensors=\"pt\").to(device)\n",
    "\n",
    "inputs_tokenized = []\n",
    "responses_to_use = [i for i in range(50,54)]\n",
    "\n",
    "for idx, response in responses.items():\n",
    "    if idx in responses_to_use:\n",
    "        inputs_tokenized.append(\n",
    "            tokenizer(response, return_tensors=\"pt\").to(device)\n",
    "        )\n",
    "        \n",
    "len(inputs_tokenized)"
   ]
  },
  {
   "cell_type": "code",
   "execution_count": 90,
   "metadata": {},
   "outputs": [],
   "source": [
    "# sys_prompt_examples_tokenized is the prefix for all prompts\n",
    "# inputs_tokenized contains the input_ids for each response\n",
    "\n",
    "# prepend sys_prompt_examples_tokenized to each input_ids in inputs_tokenized\n",
    "\n",
    "# list of tensors (one for each response to process)\n",
    "combined_input_ids = [torch.cat(\n",
    "    [sys_prompt_examples_tokenized['input_ids'], \n",
    "        input_tokenized['input_ids']],\n",
    "        dim=1\n",
    "    ) for input_tokenized in inputs_tokenized]\n",
    "\n",
    "combined_attention_mask = [torch.cat(\n",
    "    [sys_prompt_examples_tokenized['attention_mask'],\n",
    "        input_tokenized['attention_mask']],\n",
    "        dim=1\n",
    "    ) for input_tokenized in inputs_tokenized]"
   ]
  },
  {
   "cell_type": "code",
   "execution_count": 91,
   "metadata": {},
   "outputs": [
    {
     "data": {
      "text/plain": [
       "(4, True)"
      ]
     },
     "execution_count": 91,
     "metadata": {},
     "output_type": "execute_result"
    }
   ],
   "source": [
    "len(combined_input_ids), len(combined_attention_mask)==len(combined_input_ids)"
   ]
  },
  {
   "cell_type": "code",
   "execution_count": 92,
   "metadata": {},
   "outputs": [
    {
     "data": {
      "text/plain": [
       "(torch.Size([4, 1049]), torch.Size([4, 1049]))"
      ]
     },
     "execution_count": 92,
     "metadata": {},
     "output_type": "execute_result"
    }
   ],
   "source": [
    "from transformers.tokenization_utils_base import BatchEncoding\n",
    "\n",
    "max_len = max([x.squeeze().numel() for x in combined_input_ids])\n",
    "\n",
    "# pad all tensors to have same length\n",
    "padded_input_ids = [torch.nn.functional.pad(\n",
    "    tensor, \n",
    "    pad=(0, max_len - tensor.numel()), \n",
    "    mode='constant', \n",
    "    value=0\n",
    ") for tensor in combined_input_ids]\n",
    "\n",
    "padded_attention_mask = [torch.nn.functional.pad(\n",
    "    tensor,\n",
    "    pad=(0, max_len - tensor.numel()),\n",
    "    mode='constant',\n",
    "    value=0\n",
    ") for tensor in combined_attention_mask]\n",
    "\n",
    "# make BatchEncoding object with keys 'input_ids' and 'attention_mask'\n",
    "# where 'input_ids' is a tensor of shape (num_responses, num_input_ids)\n",
    "# and 'attention_mask' is a tensor of shape (num_responses, num_attention_mask)\n",
    "# avoid inputs_encoded['inputs_ids'] having 3 dimensions (only 2: num_responses, num_input_ids)\n",
    "inputs_encoded = BatchEncoding(\n",
    "    {'input_ids': torch.stack(padded_input_ids),\n",
    "        'attention_mask': torch.stack(padded_attention_mask)}\n",
    ")\n",
    "\n",
    "# pop the second dimension \n",
    "# inputs_encoded['input_ids'] must have shape (num_responses, num_input_ids)\n",
    "inputs_encoded['input_ids'] = inputs_encoded['input_ids'].squeeze(1)\n",
    "inputs_encoded['attention_mask'] = inputs_encoded['attention_mask'].squeeze(1)\n",
    "\n",
    "inputs_encoded['input_ids'].shape, inputs_encoded['attention_mask'].shape\n"
   ]
  },
  {
   "cell_type": "code",
   "execution_count": 93,
   "metadata": {},
   "outputs": [
    {
     "data": {
      "text/plain": [
       "(transformers.tokenization_utils_base.BatchEncoding,\n",
       " dict_keys(['input_ids', 'attention_mask']))"
      ]
     },
     "execution_count": 93,
     "metadata": {},
     "output_type": "execute_result"
    }
   ],
   "source": [
    "type(inputs_encoded), inputs_encoded.keys()"
   ]
  },
  {
   "cell_type": "code",
   "execution_count": 94,
   "metadata": {},
   "outputs": [
    {
     "name": "stderr",
     "output_type": "stream",
     "text": [
      "/mount/studenten-temp1/users/dpgo/xai-thesis/thesis-venv/lib64/python3.10/site-packages/transformers/generation/configuration_utils.py:362: UserWarning: `do_sample` is set to `False`. However, `temperature` is set to `0.1` -- this flag is only used in sample-based generation modes. You should set `do_sample=True` or unset `temperature`.\n",
      "  warnings.warn(\n",
      "/mount/studenten-temp1/users/dpgo/xai-thesis/thesis-venv/lib64/python3.10/site-packages/transformers/generation/configuration_utils.py:367: UserWarning: `do_sample` is set to `False`. However, `top_p` is set to `0.5` -- this flag is only used in sample-based generation modes. You should set `do_sample=True` or unset `top_p`.\n",
      "  warnings.warn(\n",
      "Setting `pad_token_id` to `eos_token_id`:2 for open-end generation.\n"
     ]
    }
   ],
   "source": [
    "with torch.no_grad():\n",
    "    output_batch = model.generate(\n",
    "        **inputs_encoded, \n",
    "        max_new_tokens=50, \n",
    "        temperature=0.1, \n",
    "        do_sample=False, \n",
    "        top_p=0.5,\n",
    "    )"
   ]
  },
  {
   "cell_type": "code",
   "execution_count": 95,
   "metadata": {},
   "outputs": [
    {
     "data": {
      "text/plain": [
       "torch.Size([4, 1099])"
      ]
     },
     "execution_count": 95,
     "metadata": {},
     "output_type": "execute_result"
    }
   ],
   "source": [
    "output_batch.shape"
   ]
  },
  {
   "cell_type": "code",
   "execution_count": 96,
   "metadata": {},
   "outputs": [
    {
     "data": {
      "text/plain": [
       "['.\\n\\n```json\\n{\"answer_letter\": \"B\", \"answer_text\": \"countryside\"}\\n```\\n\\n\\n\\n\\n\\n\\n\\n\\n\\n\\n\\n\\n\\n\\n\\n\\n\\n\\n\\n\\n\\n',\n",
       " '.\\n\\n```json\\n{\"answer_letter\": \"C,D\", \"answer_text\": \"cinema, friend\\'s house\"}\\n```\\n\\n\\n\\n\\n\\n\\n\\n\\n\\n\\n\\n\\n\\n\\n\\n\\n\\n',\n",
       " '.\\n\\n```json\\n{\"answer_letter\": \"C\", \"answer_text\": \"sandy\"}\\n```\\n\\n\\n\\n\\n\\n\\n\\n\\n\\n\\n\\n\\n\\n\\n\\n\\n\\n\\n\\n\\n\\n\\n\\n\\n',\n",
       " '\\n\\n```json\\n{\"answer_letter\": \"A\", \"answer_text\": \"it depends on the individual and their specific curiosity\"}\\n```\\n\\n\\n\\n\\n\\n\\n\\n\\n\\n\\n\\n\\n\\n\\n\\n\\n\\n\\n']"
      ]
     },
     "execution_count": 96,
     "metadata": {},
     "output_type": "execute_result"
    }
   ],
   "source": [
    "output_batch_decoded = tokenizer.batch_decode(output_batch[:, inputs_encoded['input_ids'].shape[1]:], skip_special_tokens=True)\n",
    "output_batch_decoded"
   ]
  },
  {
   "cell_type": "code",
   "execution_count": 99,
   "metadata": {},
   "outputs": [
    {
     "data": {
      "text/plain": [
       "{'answer_letter': 'B', 'answer_text': 'countryside'}"
      ]
     },
     "execution_count": 99,
     "metadata": {},
     "output_type": "execute_result"
    }
   ],
   "source": [
    "output_parser.parse(output_batch_decoded[0])"
   ]
  }
 ],
 "metadata": {
  "kernelspec": {
   "display_name": "thesis-venv",
   "language": "python",
   "name": "python3"
  },
  "language_info": {
   "codemirror_mode": {
    "name": "ipython",
    "version": 3
   },
   "file_extension": ".py",
   "mimetype": "text/x-python",
   "name": "python",
   "nbconvert_exporter": "python",
   "pygments_lexer": "ipython3",
   "version": "3.10.8"
  },
  "orig_nbformat": 4
 },
 "nbformat": 4,
 "nbformat_minor": 2
}
