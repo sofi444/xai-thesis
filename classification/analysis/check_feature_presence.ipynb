{
 "cells": [
  {
   "cell_type": "code",
   "execution_count": 2,
   "metadata": {},
   "outputs": [],
   "source": [
    "import os\n",
    "import json\n",
    "\n",
    "from datasets import load_from_disk\n",
    "\n",
    "\n",
    "PROJECT_DIR = os.path.dirname(os.path.dirname(os.getcwd()))\n",
    "SPLITS_DIR = os.path.join(PROJECT_DIR, \"classification/split_datasets\")\n",
    "\n",
    "base_dataset = load_from_disk(os.path.join(SPLITS_DIR, \"coqa\"))\n",
    "force_aug_dataset = load_from_disk(os.path.join(SPLITS_DIR, \"coqa_force_aug\"))\n",
    "force_aug_noerrors_dataset = force_aug_dataset.copy()"
   ]
  },
  {
   "cell_type": "code",
   "execution_count": 3,
   "metadata": {},
   "outputs": [],
   "source": [
    "# Load maps with errors ids\n",
    "MAPS_DIR = os.path.join(PROJECT_DIR, \"maps\")\n",
    "\n",
    "errors_map = json.load(open(os.path.join(MAPS_DIR, 'errors_idx_uuid_map.json')))\n",
    "errors_idxs = [int(idx) for idx in errors_map.keys()]\n",
    "\n",
    "force_aug_noerrors_dataset['train'] = force_aug_noerrors_dataset['train'].filter(\n",
    "    lambda x: x['pandas_idx'] not in errors_idxs\n",
    ")\n",
    "force_aug_noerrors_dataset['validation'] = force_aug_noerrors_dataset['validation'].filter(\n",
    "    lambda x: x['pandas_idx'] not in errors_idxs\n",
    ")\n",
    "force_aug_noerrors_dataset['test'] = force_aug_noerrors_dataset['test'].filter(\n",
    "    lambda x: x['pandas_idx'] not in errors_idxs\n",
    ")"
   ]
  },
  {
   "cell_type": "code",
   "execution_count": 10,
   "metadata": {},
   "outputs": [
    {
     "name": "stdout",
     "output_type": "stream",
     "text": [
      "Positive instances mean length:  539.1500855188142\n",
      "Negative instances mean length:  637.0677719604421\n"
     ]
    }
   ],
   "source": [
    "# check relation between instance length and class\n",
    "\n",
    "pos_lengths = []\n",
    "neg_lengths = []\n",
    "\n",
    "for split in [force_aug_dataset['train'], force_aug_dataset['validation'], force_aug_dataset['test']]:\n",
    "    for i in split:\n",
    "        if i['label'] == True:\n",
    "            pos_lengths.append(len(i['text']))\n",
    "        else:\n",
    "            neg_lengths.append(len(i['text']))\n",
    "\n",
    "print(\"Positive instances mean length: \", sum(pos_lengths)/len(pos_lengths))\n",
    "print(\"Negative instances mean length: \", sum(neg_lengths)/len(neg_lengths))"
   ]
  },
  {
   "cell_type": "code",
   "execution_count": 9,
   "metadata": {},
   "outputs": [
    {
     "name": "stdout",
     "output_type": "stream",
     "text": [
      "Positive instances mean length:  539.1500855188142\n",
      "Negative instances mean length:  598.9387667097888\n"
     ]
    }
   ],
   "source": [
    "# same for force_aug_noerrors_dataset\n",
    "pos_lengths = []\n",
    "neg_lengths = []\n",
    "\n",
    "for split in [force_aug_noerrors_dataset['train'], force_aug_noerrors_dataset['validation'], force_aug_noerrors_dataset['test']]:\n",
    "    for i in split:\n",
    "        if i['label'] == True:\n",
    "            pos_lengths.append(len(i['text']))\n",
    "        else:\n",
    "            neg_lengths.append(len(i['text']))\n",
    "\n",
    "print(\"Positive instances mean length: \", sum(pos_lengths)/len(pos_lengths))\n",
    "print(\"Negative instances mean length: \", sum(neg_lengths)/len(neg_lengths))"
   ]
  },
  {
   "cell_type": "code",
   "execution_count": 11,
   "metadata": {},
   "outputs": [
    {
     "name": "stdout",
     "output_type": "stream",
     "text": [
      "Positive instances containing none:  15\n",
      "Negative instances containing none:  111\n"
     ]
    }
   ],
   "source": [
    "# check for pos and neg instances containing none\n",
    "pos_none = []\n",
    "neg_none = []\n",
    "\n",
    "for split in [force_aug_dataset['train'], force_aug_dataset['validation'], force_aug_dataset['test']]:\n",
    "    for i in split:\n",
    "        if i['label'] == True:\n",
    "            if \"none\" in i['text']:\n",
    "                pos_none.append(i['text'])\n",
    "        else:\n",
    "            if \"none\" in i['text']:\n",
    "                neg_none.append(i['text'])\n",
    "\n",
    "print(\"Positive instances containing none: \", len(pos_none))\n",
    "print(\"Negative instances containing none: \", len(neg_none))"
   ]
  },
  {
   "cell_type": "code",
   "execution_count": 12,
   "metadata": {},
   "outputs": [
    {
     "name": "stdout",
     "output_type": "stream",
     "text": [
      "Positive instances containing none:  15\n",
      "Negative instances containing none:  16\n"
     ]
    }
   ],
   "source": [
    "# same for force_aug_noerrors_dataset\n",
    "pos_none = []\n",
    "neg_none = []\n",
    "\n",
    "for split in [force_aug_noerrors_dataset['train'], force_aug_noerrors_dataset['validation'], force_aug_noerrors_dataset['test']]:\n",
    "    for i in split:\n",
    "        if i['label'] == True:\n",
    "            if \"none\" in i['text']:\n",
    "                pos_none.append(i['text'])\n",
    "        else:\n",
    "            if \"none\" in i['text']:\n",
    "                neg_none.append(i['text'])\n",
    "                \n",
    "print(\"Positive instances containing none: \", len(pos_none))\n",
    "print(\"Negative instances containing none: \", len(neg_none))"
   ]
  },
  {
   "cell_type": "code",
   "execution_count": 17,
   "metadata": {},
   "outputs": [
    {
     "name": "stdout",
     "output_type": "stream",
     "text": [
      "Positive instances starting with if:  355\n",
      "Negative instances starting with if:  194\n",
      "Positive instances starting with when:  206\n",
      "Negative instances starting with when:  108\n"
     ]
    }
   ],
   "source": [
    "# check for pos and neg instances starting with if or when\n",
    "\n",
    "pos_if = []\n",
    "neg_if = []\n",
    "pos_when = []\n",
    "neg_when = []\n",
    "\n",
    "for split in [force_aug_dataset['train'], force_aug_dataset['validation'], force_aug_dataset['test']]:\n",
    "    for i in split:\n",
    "        if i['label'] == True:\n",
    "            if i['text'].lower().startswith(\"if\"):\n",
    "                pos_if.append(i['text'])\n",
    "            elif i['text'].lower().startswith(\"when\"):\n",
    "                pos_when.append(i['text'])\n",
    "        else:\n",
    "            if i['text'].lower().startswith(\"if\"):\n",
    "                neg_if.append(i['text'])\n",
    "            elif i['text'].lower().startswith(\"when\"):\n",
    "                neg_when.append(i['text'])\n",
    "\n",
    "print(\"Positive instances starting with if: \", len(pos_if))\n",
    "print(\"Negative instances starting with if: \", len(neg_if))\n",
    "print(\"Positive instances starting with when: \", len(pos_when))\n",
    "print(\"Negative instances starting with when: \", len(neg_when))"
   ]
  },
  {
   "cell_type": "code",
   "execution_count": 16,
   "metadata": {},
   "outputs": [
    {
     "name": "stdout",
     "output_type": "stream",
     "text": [
      "Positive instances starting with if:  355\n",
      "Negative instances starting with if:  139\n",
      "Positive instances starting with when:  206\n",
      "Negative instances starting with when:  83\n"
     ]
    }
   ],
   "source": [
    "# same for force_aug_noerrors_dataset\n",
    "pos_if = []\n",
    "neg_if = []\n",
    "pos_when = []\n",
    "neg_when = []\n",
    "\n",
    "for split in [force_aug_noerrors_dataset['train'], force_aug_noerrors_dataset['validation'], force_aug_noerrors_dataset['test']]:\n",
    "    for i in split:\n",
    "        if i['label'] == True:\n",
    "            if i['text'].lower().startswith(\"if\"):\n",
    "                pos_if.append(i['text'])\n",
    "            elif i['text'].lower().startswith(\"when\"):\n",
    "                pos_when.append(i['text'])\n",
    "        else:\n",
    "            if i['text'].lower().startswith(\"if\"):\n",
    "                neg_if.append(i['text'])\n",
    "            elif i['text'].lower().startswith(\"when\"):\n",
    "                neg_when.append(i['text'])\n",
    "\n",
    "print(\"Positive instances starting with if: \", len(pos_if))\n",
    "print(\"Negative instances starting with if: \", len(neg_if))\n",
    "print(\"Positive instances starting with when: \", len(pos_when))\n",
    "print(\"Negative instances starting with when: \", len(neg_when))\n"
   ]
  },
  {
   "cell_type": "code",
   "execution_count": 25,
   "metadata": {},
   "outputs": [
    {
     "name": "stdout",
     "output_type": "stream",
     "text": [
      "Positive instances starting with if you:  143\n",
      "Negative instances starting with if you:  83\n"
     ]
    }
   ],
   "source": [
    "# check for pos and neg instances starting with 'if you' in the force dataset\n",
    "\n",
    "pos_ifyou = []\n",
    "neg_ifyou = []\n",
    "\n",
    "for split in [force_aug_dataset['train'], force_aug_dataset['validation'], force_aug_dataset['test']]:\n",
    "    for i in split:\n",
    "        if i['label'] == True:\n",
    "            if i['text'].lower().startswith(\"if you\"):\n",
    "                pos_ifyou.append(i['text'])\n",
    "        else:\n",
    "            if i['text'].lower().startswith(\"if you\"):\n",
    "                neg_ifyou.append(i['text'])\n",
    "\n",
    "print(\"Positive instances starting with if you: \", len(pos_ifyou))\n",
    "print(\"Negative instances starting with if you: \", len(neg_ifyou))\n",
    "\n"
   ]
  },
  {
   "cell_type": "code",
   "execution_count": 31,
   "metadata": {},
   "outputs": [
    {
     "name": "stdout",
     "output_type": "stream",
     "text": [
      "If you catch your girlfriend lying about seeing another guy, the first thing you'll most likely experience is mistrust. You may also feel hurt and betrayed, which could lead to a broken heart. Depending on the severity of the situation, you may also end up getting dumped. However, being fired or getting caught are not relevant in this scenario. Therefore, the best answer is B. mistrust.\n",
      "If you are fishing but do not catch any fish, you will not be able to get food or eat fish. You could choose to go home or continue fishing in hopes of catching something. Getting drunk is not a likely outcome of not catching fish. It is possible that you may feel frustrated or disappointed, but anger is not the only possible emotion. Therefore, the most appropriate answer is C. go home.\n",
      "If you read a book about something you have little knowledge in, you can definitely learn things. Therefore, option C is correct.\n",
      "If you are loving another and he or she loves you back, it would lead to a mutual feeling of affection and care. This would create a positive and happy relationship between the two individuals. Therefore, the answer would be option C. wonderful.\n",
      "If you're in a war, you are likely to have to fight the enemy. Therefore, the correct answer is B.\n",
      "If you have a cold and plan to stay inside, it would be most convenient to have a tissue holder in a place where you spend most of your time. The options of car, swimming pool, and airplane can be eliminated as they are not relevant to staying inside. Therefore, the best option would be either a convenient spot or a bathroom/bedroom. However, since the question asks for a specific location, the answer would be C. bathroom or bedroom.\n",
      "If you are trying really hard to go to sleep sooner than normal, it means you want to fall asleep earlier than you usually do. So, option E, get up early, doesn't make sense. \n",
      "\n",
      "Option A, dancing, is not related to sleeping at all. \n",
      "\n",
      "Option D, dream, is something that happens during sleep, not before it. \n",
      "\n",
      "Option B, close eyes, is a necessary step to fall asleep, but it's not the only thing you would be trying to do. \n",
      "\n",
      "Therefore, the correct answer is C, rest up. When you try to go to sleep sooner than normal, you are probably feeling tired and want to rest up earlier than usual.\n",
      "If you are blind, using a computer cannot cause eye strain or carpal tunnel syndrome, as these are related to visual and physical strain respectively. However, using a computer can still cause increased efficiency, happiness, or stress, depending on the individual's experience and circumstances. Therefore, the correct answer is D. carpal tunnel syndrome.\n",
      "If you are taking a call while away from work, it means you are not at work. So, options B and E can be eliminated. \n",
      "\n",
      "If you are not able to answer the call and it goes to voice mail or an answering machine, it means you are not available to take the call. So, options C and D can also be eliminated. \n",
      "\n",
      "That leaves us with option A - attracting ducks. However, this option does not make sense in the context of the question. Therefore, the correct answer is: \n",
      "\n",
      "Answer: A. None of the given options are correct.\n",
      "If you have a forgiving attitude toward someone, it means that you are willing to let go of any anger or resentment you may have towards them for something they have done. This can lead to a few different outcomes for the person you are forgiving:\n",
      "\n",
      "A. Redemption: Forgiveness can be a powerful tool for helping someone to redeem themselves. If they have done something wrong and are genuinely remorseful, your forgiveness can help them to move forward and make amends.\n",
      "\n",
      "B. Isolation: If you are forgiving someone who has hurt you, it may be difficult for them to accept your forgiveness. They may feel isolated or rejected, especially if they are not ready to take responsibility for their actions.\n",
      "\n",
      "C. Absolution: Forgiveness can also be seen as a form of absolution, or release from guilt or punishment. If someone has done something wrong and you forgive them, they may feel a sense of relief and freedom from the burden of their guilt.\n",
      "\n",
      "D. Great relief: Forgiveness can be a huge relief for someone who has been carrying around guilt or shame for something they have done. Your forgiveness can help them to let go of those negative feelings and move forward.\n",
      "\n",
      "E. Feel better: Ultimately, if you have a forgiving attitude toward someone, they will likely feel better about themselves and their relationship with you. They may feel more connected to you and more willing to work on repairing any damage that has been done.\n",
      "\n",
      "So, the answer is D. great relief, but it's important to note that forgiveness can have a variety of positive effects on the person you are forgiving.\n",
      "If you stop and have food all around you, it means that you have access to nutrition. Therefore, the correct answer is C. nutrition.\n",
      "If you are wearing too many clothes while hiking, you are likely to experience sweating due to the excess heat trapped by the clothing. This can lead to dehydration and exhaustion, which can cause cramps. Therefore, the correct answer is C. cramps.\n",
      "If you inject water into yourself, it will dilute your bodily fluids, including your blood. This can lead to a condition called hyponatremia, which is a dangerous drop in sodium levels in the blood. Injecting too much water can also cause your cells to swell, which can lead to organ damage and even death. Therefore, the correct answer is A. dilute.\n",
      "If you do not have a pen, the first place to check would be your pocket or bag. If you still cannot find one, you could ask someone nearby if they have a pen you could borrow. Therefore, the answer would be D. pocket.\n",
      "If you're very rude while expressing yourself, it is unlikely that people will understand your message. Your message may be lost in the rudeness and people may become defensive or angry. This means that option A is not correct.\n",
      "\n",
      "Effective communication requires respect and consideration for the other person. Being rude can hinder communication and make it difficult to convey your message. Therefore, option B is also not correct.\n",
      "\n",
      "Being slapped is a physical consequence of being rude, but it is not a likely outcome in most situations. Therefore, option C is not correct.\n",
      "\n",
      "Creation of art and receiving a gift are not related to being rude while expressing yourself. Therefore, options D and E are not correct.\n",
      "\n",
      "The correct answer is B. Communication.\n",
      "If you are cleaning house, you are likely removing dirt, dust, and clutter. This means that the house will become neater and more orderly. Therefore, the correct answer is A. neatness.\n",
      "If you slap a horse's butt while you're on it, it will gallop because you are giving it a signal to move faster. However, if you do so when you're off of it, the horse may not understand the signal and may not move at all. Therefore, none of the options given are completely accurate. However, if we had to choose the closest option, it would be A. run quickly, as the horse may start moving faster in response to the slap.\n",
      "If your house is likely to flood, you should avoid putting the boxes in areas that are prone to water damage. \n",
      "\n",
      "Option A: Garage - Garages are often at ground level and can be prone to flooding. Therefore, it is not a good idea to put the boxes in the garage.\n",
      "\n",
      "Option B: Cellar - A cellar is typically below ground level and can be prone to flooding. Therefore, it is not a good idea to put the boxes in the cellar.\n",
      "\n",
      "Option C: Basement - A basement is also below ground level and can be prone to flooding. Therefore, it is not a good idea to put the boxes in the basement.\n",
      "\n",
      "Option D: Kitchen - The kitchen is typically on the main level of the house and is less likely to flood. However, if your house is prone to flooding, it is still not a good idea to put the boxes in the kitchen as water damage can still occur.\n",
      "\n",
      "Option E: Attic - The attic is typically above ground level and is less likely to flood. Therefore, it is a better option to put the boxes in the attic if your house is likely to flood.\n",
      "\n",
      "Therefore, the answer is E. Attic.\n",
      "If you apply a heat source to combustible materials inside of a building with ill intentions, it can lead to a fire. Therefore, the correct answer is A. fire.\n",
      "If you are resting, it means you are taking a break from any physical or mental activity. If your eyes are closed, it could mean that you are trying to relax or feel better. However, if you are falling asleep, it means that you are transitioning from a state of wakefulness to a state of sleep. Therefore, the most appropriate answer would be D. relaxation.\n",
      "If you have curiosity about what is being displayed on the TV, you can't just go somewhere or read a book. You need to stay in front of the TV to satisfy your curiosity. Seeing your favorite show might not answer your curiosity, so that's not the best option either. \n",
      "\n",
      "Analyzing what is being displayed on the TV is a good option, but it's not something everyone can do. Therefore, the best option would be to search the web. You can find more information about what is being displayed on the TV and satisfy your curiosity. \n",
      "\n",
      "So the answer is A. search the web.\n",
      "If you're going to study in a library, the first thing you need to do is settle down. This means finding a comfortable and quiet spot to sit and study. Once you've settled down, you can start reading books and concentrating on your studies. Therefore, the correct answer is C. settle down.\n",
      "If you are blind and paralyzed, you cannot physically go somewhere or examine things. However, you can still hear news and analyze information. Therefore, the best option would be A. hear news.\n",
      "If you are losing when competing, it is natural to feel disappointed or frustrated. However, if you are admiring the opponent's score, it suggests that you are acknowledging their skill or ability. Therefore, options A, C, and E (anger, jealousy, and hatred) do not fit the situation. Option B (wins) does not make sense grammatically. The most appropriate answer would be D, see work, as you may be observing and analyzing the opponent's technique or strategy to improve your own performance.\n",
      "If you trip while playing basketball, you may lose control of the ball and stop dribbling. You may also fall down and hurt yourself. Therefore, the correct answer is C. hurt yourself.\n",
      "If you tell many people about an embarrassing situation, it is likely to lead to A. notoriety, as more people will become aware of the situation. It may also lead to B. emotional distress, as the person who experienced the embarrassing situation may feel ashamed or humiliated. However, it is unlikely to lead to a riot, bad dreams, or annoyance. Therefore, the correct answer is A. notoriety.\n",
      "If you're still in love with your partner, it's likely that ending the marriage would be a difficult decision. Therefore, options B and C (pleasure and encouragement) can be ruled out. \n",
      "\n",
      "Option A (wrong) could be a possible emotion if you feel guilty or regretful about the decision to end the marriage. \n",
      "\n",
      "Option D (depression) is also a possibility, as ending a marriage can be a significant loss and lead to feelings of sadness and grief. \n",
      "\n",
      "However, option E (relief) seems to be the most likely emotion. If you're still in love with your partner but the marriage is no longer working, ending it can bring a sense of relief and release from the stress and unhappiness of the relationship. \n",
      "\n",
      "Therefore, the answer is E. relief.\n",
      "If you talk to others about false stories, it could lead to adverse reactions if they feel offended or misled by the false information. It could also lead to rumors spreading if the false stories are not corrected or clarified. However, if you use the opportunity to teach others about the truth and increase their understanding, it could lead to friendship and increased understanding. \n",
      "\n",
      "Therefore, the answer could be either A, D, or E depending on the context and approach of the conversation. However, since we are asked to choose exactly one option, the most appropriate answer would be A, adverse reaction, as it is the most likely outcome if false stories are not handled carefully.\n",
      "If you let go of a balloon, it will no longer be held down by anything and will be free to move. Therefore, it will go in the direction of any force acting on it. The only option that describes a direction is option C, \"away.\" Therefore, the answer is C.\n",
      "If you were lazy, you would want to do something that requires minimal effort. Watching television fits this criteria because you can just sit or lie down and not have to move much. So, the answer would be D. get comfortable.\n",
      "If you do not have anything to put your sunglasses in, you can either wear them on your head or put them in a secure place. Option A, stores along the beach, may have sunglass holders or cases available for purchase, but it is not a guaranteed solution. Option C, eye doctor, is not a practical solution as it is unlikely that you would have access to an eye doctor at the moment. Option D, drugstore, may have sunglass holders or cases available for purchase, but it is not a guaranteed solution. Option E, a bag, is a practical solution if you have a bag with you. Therefore, the best answer is E.\n",
      "If your hands are wet while bathing, you would still be able to dry your skin with a towel (option A) and use soap (option D). However, you may have difficulty holding onto objects due to the slippery nature of wet hands, which could lead to slipping and falling (option B). Reading a book (option C) or newspaper (option E) would also be difficult as the pages would become wet and difficult to handle. Therefore, the correct answer is B. slip and fall.\n",
      "If you're expressing yourself in a public forum, you may experience embarrassment if your ideas or opinions are not well received by the audience. You may also experience blank stares if the audience is not engaged or interested in what you're saying. However, danger and getting arrested are unlikely unless you're expressing illegal or harmful ideas. Stage fright is possible, but not necessarily a given. Therefore, the best answer is B. embarrassment.\n",
      "If you're remembering something, it means that the information was stored in your brain at some point. So, the correct answer is A. knowledge.\n",
      "If you are staying in bed and not moving at all, it is unlikely that you are picking fleas off your dog, as this would require some movement. Similarly, if you are reading a book, you would need to turn the pages and adjust your position, so this option is also unlikely. \n",
      "\n",
      "Option E, dozing, is a possibility, as you may be lying in bed resting or napping. However, the most likely answer is D, reading a book. If you are engrossed in a good book, you may stay in bed for hours without moving, lost in the story. This is a common reason for people to spend extended periods of time in bed without getting up. \n",
      "\n",
      "Option A, very private, is not a likely reason for staying in bed and not moving at all, as this does not explain why you would be lying down and not engaging in any activity. Therefore, the correct answer is D, reading a book.\n",
      "If your spouse abandons you, it means that your marriage has ended. Therefore, the correct answer is A. marriage.\n",
      "If you just met someone, it is likely that they would want to acknowledge your presence and initiate a conversation. Therefore, the most appropriate option would be E. say hello.\n",
      "If you eat a hamburger that's very big, you will likely get full. However, if you continue to eat large hamburgers regularly, you may end up gaining weight and potentially becoming overweight or obese. Therefore, the answer is E. getting fat.\n",
      "If you are competing against a fighter with better training, it means that they have more experience and skills than you. Therefore, it is likely that you will get a disadvantage in the fight. Option A, pride, is not a likely outcome as losing to a better fighter can be humbling. Option B, a free hat, is not relevant to the situation. Option C, emotions, may be a factor but it is not a guaranteed outcome. Option D, injury, is a possibility as fighting against a more skilled opponent can increase the risk of getting hurt. Option E, one winner, is the most likely outcome as there can only be one winner in a fight. Therefore, the correct answer is E.\n",
      "If you are full, it means that you have eaten enough food and your stomach is full. This has no direct impact on your clothes. Therefore, options A, C, D, and E are not correct. The correct answer is B, incomplete, as it does not describe any change in your clothes due to being full.\n",
      "If you do not have a ball, you cannot get one from a bowling alley, soccer field, or sporting event because those places assume you already have a ball to participate. \n",
      "\n",
      "You could potentially get a ball from a sporting goods store, but that would require purchasing one. \n",
      "\n",
      "Therefore, the best option would be to choose E. cuddle, as this option does not require a ball and provides an alternative activity.\n",
      "If you have rest, it means that you are not currently working or exerting yourself. So, we can eliminate options B and C. \n",
      "\n",
      "Option D is similar to option C, so we can eliminate that as well. \n",
      "\n",
      "Option E is a possible outcome of having rest, but it doesn't necessarily indicate what happened earlier. \n",
      "\n",
      "That leaves us with option A, which is the best answer. If you have rest, it means that you took it easy earlier and allowed yourself time to relax and recharge.\n",
      "If you are drowning, the most important thing to do is to breathe. So the correct answer is C. breathe.\n",
      "If you are away, it means you are not currently present or staying here. Therefore, options A, D, and E can be eliminated. \n",
      "\n",
      "Option B, \"come back,\" implies that you were previously here and left, but it doesn't necessarily mean you are currently away. \n",
      "\n",
      "Option C, \"come here,\" is also not correct because if you are away, you cannot come here. \n",
      "\n",
      "Therefore, the correct answer is E. present.\n",
      "If you don't use a towel after getting wet, your body will not dry (option D). This can lead to feeling cold (option C) and shivering (option A) as the water on your skin evaporates and cools your body. However, there is no evidence to suggest that not using a towel after getting wet will cause shrinkage (option B) or melting (option E). Therefore, the correct answer is D.\n",
      "If you were to start communicating to others, it is likely that they would respond in some way. The options given suggest positive reactions, such as engagement, exchanging ideas, and sharing of knowledge. Therefore, the most appropriate answer would be A. engagement.\n",
      "If you buy products in excess, you will likely spend money. This is because you are purchasing more than what you actually need, which means you are spending money on items that may go to waste or not be used. Additionally, overstocking may lead to clutter and disorganization, which can make it difficult to find and use the items you actually need. Therefore, the most likely result of buying products in excess is B. spending money.\n",
      "If you don't put trash in a proper receptacle, it won't magically disappear. It will likely end up on the ground or in a parking lot. However, eventually, it will be collected and taken to a garbage dump or landfill. So the correct answer is either A or D. Therefore, the answer is A. garbage dump.\n",
      "If you cannot see a cloud because it is too dark, it means that it is nighttime or the sky is overcast. Therefore, option A (night or day) and option E (blue sky) can be eliminated. \n",
      "\n",
      "Option B (weather report) is not relevant to the question as it is asking about what can be distinguished when a cloud cannot be seen. \n",
      "\n",
      "Option D (atmosphere) is too broad and does not specifically answer the question. \n",
      "\n",
      "The only relevant option left is C (rain or sunlight). Even if a cloud cannot be seen, one can still distinguish whether it is raining or if there is sunlight shining through the clouds. Therefore, the correct answer is C.\n",
      "If you have a lot of money after cashing in your chips at a casino, the casino owner would most likely feel happy or satisfied because it means that you have spent a significant amount of money at their establishment. Therefore, the correct answer is C. get money.\n",
      "If you wanted to use a net for sports, it could be used in soccer, badminton, or other sports that require a net. If you wanted to use a net for fishing, it would be used with fishing gear or on a fishing boat. Therefore, the answer could be either A, B, D, or E depending on the specific use intended. However, since only one option can be chosen, the best answer would be A, sports, as it encompasses the most possibilities.\n",
      "If you pour out garbage waste on the road, it will not go to the sewer because the sewer is designed to handle only water and human waste. It will not go to the garbage dump either because you are not disposing of it properly. It will not go to the school either because that is not a place for garbage disposal. \n",
      "\n",
      "It may stay on the street for a while, but eventually, it will be washed away by rainwater or carried away by wind and end up in the nearest drainage system. From there, it may end up in a river or the ocean, causing pollution and harm to the environment. \n",
      "\n",
      "Therefore, the most appropriate answer is C. street. However, it is important to note that pouring out garbage waste on the street is not a responsible or sustainable way of disposing of waste. It is important to properly dispose of waste in designated garbage cans or recycling bins.\n",
      "If you agree with someone, it means you share the same opinion or view. If you have fun with that person, it means you enjoy spending time together. So, agreeing with someone who you have fun with can lead to a sense of harmony between you two. Therefore, the correct answer is C. harmony.\n",
      "If you want to own pamphlets, you would need to obtain them from a source that provides them for free or for purchase. A bookstore may have pamphlets for sale, but they may not be free. A drawer is not a place where you can obtain pamphlets. The health department may have pamphlets related to health and wellness, but it may not have pamphlets on other topics. A mailbox is where you receive mail, but it is unlikely that you would receive pamphlets in your mailbox unless they were sent to you specifically. Therefore, the best option would be to go to a library, where you can find a variety of pamphlets on different topics and borrow them or purchase them if they are available for sale. \n",
      "\n",
      "The correct answer is E. library.\n",
      "If you don't watch where you place your feet while running, there is a possibility that you may trip or fall. Therefore, the answer is either D or E. Since you must choose exactly one option, the answer is E - you may fall.\n",
      "If you are playing a game, you may experience stress if the game is challenging or competitive. However, you may also experience competition and have fun while playing the game. Ultimately, the purpose of playing a game is to entertain yourself, so the correct answer is E. entertain.\n",
      "If you needed help with answering questions, getting tired (option A) would not be helpful at all. It would only make you less focused and less able to answer questions. A better grade (option B) might be a goal, but it is not a helpful action to take in the moment. Sharing information (option C) could be helpful if you are working with others or seeking advice from someone knowledgeable. Being interesting (option D) might make the process more enjoyable, but it does not necessarily help with answering questions. Finally, teaching (option E) can be a very effective way to learn and understand material better, so this would be the most helpful option. Therefore, the answer is E. teaching.\n",
      "If you were to stand up and put one leg in front of the other repeatedly, you would be moving around. Therefore, the correct answer is C. move around.\n",
      "If you have too much greed, you may prioritize your own desires over others, which could lead to lying or cheating to get what you want. This could also make it difficult to make and keep friends, as people may not trust or want to be around someone who is solely focused on their own gain. Additionally, if you are too greedy, you may struggle to keep things, as you may constantly want more and be unwilling to share or let go of what you have. Therefore, the correct answer is A. keep things.\n",
      "If you are forgiving, it means you are letting go of any anger or resentment towards someone who has wronged you. This can lead to a sense of peace and a good heart. However, your conscience may still feel the need for justice or vengeance. So, the most appropriate answer would be B. peace.\n",
      "Positive instances containing if you:  143\n",
      "Negative instances containing if you:  60\n"
     ]
    }
   ],
   "source": [
    "# check for pos and neg instances starting with 'if you' in the noerrors dataset\n",
    "\n",
    "pos_ifyou = []\n",
    "neg_ifyou = []\n",
    "\n",
    "for split in [force_aug_noerrors_dataset['train'], force_aug_noerrors_dataset['validation'], force_aug_noerrors_dataset['test']]:\n",
    "    for i in split:\n",
    "        if i['label'] == True:\n",
    "            if i['text'].lower().startswith(\"if you\"):\n",
    "                pos_ifyou.append(i['text'])\n",
    "        else:\n",
    "            if i['text'].lower().startswith(\"if you\"):\n",
    "                neg_ifyou.append(i['text'])\n",
    "                print(i['text'])\n",
    "\n",
    "print(\"Positive instances containing if you: \", len(pos_ifyou))\n",
    "print(\"Negative instances containing if you: \", len(neg_ifyou))"
   ]
  },
  {
   "cell_type": "code",
   "execution_count": 19,
   "metadata": {},
   "outputs": [
    {
     "name": "stdout",
     "output_type": "stream",
     "text": [
      "Positive instances containing eliminate:  1235\n",
      "Negative instances containing eliminate:  662\n"
     ]
    }
   ],
   "source": [
    "# check for word 'elminate' in pos and neg instances \n",
    "\n",
    "pos_eliminate = []\n",
    "neg_eliminate = []\n",
    "\n",
    "for split in [force_aug_dataset['train'], force_aug_dataset['validation'], force_aug_dataset['test']]:\n",
    "    for i in split:\n",
    "        if i['label'] == True:\n",
    "            if \"eliminate\" in i['text'].lower():\n",
    "                pos_eliminate.append(i['text'])\n",
    "        else:\n",
    "            if \"eliminate\" in i['text'].lower():\n",
    "                neg_eliminate.append(i['text'])\n",
    "\n",
    "print(\"Positive instances containing eliminate: \", len(pos_eliminate))\n",
    "print(\"Negative instances containing eliminate: \", len(neg_eliminate))"
   ]
  },
  {
   "cell_type": "code",
   "execution_count": 20,
   "metadata": {},
   "outputs": [
    {
     "name": "stdout",
     "output_type": "stream",
     "text": [
      "Positive instances containing possib:  1668\n",
      "Negative instances containing possib:  1322\n"
     ]
    }
   ],
   "source": [
    "# check for word 'possib' in pos and neg instances\n",
    "\n",
    "pos_possib = []\n",
    "neg_possib = []\n",
    "\n",
    "for split in [force_aug_dataset['train'], force_aug_dataset['validation'], force_aug_dataset['test']]:\n",
    "    for i in split:\n",
    "        if i['label'] == True:\n",
    "            if \"possib\" in i['text'].lower():\n",
    "                pos_possib.append(i['text'])\n",
    "        else:\n",
    "            if \"possib\" in i['text'].lower():\n",
    "                neg_possib.append(i['text'])\n",
    "            \n",
    "print(\"Positive instances containing possib: \", len(pos_possib))\n",
    "print(\"Negative instances containing possib: \", len(neg_possib))\n"
   ]
  },
  {
   "cell_type": "code",
   "execution_count": 21,
   "metadata": {},
   "outputs": [
    {
     "name": "stdout",
     "output_type": "stream",
     "text": [
      "Positive instances containing possib:  1668\n",
      "Negative instances containing possib:  811\n"
     ]
    }
   ],
   "source": [
    "# same for force_aug_noerrors_dataset\n",
    "pos_possib = []\n",
    "neg_possib = []\n",
    "\n",
    "for split in [force_aug_noerrors_dataset['train'], force_aug_noerrors_dataset['validation'], force_aug_noerrors_dataset['test']]:\n",
    "    for i in split:\n",
    "        if i['label'] == True:\n",
    "            if \"possib\" in i['text'].lower():\n",
    "                pos_possib.append(i['text'])\n",
    "        else:\n",
    "            if \"possib\" in i['text'].lower():\n",
    "                neg_possib.append(i['text'])\n",
    "\n",
    "print(\"Positive instances containing possib: \", len(pos_possib))\n",
    "print(\"Negative instances containing possib: \", len(neg_possib))\n"
   ]
  },
  {
   "cell_type": "code",
   "execution_count": 22,
   "metadata": {},
   "outputs": [
    {
     "name": "stdout",
     "output_type": "stream",
     "text": [
      "Positive instances containing based on:  408\n",
      "Negative instances containing based on:  474\n"
     ]
    }
   ],
   "source": [
    "# check for word 'based on' in pos and neg instances\n",
    "\n",
    "pos_basedon = []\n",
    "neg_basedon = []\n",
    "\n",
    "for split in [force_aug_dataset['train'], force_aug_dataset['validation'], force_aug_dataset['test']]:\n",
    "    for i in split:\n",
    "        if i['label'] == True:\n",
    "            if \"based on\" in i['text'].lower():\n",
    "                pos_basedon.append(i['text'])\n",
    "        else:\n",
    "            if \"based on\" in i['text'].lower():\n",
    "                neg_basedon.append(i['text'])\n",
    "\n",
    "print(\"Positive instances containing based on: \", len(pos_basedon))\n",
    "print(\"Negative instances containing based on: \", len(neg_basedon))"
   ]
  },
  {
   "cell_type": "code",
   "execution_count": 23,
   "metadata": {},
   "outputs": [
    {
     "name": "stdout",
     "output_type": "stream",
     "text": [
      "Positive instances containing based on:  408\n",
      "Negative instances containing based on:  289\n"
     ]
    }
   ],
   "source": [
    "# same for force_aug_noerrors_dataset\n",
    "pos_basedon = []\n",
    "neg_basedon = []\n",
    "\n",
    "for split in [force_aug_noerrors_dataset['train'], force_aug_noerrors_dataset['validation'], force_aug_noerrors_dataset['test']]:\n",
    "    for i in split:\n",
    "        if i['label'] == True:\n",
    "            if \"based on\" in i['text'].lower():\n",
    "                pos_basedon.append(i['text'])\n",
    "        else:\n",
    "            if \"based on\" in i['text'].lower():\n",
    "                neg_basedon.append(i['text'])\n",
    "\n",
    "print(\"Positive instances containing based on: \", len(pos_basedon))\n",
    "print(\"Negative instances containing based on: \", len(neg_basedon))"
   ]
  },
  {
   "cell_type": "code",
   "execution_count": 34,
   "metadata": {},
   "outputs": [
    {
     "name": "stdout",
     "output_type": "stream",
     "text": [
      "Positive instances containing as they:  834\n",
      "Negative instances containing as they:  444\n"
     ]
    }
   ],
   "source": [
    "# check for 'as they' in pos and neg instances\n",
    "\n",
    "pos_asthey = []\n",
    "neg_asthey = []\n",
    "\n",
    "for split in [force_aug_dataset['train'], force_aug_dataset['validation'], force_aug_dataset['test']]:\n",
    "    for i in split:\n",
    "        if i['label'] == True:\n",
    "            if \"as they\" in i['text'].lower():\n",
    "                pos_asthey.append(i['text'])\n",
    "        else:\n",
    "            if \"as they\" in i['text'].lower():\n",
    "                neg_asthey.append(i['text'])\n",
    "\n",
    "print(\"Positive instances containing as they: \", len(pos_asthey))\n",
    "print(\"Negative instances containing as they: \", len(neg_asthey))\n"
   ]
  },
  {
   "cell_type": "code",
   "execution_count": 35,
   "metadata": {},
   "outputs": [
    {
     "name": "stdout",
     "output_type": "stream",
     "text": [
      "Positive instances containing as they:  834\n",
      "Negative instances containing as they:  328\n"
     ]
    }
   ],
   "source": [
    "# same for force_aug_noerrors_dataset\n",
    "pos_asthey = []\n",
    "neg_asthey = []\n",
    "\n",
    "for split in [force_aug_noerrors_dataset['train'], force_aug_noerrors_dataset['validation'], force_aug_noerrors_dataset['test']]:\n",
    "    for i in split:\n",
    "        if i['label'] == True:\n",
    "            if \"as they\" in i['text'].lower():\n",
    "                pos_asthey.append(i['text'])\n",
    "        else:\n",
    "            if \"as they\" in i['text'].lower():\n",
    "                neg_asthey.append(i['text'])\n",
    "\n",
    "print(\"Positive instances containing as they: \", len(pos_asthey))\n",
    "print(\"Negative instances containing as they: \", len(neg_asthey))"
   ]
  },
  {
   "cell_type": "code",
   "execution_count": 32,
   "metadata": {},
   "outputs": [
    {
     "name": "stdout",
     "output_type": "stream",
     "text": [
      "Positive instances starting with if you and containing as they:  4\n",
      "Negative instances starting with if you and containing as they:  2\n"
     ]
    }
   ],
   "source": [
    "# check for instances starting with 'if you' and containing 'as they'\n",
    "\n",
    "pos_ifyou_asthey = []\n",
    "neg_ifyou_asthey = []\n",
    "\n",
    "for split in [force_aug_dataset['train'], force_aug_dataset['validation'], force_aug_dataset['test']]:\n",
    "    for i in split:\n",
    "        if i['label'] == True:\n",
    "            if i['text'].lower().startswith(\"if you\") and \"as they\" in i['text'].lower():\n",
    "                pos_ifyou_asthey.append(i['text'])\n",
    "        else:\n",
    "            if i['text'].lower().startswith(\"if you\") and \"as they\" in i['text'].lower():\n",
    "                neg_ifyou_asthey.append(i['text'])\n",
    "\n",
    "print(\"Positive instances starting with if you and containing as they: \", len(pos_ifyou_asthey))\n",
    "print(\"Negative instances starting with if you and containing as they: \", len(neg_ifyou_asthey))\n"
   ]
  },
  {
   "cell_type": "code",
   "execution_count": 33,
   "metadata": {},
   "outputs": [
    {
     "name": "stdout",
     "output_type": "stream",
     "text": [
      "Positive instances starting with if you and containing as they:  4\n",
      "Negative instances starting with if you and containing as they:  1\n"
     ]
    }
   ],
   "source": [
    "# same for force_aug_noerrors_dataset\n",
    "\n",
    "pos_ifyou_asthey = []\n",
    "neg_ifyou_asthey = []\n",
    "\n",
    "for split in [force_aug_noerrors_dataset['train'], force_aug_noerrors_dataset['validation'], force_aug_noerrors_dataset['test']]:\n",
    "    for i in split:\n",
    "        if i['label'] == True:\n",
    "            if i['text'].lower().startswith(\"if you\") and \"as they\" in i['text'].lower():\n",
    "                pos_ifyou_asthey.append(i['text'])\n",
    "        else:\n",
    "            if i['text'].lower().startswith(\"if you\") and \"as they\" in i['text'].lower():\n",
    "                neg_ifyou_asthey.append(i['text'])\n",
    "\n",
    "\n",
    "print(\"Positive instances starting with if you and containing as they: \", len(pos_ifyou_asthey))\n",
    "print(\"Negative instances starting with if you and containing as they: \", len(neg_ifyou_asthey))"
   ]
  },
  {
   "cell_type": "code",
   "execution_count": 39,
   "metadata": {},
   "outputs": [
    {
     "name": "stdout",
     "output_type": "stream",
     "text": [
      "Positive instances starting with if you and containing as they and possib:  9\n",
      "Negative instances starting with if you and containing as they and possib:  1\n"
     ]
    }
   ],
   "source": [
    "# check for instances containing 'as they', 'if you' and 'possib'\n",
    "\n",
    "pos_ifyou_asthey_possib = []\n",
    "neg_ifyou_asthey_possib = []\n",
    "\n",
    "for split in [force_aug_dataset['train'], force_aug_dataset['validation'], force_aug_dataset['test']]:\n",
    "    for i in split:\n",
    "        if i['label'] == True:\n",
    "            if \"if you\" in i['text'].lower() and \"as they\" in i['text'].lower() and \"possib\" in i['text'].lower():\n",
    "                pos_ifyou_asthey_possib.append(i['text'])\n",
    "        else:\n",
    "            if \"if you\" in i['text'].lower() and \"as they\" in i['text'].lower() and \"possib\" in i['text'].lower():\n",
    "                neg_ifyou_asthey_possib.append(i['text'])\n",
    "\n",
    "print(\"Positive instances starting with if you and containing as they and possib: \", len(pos_ifyou_asthey_possib))\n",
    "print(\"Negative instances starting with if you and containing as they and possib: \", len(neg_ifyou_asthey_possib))\n"
   ]
  },
  {
   "cell_type": "code",
   "execution_count": 41,
   "metadata": {},
   "outputs": [
    {
     "name": "stdout",
     "output_type": "stream",
     "text": [
      "Positive instances with if you, as they and possib:  9\n",
      "Negative instances with if you, as they and possib:  0\n"
     ]
    }
   ],
   "source": [
    "# same for force_aug_noerrors_dataset\n",
    "\n",
    "pos_ifyou_asthey_possib = []\n",
    "neg_ifyou_asthey_possib = []\n",
    "\n",
    "for split in [force_aug_noerrors_dataset['train'], force_aug_noerrors_dataset['validation'], force_aug_noerrors_dataset['test']]:\n",
    "    for i in split:\n",
    "        if i['label'] == True:\n",
    "            if \"if you\" in i['text'].lower() and \"as they\" in i['text'].lower() and \"possib\" in i['text'].lower():\n",
    "                pos_ifyou_asthey_possib.append(i['text'])\n",
    "        else:\n",
    "            if \"if you\" in i['text'].lower() and \"as they\" in i['text'].lower() and \"possib\" in i['text'].lower():\n",
    "                neg_ifyou_asthey_possib.append(i['text'])\n",
    "\n",
    "print(\"Positive instances with if you, as they and possib: \", len(pos_ifyou_asthey_possib))\n",
    "print(\"Negative instances with if you, as they and possib: \", len(neg_ifyou_asthey_possib))"
   ]
  },
  {
   "cell_type": "code",
   "execution_count": 43,
   "metadata": {},
   "outputs": [
    {
     "name": "stdout",
     "output_type": "stream",
     "text": [
      "Positive instances with if you, as they and based on:  1\n",
      "Negative instances with if you, as they and based on:  0\n"
     ]
    }
   ],
   "source": [
    "# check for instances containing 'as they', 'if you' and 'based on' in both datasets\n",
    "\n",
    "pos_ifyou_asthey_basedon = []\n",
    "neg_ifyou_asthey_basedon = []\n",
    "\n",
    "for split in [force_aug_dataset['train'], force_aug_dataset['validation'], force_aug_dataset['test']]:\n",
    "    for i in split:\n",
    "        if i['label'] == True:\n",
    "            if \"if you\" in i['text'].lower() and \"as they\" in i['text'].lower() and \"based on\" in i['text'].lower():\n",
    "                pos_ifyou_asthey_basedon.append(i['text'])\n",
    "        else:\n",
    "            if \"if you\" in i['text'].lower() and \"as they\" in i['text'].lower() and \"based on\" in i['text'].lower():\n",
    "                neg_ifyou_asthey_basedon.append(i['text'])\n",
    "\n",
    "print(\"Positive instances with if you, as they and based on: \", len(pos_ifyou_asthey_basedon))\n",
    "print(\"Negative instances with if you, as they and based on: \", len(neg_ifyou_asthey_basedon))"
   ]
  },
  {
   "cell_type": "code",
   "execution_count": 49,
   "metadata": {},
   "outputs": [
    {
     "name": "stdout",
     "output_type": "stream",
     "text": [
      "Positive instances with if you and based on:  10\n",
      "Negative instances with if you and based on:  19\n",
      "Positive instances with if you and based on:  10\n",
      "Negative instances with if you and based on:  11\n"
     ]
    }
   ],
   "source": [
    "# check for instances containing 'if you' and 'based on' in both datasets\n",
    "\n",
    "pos_ifyou_basedon = []\n",
    "neg_ifyou_basedon = []\n",
    "\n",
    "for split in [force_aug_dataset['train'], force_aug_dataset['validation'], force_aug_dataset['test']]:\n",
    "    for i in split:\n",
    "        if i['label'] == True:\n",
    "            if \"if you\" in i['text'].lower() and \"based on\" in i['text'].lower():\n",
    "                pos_ifyou_basedon.append(i['text'])\n",
    "        else:\n",
    "            if \"if you\" in i['text'].lower() and \"based on\" in i['text'].lower():\n",
    "                neg_ifyou_basedon.append(i['text'])\n",
    "\n",
    "print(\"Positive instances with if you and based on: \", len(pos_ifyou_basedon))\n",
    "print(\"Negative instances with if you and based on: \", len(neg_ifyou_basedon))\n",
    "\n",
    "pos_ifyou_basedon = []\n",
    "neg_ifyou_basedon = []\n",
    "\n",
    "for split in [force_aug_noerrors_dataset['train'], force_aug_noerrors_dataset['validation'], force_aug_noerrors_dataset['test']]:\n",
    "    for i in split:\n",
    "        if i['label'] == True:\n",
    "            # if you at the start\n",
    "            #if i['text'].lower().startswith(\"if you\") and \"based on\" in i['text'].lower():\n",
    "            # if you or when you at the start\n",
    "            #if i['text'].lower().startswith(\"if you\") or i['text'].lower().startswith(\"when you\") and \"based on\" in i['text'].lower():\n",
    "            # if you anywhere\n",
    "            if \"if you\" in i['text'].lower() and \"based on\" in i['text'].lower():\n",
    "                pos_ifyou_basedon.append(i['text'])\n",
    "        else:\n",
    "            # if you at the start\n",
    "            #if i['text'].lower().startswith(\"if you\") and \"based on\" in i['text'].lower():\n",
    "            # if you or when you at the start\n",
    "            #if i['text'].lower().startswith(\"if you\") or i['text'].lower().startswith(\"when you\") and \"based on\" in i['text'].lower():\n",
    "            # if you anywhere\n",
    "            if \"if you\" in i['text'].lower() and \"based on\" in i['text'].lower():\n",
    "                neg_ifyou_basedon.append(i['text'])\n",
    "\n",
    "print(\"Positive instances with if you and based on: \", len(pos_ifyou_basedon))\n",
    "print(\"Negative instances with if you and based on: \", len(neg_ifyou_basedon))"
   ]
  },
  {
   "cell_type": "code",
   "execution_count": 50,
   "metadata": {},
   "outputs": [
    {
     "name": "stdout",
     "output_type": "stream",
     "text": [
      "Force_aug_noerrors:  (11, 10)\n",
      "Force_aug:  (19, 10)\n",
      "Base:  (11, 8)\n"
     ]
    }
   ],
   "source": [
    "# check for instances starting with 'if you' and containing 'based on'\n",
    "\n",
    "ifyou_basedon_base = () # tuple of (neg, pos)\n",
    "ifyou_basedon_force = ()\n",
    "ifyou_basedon_force_noerrors = ()\n",
    "\n",
    "def get_ifyou_basedon_nums(dataset):\n",
    "    pos, neg = 0, 0\n",
    "    for split in [dataset['train'], dataset['validation'], dataset['test']]:\n",
    "        for i in split:\n",
    "            #if you at the start\n",
    "            #if i['text'].lower().startswith(\"if you\") and \"based on\" in i['text'].lower():\n",
    "            # if you anywhere\n",
    "            if \"if you\" in i['text'].lower() and \"based on\" in i['text'].lower():\n",
    "                if i['label'] == True:\n",
    "                    pos += 1\n",
    "                else:\n",
    "                    neg += 1\n",
    "    return (neg, pos)\n",
    "\n",
    "print(\"Force_aug_noerrors: \", get_ifyou_basedon_nums(force_aug_noerrors_dataset))\n",
    "print(\"Force_aug: \", get_ifyou_basedon_nums(force_aug_dataset))\n",
    "print(\"Base: \", get_ifyou_basedon_nums(base_dataset))"
   ]
  },
  {
   "cell_type": "code",
   "execution_count": null,
   "metadata": {},
   "outputs": [],
   "source": []
  }
 ],
 "metadata": {
  "kernelspec": {
   "display_name": "thesis-venv",
   "language": "python",
   "name": "python3"
  },
  "language_info": {
   "codemirror_mode": {
    "name": "ipython",
    "version": 3
   },
   "file_extension": ".py",
   "mimetype": "text/x-python",
   "name": "python",
   "nbconvert_exporter": "python",
   "pygments_lexer": "ipython3",
   "version": "3.10.8"
  }
 },
 "nbformat": 4,
 "nbformat_minor": 2
}
